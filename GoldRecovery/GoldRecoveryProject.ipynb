{
 "cells": [
  {
   "cell_type": "markdown",
   "metadata": {
    "toc": true
   },
   "source": [
    "<h1>Содержание<span class=\"tocSkip\"></span></h1>\n",
    "<div class=\"toc\"><ul class=\"toc-item\"><li><span><a href=\"#Вступление\" data-toc-modified-id=\"Вступление-1\"><span class=\"toc-item-num\">1&nbsp;&nbsp;</span>Вступление</a></span></li><li><span><a href=\"#Подготовка-данных\" data-toc-modified-id=\"Подготовка-данных-2\"><span class=\"toc-item-num\">2&nbsp;&nbsp;</span>Подготовка данных</a></span><ul class=\"toc-item\"><li><span><a href=\"#Изучение-данных\" data-toc-modified-id=\"Изучение-данных-2.1\"><span class=\"toc-item-num\">2.1&nbsp;&nbsp;</span>Изучение данных</a></span></li><li><span><a href=\"#Сравнение-ранее-созданного-recovery-и-высчитанного-нами-recovery\" data-toc-modified-id=\"Сравнение-ранее-созданного-recovery-и-высчитанного-нами-recovery-2.2\"><span class=\"toc-item-num\">2.2&nbsp;&nbsp;</span>Сравнение ранее созданного recovery и высчитанного нами recovery</a></span></li><li><span><a href=\"#Анализ-признаков,-которых-нет-в-тестовой-выборке\" data-toc-modified-id=\"Анализ-признаков,-которых-нет-в-тестовой-выборке-2.3\"><span class=\"toc-item-num\">2.3&nbsp;&nbsp;</span>Анализ признаков, которых нет в тестовой выборке</a></span></li><li><span><a href=\"#Предобработка-данных\" data-toc-modified-id=\"Предобработка-данных-2.4\"><span class=\"toc-item-num\">2.4&nbsp;&nbsp;</span>Предобработка данных</a></span></li></ul></li><li><span><a href=\"#Анализ-данных\" data-toc-modified-id=\"Анализ-данных-3\"><span class=\"toc-item-num\">3&nbsp;&nbsp;</span>Анализ данных</a></span><ul class=\"toc-item\"><li><span><a href=\"#Концентрация-металлов\" data-toc-modified-id=\"Концентрация-металлов-3.1\"><span class=\"toc-item-num\">3.1&nbsp;&nbsp;</span>Концентрация металлов</a></span></li><li><span><a href=\"#Распределения-размеров-гранул-сырья\" data-toc-modified-id=\"Распределения-размеров-гранул-сырья-3.2\"><span class=\"toc-item-num\">3.2&nbsp;&nbsp;</span>Распределения размеров гранул сырья</a></span></li><li><span><a href=\"#Суммарную-концентрацию-всех-веществ-на-разных-стадиях\" data-toc-modified-id=\"Суммарную-концентрацию-всех-веществ-на-разных-стадиях-3.3\"><span class=\"toc-item-num\">3.3&nbsp;&nbsp;</span>Суммарную концентрацию всех веществ на разных стадиях</a></span></li></ul></li><li><span><a href=\"#Модель\" data-toc-modified-id=\"Модель-4\"><span class=\"toc-item-num\">4&nbsp;&nbsp;</span>Модель</a></span></li><li><span><a href=\"#Общий-вывод\" data-toc-modified-id=\"Общий-вывод-5\"><span class=\"toc-item-num\">5&nbsp;&nbsp;</span>Общий вывод</a></span></li><li><span><a href=\"#Чек-лист-готовности-проекта\" data-toc-modified-id=\"Чек-лист-готовности-проекта-6\"><span class=\"toc-item-num\">6&nbsp;&nbsp;</span>Чек-лист готовности проекта</a></span></li></ul></div>"
   ]
  },
  {
   "cell_type": "markdown",
   "metadata": {},
   "source": [
    "# Восстановление золота из руды"
   ]
  },
  {
   "cell_type": "markdown",
   "metadata": {},
   "source": [
    "Подготовьте прототип модели машинного обучения для «Цифры». Компания разрабатывает решения для эффективной работы промышленных предприятий.\n",
    "\n",
    "Модель должна предсказать коэффициент восстановления золота из золотосодержащей руды. Используйте данные с параметрами добычи и очистки. \n",
    "\n",
    "Модель поможет оптимизировать производство, чтобы не запускать предприятие с убыточными характеристиками."
   ]
  },
  {
   "cell_type": "markdown",
   "metadata": {},
   "source": [
    "## Вступление"
   ]
  },
  {
   "cell_type": "markdown",
   "metadata": {},
   "source": [
    "Добрый день, я Атаков Александр и сегодня  мы с вами рассмотрим проект компании \"Цифра\". Дели и описание написаны сверху, но хочется отметить некоторые моменты:\n",
    "- Данные хранятся в трех выборках:\n",
    "    - обучающая - данные, предназначенные для обучения модели и подготовки модели для тестовой выборки\n",
    "    - тестовая - в тестовой выборке отсутствуют некоторые признаки, которые могут быть в обучающей. Также в тестовом наборе нет целевых признаков. Она предназначена для финальной проверки модели\n",
    "    - общая - содержит данные из обучающей и тестовой выборок\n",
    "- в обучающей и общей выборках есть следующие признаки:\n",
    "    - rougher - флотация\n",
    "    - primary_cleaner - первый этап очистки\n",
    "    - secondary_cleaner - второй этап очистки\n",
    "    - final - финальный объект\n",
    "- у каждого признака есть свой тип параметра, которые равняются:\n",
    "    - input - параметры сырья\n",
    "    - output - параметры продукта\n",
    "    - state - параметры текущего состояния\n",
    "    - calculation - расчетные характеристики\n",
    "- у тестовой выборки отсутствует признак final, так как это целевой признак, по которому мы будем предсказывать верность модели\n",
    "\n",
    "Давайте перейдем к своей работе, а начнем мы с импорта библиотек, которые нам понадобятся на протяжении всего проекта:"
   ]
  },
  {
   "cell_type": "code",
   "execution_count": 1,
   "metadata": {},
   "outputs": [],
   "source": [
    "import pandas as pd\n",
    "import numpy as np\n",
    "from IPython.display import display\n",
    "import matplotlib.pyplot as plt\n",
    "from scipy import stats as st\n",
    "from sklearn.utils import shuffle\n",
    "from sklearn.metrics import mean_absolute_error\n",
    "from sklearn.model_selection import train_test_split\n",
    "from sklearn.metrics.scorer import make_scorer\n",
    "from sklearn.linear_model import LinearRegression\n",
    "from sklearn.tree import DecisionTreeRegressor\n",
    "from sklearn.ensemble import RandomForestRegressor\n",
    "from sklearn.model_selection import cross_val_score\n",
    "from sklearn.model_selection import KFold\n",
    "from sklearn.model_selection import ShuffleSplit\n",
    "from sklearn.dummy import DummyRegressor\n"
   ]
  },
  {
   "cell_type": "markdown",
   "metadata": {},
   "source": [
    "## Подготовка данных"
   ]
  },
  {
   "cell_type": "markdown",
   "metadata": {},
   "source": [
    "### Изучение данных\n",
    "Библиотеки импортированы, давайте приступим к загрузке данных и их подготовке к будущей работе:"
   ]
  },
  {
   "cell_type": "code",
   "execution_count": 2,
   "metadata": {},
   "outputs": [],
   "source": [
    "gold_recovery_train = pd.read_csv('/datasets/gold_recovery_train_new.csv') # обучающая выборка\n",
    "gold_recovery_test = pd.read_csv('/datasets/gold_recovery_test_new.csv') # тестовая выборка\n",
    "gold_recovery_full = pd.read_csv('/datasets/gold_recovery_full_new.csv') # общая выборка"
   ]
  },
  {
   "cell_type": "markdown",
   "metadata": {},
   "source": [
    "Переменные с данными (датасеты) созданы, теперь можно их изучить. Для изучения мы воспользуемся функцией, которая будет показывать первые пять значений, краткую информацию о самом датасете и цифровую информацию о численных признаках:"
   ]
  },
  {
   "cell_type": "code",
   "execution_count": 3,
   "metadata": {},
   "outputs": [],
   "source": [
    "def show_data(df): # функция показа данных \n",
    "    return display(df.head()), display(df.info()), display(df.describe())"
   ]
  },
  {
   "cell_type": "code",
   "execution_count": 4,
   "metadata": {},
   "outputs": [
    {
     "name": "stdout",
     "output_type": "stream",
     "text": [
      "Давайте посмотрим на обучающую выборку:\n"
     ]
    },
    {
     "data": {
      "text/html": [
       "<div>\n",
       "<style scoped>\n",
       "    .dataframe tbody tr th:only-of-type {\n",
       "        vertical-align: middle;\n",
       "    }\n",
       "\n",
       "    .dataframe tbody tr th {\n",
       "        vertical-align: top;\n",
       "    }\n",
       "\n",
       "    .dataframe thead th {\n",
       "        text-align: right;\n",
       "    }\n",
       "</style>\n",
       "<table border=\"1\" class=\"dataframe\">\n",
       "  <thead>\n",
       "    <tr style=\"text-align: right;\">\n",
       "      <th></th>\n",
       "      <th>date</th>\n",
       "      <th>final.output.concentrate_ag</th>\n",
       "      <th>final.output.concentrate_pb</th>\n",
       "      <th>final.output.concentrate_sol</th>\n",
       "      <th>final.output.concentrate_au</th>\n",
       "      <th>final.output.recovery</th>\n",
       "      <th>final.output.tail_ag</th>\n",
       "      <th>final.output.tail_pb</th>\n",
       "      <th>final.output.tail_sol</th>\n",
       "      <th>final.output.tail_au</th>\n",
       "      <th>...</th>\n",
       "      <th>secondary_cleaner.state.floatbank4_a_air</th>\n",
       "      <th>secondary_cleaner.state.floatbank4_a_level</th>\n",
       "      <th>secondary_cleaner.state.floatbank4_b_air</th>\n",
       "      <th>secondary_cleaner.state.floatbank4_b_level</th>\n",
       "      <th>secondary_cleaner.state.floatbank5_a_air</th>\n",
       "      <th>secondary_cleaner.state.floatbank5_a_level</th>\n",
       "      <th>secondary_cleaner.state.floatbank5_b_air</th>\n",
       "      <th>secondary_cleaner.state.floatbank5_b_level</th>\n",
       "      <th>secondary_cleaner.state.floatbank6_a_air</th>\n",
       "      <th>secondary_cleaner.state.floatbank6_a_level</th>\n",
       "    </tr>\n",
       "  </thead>\n",
       "  <tbody>\n",
       "    <tr>\n",
       "      <td>0</td>\n",
       "      <td>2016-01-15 00:00:00</td>\n",
       "      <td>6.055403</td>\n",
       "      <td>9.889648</td>\n",
       "      <td>5.507324</td>\n",
       "      <td>42.192020</td>\n",
       "      <td>70.541216</td>\n",
       "      <td>10.411962</td>\n",
       "      <td>0.895447</td>\n",
       "      <td>16.904297</td>\n",
       "      <td>2.143149</td>\n",
       "      <td>...</td>\n",
       "      <td>14.016835</td>\n",
       "      <td>-502.488007</td>\n",
       "      <td>12.099931</td>\n",
       "      <td>-504.715942</td>\n",
       "      <td>9.925633</td>\n",
       "      <td>-498.310211</td>\n",
       "      <td>8.079666</td>\n",
       "      <td>-500.470978</td>\n",
       "      <td>14.151341</td>\n",
       "      <td>-605.841980</td>\n",
       "    </tr>\n",
       "    <tr>\n",
       "      <td>1</td>\n",
       "      <td>2016-01-15 01:00:00</td>\n",
       "      <td>6.029369</td>\n",
       "      <td>9.968944</td>\n",
       "      <td>5.257781</td>\n",
       "      <td>42.701629</td>\n",
       "      <td>69.266198</td>\n",
       "      <td>10.462676</td>\n",
       "      <td>0.927452</td>\n",
       "      <td>16.634514</td>\n",
       "      <td>2.224930</td>\n",
       "      <td>...</td>\n",
       "      <td>13.992281</td>\n",
       "      <td>-505.503262</td>\n",
       "      <td>11.950531</td>\n",
       "      <td>-501.331529</td>\n",
       "      <td>10.039245</td>\n",
       "      <td>-500.169983</td>\n",
       "      <td>7.984757</td>\n",
       "      <td>-500.582168</td>\n",
       "      <td>13.998353</td>\n",
       "      <td>-599.787184</td>\n",
       "    </tr>\n",
       "    <tr>\n",
       "      <td>2</td>\n",
       "      <td>2016-01-15 02:00:00</td>\n",
       "      <td>6.055926</td>\n",
       "      <td>10.213995</td>\n",
       "      <td>5.383759</td>\n",
       "      <td>42.657501</td>\n",
       "      <td>68.116445</td>\n",
       "      <td>10.507046</td>\n",
       "      <td>0.953716</td>\n",
       "      <td>16.208849</td>\n",
       "      <td>2.257889</td>\n",
       "      <td>...</td>\n",
       "      <td>14.015015</td>\n",
       "      <td>-502.520901</td>\n",
       "      <td>11.912783</td>\n",
       "      <td>-501.133383</td>\n",
       "      <td>10.070913</td>\n",
       "      <td>-500.129135</td>\n",
       "      <td>8.013877</td>\n",
       "      <td>-500.517572</td>\n",
       "      <td>14.028663</td>\n",
       "      <td>-601.427363</td>\n",
       "    </tr>\n",
       "    <tr>\n",
       "      <td>3</td>\n",
       "      <td>2016-01-15 03:00:00</td>\n",
       "      <td>6.047977</td>\n",
       "      <td>9.977019</td>\n",
       "      <td>4.858634</td>\n",
       "      <td>42.689819</td>\n",
       "      <td>68.347543</td>\n",
       "      <td>10.422762</td>\n",
       "      <td>0.883763</td>\n",
       "      <td>16.532835</td>\n",
       "      <td>2.146849</td>\n",
       "      <td>...</td>\n",
       "      <td>14.036510</td>\n",
       "      <td>-500.857308</td>\n",
       "      <td>11.999550</td>\n",
       "      <td>-501.193686</td>\n",
       "      <td>9.970366</td>\n",
       "      <td>-499.201640</td>\n",
       "      <td>7.977324</td>\n",
       "      <td>-500.255908</td>\n",
       "      <td>14.005551</td>\n",
       "      <td>-599.996129</td>\n",
       "    </tr>\n",
       "    <tr>\n",
       "      <td>4</td>\n",
       "      <td>2016-01-15 04:00:00</td>\n",
       "      <td>6.148599</td>\n",
       "      <td>10.142511</td>\n",
       "      <td>4.939416</td>\n",
       "      <td>42.774141</td>\n",
       "      <td>66.927016</td>\n",
       "      <td>10.360302</td>\n",
       "      <td>0.792826</td>\n",
       "      <td>16.525686</td>\n",
       "      <td>2.055292</td>\n",
       "      <td>...</td>\n",
       "      <td>14.027298</td>\n",
       "      <td>-499.838632</td>\n",
       "      <td>11.953070</td>\n",
       "      <td>-501.053894</td>\n",
       "      <td>9.925709</td>\n",
       "      <td>-501.686727</td>\n",
       "      <td>7.894242</td>\n",
       "      <td>-500.356035</td>\n",
       "      <td>13.996647</td>\n",
       "      <td>-601.496691</td>\n",
       "    </tr>\n",
       "  </tbody>\n",
       "</table>\n",
       "<p>5 rows × 87 columns</p>\n",
       "</div>"
      ],
      "text/plain": [
       "                  date  final.output.concentrate_ag  \\\n",
       "0  2016-01-15 00:00:00                     6.055403   \n",
       "1  2016-01-15 01:00:00                     6.029369   \n",
       "2  2016-01-15 02:00:00                     6.055926   \n",
       "3  2016-01-15 03:00:00                     6.047977   \n",
       "4  2016-01-15 04:00:00                     6.148599   \n",
       "\n",
       "   final.output.concentrate_pb  final.output.concentrate_sol  \\\n",
       "0                     9.889648                      5.507324   \n",
       "1                     9.968944                      5.257781   \n",
       "2                    10.213995                      5.383759   \n",
       "3                     9.977019                      4.858634   \n",
       "4                    10.142511                      4.939416   \n",
       "\n",
       "   final.output.concentrate_au  final.output.recovery  final.output.tail_ag  \\\n",
       "0                    42.192020              70.541216             10.411962   \n",
       "1                    42.701629              69.266198             10.462676   \n",
       "2                    42.657501              68.116445             10.507046   \n",
       "3                    42.689819              68.347543             10.422762   \n",
       "4                    42.774141              66.927016             10.360302   \n",
       "\n",
       "   final.output.tail_pb  final.output.tail_sol  final.output.tail_au  ...  \\\n",
       "0              0.895447              16.904297              2.143149  ...   \n",
       "1              0.927452              16.634514              2.224930  ...   \n",
       "2              0.953716              16.208849              2.257889  ...   \n",
       "3              0.883763              16.532835              2.146849  ...   \n",
       "4              0.792826              16.525686              2.055292  ...   \n",
       "\n",
       "   secondary_cleaner.state.floatbank4_a_air  \\\n",
       "0                                 14.016835   \n",
       "1                                 13.992281   \n",
       "2                                 14.015015   \n",
       "3                                 14.036510   \n",
       "4                                 14.027298   \n",
       "\n",
       "   secondary_cleaner.state.floatbank4_a_level  \\\n",
       "0                                 -502.488007   \n",
       "1                                 -505.503262   \n",
       "2                                 -502.520901   \n",
       "3                                 -500.857308   \n",
       "4                                 -499.838632   \n",
       "\n",
       "   secondary_cleaner.state.floatbank4_b_air  \\\n",
       "0                                 12.099931   \n",
       "1                                 11.950531   \n",
       "2                                 11.912783   \n",
       "3                                 11.999550   \n",
       "4                                 11.953070   \n",
       "\n",
       "   secondary_cleaner.state.floatbank4_b_level  \\\n",
       "0                                 -504.715942   \n",
       "1                                 -501.331529   \n",
       "2                                 -501.133383   \n",
       "3                                 -501.193686   \n",
       "4                                 -501.053894   \n",
       "\n",
       "   secondary_cleaner.state.floatbank5_a_air  \\\n",
       "0                                  9.925633   \n",
       "1                                 10.039245   \n",
       "2                                 10.070913   \n",
       "3                                  9.970366   \n",
       "4                                  9.925709   \n",
       "\n",
       "   secondary_cleaner.state.floatbank5_a_level  \\\n",
       "0                                 -498.310211   \n",
       "1                                 -500.169983   \n",
       "2                                 -500.129135   \n",
       "3                                 -499.201640   \n",
       "4                                 -501.686727   \n",
       "\n",
       "   secondary_cleaner.state.floatbank5_b_air  \\\n",
       "0                                  8.079666   \n",
       "1                                  7.984757   \n",
       "2                                  8.013877   \n",
       "3                                  7.977324   \n",
       "4                                  7.894242   \n",
       "\n",
       "   secondary_cleaner.state.floatbank5_b_level  \\\n",
       "0                                 -500.470978   \n",
       "1                                 -500.582168   \n",
       "2                                 -500.517572   \n",
       "3                                 -500.255908   \n",
       "4                                 -500.356035   \n",
       "\n",
       "   secondary_cleaner.state.floatbank6_a_air  \\\n",
       "0                                 14.151341   \n",
       "1                                 13.998353   \n",
       "2                                 14.028663   \n",
       "3                                 14.005551   \n",
       "4                                 13.996647   \n",
       "\n",
       "   secondary_cleaner.state.floatbank6_a_level  \n",
       "0                                 -605.841980  \n",
       "1                                 -599.787184  \n",
       "2                                 -601.427363  \n",
       "3                                 -599.996129  \n",
       "4                                 -601.496691  \n",
       "\n",
       "[5 rows x 87 columns]"
      ]
     },
     "metadata": {},
     "output_type": "display_data"
    },
    {
     "name": "stdout",
     "output_type": "stream",
     "text": [
      "<class 'pandas.core.frame.DataFrame'>\n",
      "RangeIndex: 14149 entries, 0 to 14148\n",
      "Data columns (total 87 columns):\n",
      "date                                                  14149 non-null object\n",
      "final.output.concentrate_ag                           14148 non-null float64\n",
      "final.output.concentrate_pb                           14148 non-null float64\n",
      "final.output.concentrate_sol                          13938 non-null float64\n",
      "final.output.concentrate_au                           14149 non-null float64\n",
      "final.output.recovery                                 14149 non-null float64\n",
      "final.output.tail_ag                                  14149 non-null float64\n",
      "final.output.tail_pb                                  14049 non-null float64\n",
      "final.output.tail_sol                                 14144 non-null float64\n",
      "final.output.tail_au                                  14149 non-null float64\n",
      "primary_cleaner.input.sulfate                         14129 non-null float64\n",
      "primary_cleaner.input.depressant                      14117 non-null float64\n",
      "primary_cleaner.input.feed_size                       14149 non-null float64\n",
      "primary_cleaner.input.xanthate                        14049 non-null float64\n",
      "primary_cleaner.output.concentrate_ag                 14149 non-null float64\n",
      "primary_cleaner.output.concentrate_pb                 14063 non-null float64\n",
      "primary_cleaner.output.concentrate_sol                13863 non-null float64\n",
      "primary_cleaner.output.concentrate_au                 14149 non-null float64\n",
      "primary_cleaner.output.tail_ag                        14148 non-null float64\n",
      "primary_cleaner.output.tail_pb                        14134 non-null float64\n",
      "primary_cleaner.output.tail_sol                       14103 non-null float64\n",
      "primary_cleaner.output.tail_au                        14149 non-null float64\n",
      "primary_cleaner.state.floatbank8_a_air                14145 non-null float64\n",
      "primary_cleaner.state.floatbank8_a_level              14148 non-null float64\n",
      "primary_cleaner.state.floatbank8_b_air                14145 non-null float64\n",
      "primary_cleaner.state.floatbank8_b_level              14148 non-null float64\n",
      "primary_cleaner.state.floatbank8_c_air                14147 non-null float64\n",
      "primary_cleaner.state.floatbank8_c_level              14148 non-null float64\n",
      "primary_cleaner.state.floatbank8_d_air                14146 non-null float64\n",
      "primary_cleaner.state.floatbank8_d_level              14148 non-null float64\n",
      "rougher.calculation.sulfate_to_au_concentrate         14148 non-null float64\n",
      "rougher.calculation.floatbank10_sulfate_to_au_feed    14148 non-null float64\n",
      "rougher.calculation.floatbank11_sulfate_to_au_feed    14148 non-null float64\n",
      "rougher.calculation.au_pb_ratio                       14149 non-null float64\n",
      "rougher.input.feed_ag                                 14149 non-null float64\n",
      "rougher.input.feed_pb                                 14049 non-null float64\n",
      "rougher.input.feed_rate                               14141 non-null float64\n",
      "rougher.input.feed_size                               14005 non-null float64\n",
      "rougher.input.feed_sol                                14071 non-null float64\n",
      "rougher.input.feed_au                                 14149 non-null float64\n",
      "rougher.input.floatbank10_sulfate                     14120 non-null float64\n",
      "rougher.input.floatbank10_xanthate                    14141 non-null float64\n",
      "rougher.input.floatbank11_sulfate                     14113 non-null float64\n",
      "rougher.input.floatbank11_xanthate                    13721 non-null float64\n",
      "rougher.output.concentrate_ag                         14149 non-null float64\n",
      "rougher.output.concentrate_pb                         14149 non-null float64\n",
      "rougher.output.concentrate_sol                        14127 non-null float64\n",
      "rougher.output.concentrate_au                         14149 non-null float64\n",
      "rougher.output.recovery                               14149 non-null float64\n",
      "rougher.output.tail_ag                                14148 non-null float64\n",
      "rougher.output.tail_pb                                14149 non-null float64\n",
      "rougher.output.tail_sol                               14149 non-null float64\n",
      "rougher.output.tail_au                                14149 non-null float64\n",
      "rougher.state.floatbank10_a_air                       14148 non-null float64\n",
      "rougher.state.floatbank10_a_level                     14148 non-null float64\n",
      "rougher.state.floatbank10_b_air                       14148 non-null float64\n",
      "rougher.state.floatbank10_b_level                     14148 non-null float64\n",
      "rougher.state.floatbank10_c_air                       14148 non-null float64\n",
      "rougher.state.floatbank10_c_level                     14148 non-null float64\n",
      "rougher.state.floatbank10_d_air                       14149 non-null float64\n",
      "rougher.state.floatbank10_d_level                     14149 non-null float64\n",
      "rougher.state.floatbank10_e_air                       13713 non-null float64\n",
      "rougher.state.floatbank10_e_level                     14149 non-null float64\n",
      "rougher.state.floatbank10_f_air                       14149 non-null float64\n",
      "rougher.state.floatbank10_f_level                     14149 non-null float64\n",
      "secondary_cleaner.output.tail_ag                      14147 non-null float64\n",
      "secondary_cleaner.output.tail_pb                      14139 non-null float64\n",
      "secondary_cleaner.output.tail_sol                     12544 non-null float64\n",
      "secondary_cleaner.output.tail_au                      14149 non-null float64\n",
      "secondary_cleaner.state.floatbank2_a_air              13932 non-null float64\n",
      "secondary_cleaner.state.floatbank2_a_level            14148 non-null float64\n",
      "secondary_cleaner.state.floatbank2_b_air              14128 non-null float64\n",
      "secondary_cleaner.state.floatbank2_b_level            14148 non-null float64\n",
      "secondary_cleaner.state.floatbank3_a_air              14145 non-null float64\n",
      "secondary_cleaner.state.floatbank3_a_level            14148 non-null float64\n",
      "secondary_cleaner.state.floatbank3_b_air              14148 non-null float64\n",
      "secondary_cleaner.state.floatbank3_b_level            14148 non-null float64\n",
      "secondary_cleaner.state.floatbank4_a_air              14143 non-null float64\n",
      "secondary_cleaner.state.floatbank4_a_level            14148 non-null float64\n",
      "secondary_cleaner.state.floatbank4_b_air              14148 non-null float64\n",
      "secondary_cleaner.state.floatbank4_b_level            14148 non-null float64\n",
      "secondary_cleaner.state.floatbank5_a_air              14148 non-null float64\n",
      "secondary_cleaner.state.floatbank5_a_level            14148 non-null float64\n",
      "secondary_cleaner.state.floatbank5_b_air              14148 non-null float64\n",
      "secondary_cleaner.state.floatbank5_b_level            14148 non-null float64\n",
      "secondary_cleaner.state.floatbank6_a_air              14147 non-null float64\n",
      "secondary_cleaner.state.floatbank6_a_level            14148 non-null float64\n",
      "dtypes: float64(86), object(1)\n",
      "memory usage: 9.4+ MB\n"
     ]
    },
    {
     "data": {
      "text/plain": [
       "None"
      ]
     },
     "metadata": {},
     "output_type": "display_data"
    },
    {
     "data": {
      "text/html": [
       "<div>\n",
       "<style scoped>\n",
       "    .dataframe tbody tr th:only-of-type {\n",
       "        vertical-align: middle;\n",
       "    }\n",
       "\n",
       "    .dataframe tbody tr th {\n",
       "        vertical-align: top;\n",
       "    }\n",
       "\n",
       "    .dataframe thead th {\n",
       "        text-align: right;\n",
       "    }\n",
       "</style>\n",
       "<table border=\"1\" class=\"dataframe\">\n",
       "  <thead>\n",
       "    <tr style=\"text-align: right;\">\n",
       "      <th></th>\n",
       "      <th>final.output.concentrate_ag</th>\n",
       "      <th>final.output.concentrate_pb</th>\n",
       "      <th>final.output.concentrate_sol</th>\n",
       "      <th>final.output.concentrate_au</th>\n",
       "      <th>final.output.recovery</th>\n",
       "      <th>final.output.tail_ag</th>\n",
       "      <th>final.output.tail_pb</th>\n",
       "      <th>final.output.tail_sol</th>\n",
       "      <th>final.output.tail_au</th>\n",
       "      <th>primary_cleaner.input.sulfate</th>\n",
       "      <th>...</th>\n",
       "      <th>secondary_cleaner.state.floatbank4_a_air</th>\n",
       "      <th>secondary_cleaner.state.floatbank4_a_level</th>\n",
       "      <th>secondary_cleaner.state.floatbank4_b_air</th>\n",
       "      <th>secondary_cleaner.state.floatbank4_b_level</th>\n",
       "      <th>secondary_cleaner.state.floatbank5_a_air</th>\n",
       "      <th>secondary_cleaner.state.floatbank5_a_level</th>\n",
       "      <th>secondary_cleaner.state.floatbank5_b_air</th>\n",
       "      <th>secondary_cleaner.state.floatbank5_b_level</th>\n",
       "      <th>secondary_cleaner.state.floatbank6_a_air</th>\n",
       "      <th>secondary_cleaner.state.floatbank6_a_level</th>\n",
       "    </tr>\n",
       "  </thead>\n",
       "  <tbody>\n",
       "    <tr>\n",
       "      <td>count</td>\n",
       "      <td>14148.000000</td>\n",
       "      <td>14148.000000</td>\n",
       "      <td>13938.000000</td>\n",
       "      <td>14149.000000</td>\n",
       "      <td>14149.000000</td>\n",
       "      <td>14149.000000</td>\n",
       "      <td>14049.000000</td>\n",
       "      <td>14144.000000</td>\n",
       "      <td>14149.000000</td>\n",
       "      <td>14129.000000</td>\n",
       "      <td>...</td>\n",
       "      <td>14143.000000</td>\n",
       "      <td>14148.000000</td>\n",
       "      <td>14148.000000</td>\n",
       "      <td>14148.000000</td>\n",
       "      <td>14148.000000</td>\n",
       "      <td>14148.000000</td>\n",
       "      <td>14148.000000</td>\n",
       "      <td>14148.000000</td>\n",
       "      <td>14147.000000</td>\n",
       "      <td>14148.000000</td>\n",
       "    </tr>\n",
       "    <tr>\n",
       "      <td>mean</td>\n",
       "      <td>5.142034</td>\n",
       "      <td>10.132960</td>\n",
       "      <td>9.202849</td>\n",
       "      <td>44.003792</td>\n",
       "      <td>66.518832</td>\n",
       "      <td>9.607035</td>\n",
       "      <td>2.597298</td>\n",
       "      <td>10.512122</td>\n",
       "      <td>2.918421</td>\n",
       "      <td>133.320659</td>\n",
       "      <td>...</td>\n",
       "      <td>19.985454</td>\n",
       "      <td>-478.696836</td>\n",
       "      <td>15.487065</td>\n",
       "      <td>-460.229416</td>\n",
       "      <td>16.775136</td>\n",
       "      <td>-483.956022</td>\n",
       "      <td>13.064590</td>\n",
       "      <td>-483.966564</td>\n",
       "      <td>19.577539</td>\n",
       "      <td>-506.798480</td>\n",
       "    </tr>\n",
       "    <tr>\n",
       "      <td>std</td>\n",
       "      <td>1.369586</td>\n",
       "      <td>1.654930</td>\n",
       "      <td>2.790516</td>\n",
       "      <td>4.905261</td>\n",
       "      <td>10.295402</td>\n",
       "      <td>2.319069</td>\n",
       "      <td>0.971843</td>\n",
       "      <td>3.003617</td>\n",
       "      <td>0.903712</td>\n",
       "      <td>39.431659</td>\n",
       "      <td>...</td>\n",
       "      <td>5.657723</td>\n",
       "      <td>50.736021</td>\n",
       "      <td>5.255655</td>\n",
       "      <td>58.843586</td>\n",
       "      <td>5.831906</td>\n",
       "      <td>37.892788</td>\n",
       "      <td>5.765617</td>\n",
       "      <td>39.207913</td>\n",
       "      <td>5.764417</td>\n",
       "      <td>37.079249</td>\n",
       "    </tr>\n",
       "    <tr>\n",
       "      <td>min</td>\n",
       "      <td>0.000000</td>\n",
       "      <td>0.000000</td>\n",
       "      <td>0.000000</td>\n",
       "      <td>0.000000</td>\n",
       "      <td>0.000000</td>\n",
       "      <td>0.000000</td>\n",
       "      <td>0.000000</td>\n",
       "      <td>0.000000</td>\n",
       "      <td>0.000000</td>\n",
       "      <td>0.003112</td>\n",
       "      <td>...</td>\n",
       "      <td>0.000000</td>\n",
       "      <td>-799.709069</td>\n",
       "      <td>0.000000</td>\n",
       "      <td>-799.889113</td>\n",
       "      <td>-0.372054</td>\n",
       "      <td>-797.142475</td>\n",
       "      <td>0.646208</td>\n",
       "      <td>-800.006180</td>\n",
       "      <td>0.195324</td>\n",
       "      <td>-809.398668</td>\n",
       "    </tr>\n",
       "    <tr>\n",
       "      <td>25%</td>\n",
       "      <td>4.211620</td>\n",
       "      <td>9.297355</td>\n",
       "      <td>7.484645</td>\n",
       "      <td>43.276111</td>\n",
       "      <td>62.545817</td>\n",
       "      <td>7.997429</td>\n",
       "      <td>1.905973</td>\n",
       "      <td>8.811324</td>\n",
       "      <td>2.368607</td>\n",
       "      <td>107.006651</td>\n",
       "      <td>...</td>\n",
       "      <td>14.990775</td>\n",
       "      <td>-500.628656</td>\n",
       "      <td>11.894558</td>\n",
       "      <td>-500.149000</td>\n",
       "      <td>11.083980</td>\n",
       "      <td>-500.363177</td>\n",
       "      <td>8.994405</td>\n",
       "      <td>-500.105994</td>\n",
       "      <td>14.989304</td>\n",
       "      <td>-500.745104</td>\n",
       "    </tr>\n",
       "    <tr>\n",
       "      <td>50%</td>\n",
       "      <td>4.994652</td>\n",
       "      <td>10.297144</td>\n",
       "      <td>8.845462</td>\n",
       "      <td>44.872436</td>\n",
       "      <td>67.432775</td>\n",
       "      <td>9.480270</td>\n",
       "      <td>2.592022</td>\n",
       "      <td>10.514621</td>\n",
       "      <td>2.851025</td>\n",
       "      <td>133.018328</td>\n",
       "      <td>...</td>\n",
       "      <td>20.001789</td>\n",
       "      <td>-499.681450</td>\n",
       "      <td>14.975536</td>\n",
       "      <td>-499.388738</td>\n",
       "      <td>17.932223</td>\n",
       "      <td>-499.702452</td>\n",
       "      <td>11.997547</td>\n",
       "      <td>-499.914556</td>\n",
       "      <td>19.984175</td>\n",
       "      <td>-500.061431</td>\n",
       "    </tr>\n",
       "    <tr>\n",
       "      <td>75%</td>\n",
       "      <td>5.859540</td>\n",
       "      <td>11.170603</td>\n",
       "      <td>10.487508</td>\n",
       "      <td>46.166425</td>\n",
       "      <td>72.346428</td>\n",
       "      <td>11.003707</td>\n",
       "      <td>3.241723</td>\n",
       "      <td>11.933009</td>\n",
       "      <td>3.434764</td>\n",
       "      <td>159.825396</td>\n",
       "      <td>...</td>\n",
       "      <td>24.990826</td>\n",
       "      <td>-477.472413</td>\n",
       "      <td>20.059375</td>\n",
       "      <td>-400.039008</td>\n",
       "      <td>21.346550</td>\n",
       "      <td>-487.712108</td>\n",
       "      <td>17.982903</td>\n",
       "      <td>-453.186936</td>\n",
       "      <td>24.991623</td>\n",
       "      <td>-499.536466</td>\n",
       "    </tr>\n",
       "    <tr>\n",
       "      <td>max</td>\n",
       "      <td>16.001945</td>\n",
       "      <td>17.031899</td>\n",
       "      <td>18.124851</td>\n",
       "      <td>52.756638</td>\n",
       "      <td>100.000000</td>\n",
       "      <td>19.552149</td>\n",
       "      <td>5.639565</td>\n",
       "      <td>22.317730</td>\n",
       "      <td>8.197408</td>\n",
       "      <td>250.127834</td>\n",
       "      <td>...</td>\n",
       "      <td>30.115735</td>\n",
       "      <td>-245.239184</td>\n",
       "      <td>24.007913</td>\n",
       "      <td>-145.071088</td>\n",
       "      <td>43.709931</td>\n",
       "      <td>-275.073125</td>\n",
       "      <td>27.926001</td>\n",
       "      <td>-157.396071</td>\n",
       "      <td>32.188906</td>\n",
       "      <td>-104.427459</td>\n",
       "    </tr>\n",
       "  </tbody>\n",
       "</table>\n",
       "<p>8 rows × 86 columns</p>\n",
       "</div>"
      ],
      "text/plain": [
       "       final.output.concentrate_ag  final.output.concentrate_pb  \\\n",
       "count                 14148.000000                 14148.000000   \n",
       "mean                      5.142034                    10.132960   \n",
       "std                       1.369586                     1.654930   \n",
       "min                       0.000000                     0.000000   \n",
       "25%                       4.211620                     9.297355   \n",
       "50%                       4.994652                    10.297144   \n",
       "75%                       5.859540                    11.170603   \n",
       "max                      16.001945                    17.031899   \n",
       "\n",
       "       final.output.concentrate_sol  final.output.concentrate_au  \\\n",
       "count                  13938.000000                 14149.000000   \n",
       "mean                       9.202849                    44.003792   \n",
       "std                        2.790516                     4.905261   \n",
       "min                        0.000000                     0.000000   \n",
       "25%                        7.484645                    43.276111   \n",
       "50%                        8.845462                    44.872436   \n",
       "75%                       10.487508                    46.166425   \n",
       "max                       18.124851                    52.756638   \n",
       "\n",
       "       final.output.recovery  final.output.tail_ag  final.output.tail_pb  \\\n",
       "count           14149.000000          14149.000000          14049.000000   \n",
       "mean               66.518832              9.607035              2.597298   \n",
       "std                10.295402              2.319069              0.971843   \n",
       "min                 0.000000              0.000000              0.000000   \n",
       "25%                62.545817              7.997429              1.905973   \n",
       "50%                67.432775              9.480270              2.592022   \n",
       "75%                72.346428             11.003707              3.241723   \n",
       "max               100.000000             19.552149              5.639565   \n",
       "\n",
       "       final.output.tail_sol  final.output.tail_au  \\\n",
       "count           14144.000000          14149.000000   \n",
       "mean               10.512122              2.918421   \n",
       "std                 3.003617              0.903712   \n",
       "min                 0.000000              0.000000   \n",
       "25%                 8.811324              2.368607   \n",
       "50%                10.514621              2.851025   \n",
       "75%                11.933009              3.434764   \n",
       "max                22.317730              8.197408   \n",
       "\n",
       "       primary_cleaner.input.sulfate  ...  \\\n",
       "count                   14129.000000  ...   \n",
       "mean                      133.320659  ...   \n",
       "std                        39.431659  ...   \n",
       "min                         0.003112  ...   \n",
       "25%                       107.006651  ...   \n",
       "50%                       133.018328  ...   \n",
       "75%                       159.825396  ...   \n",
       "max                       250.127834  ...   \n",
       "\n",
       "       secondary_cleaner.state.floatbank4_a_air  \\\n",
       "count                              14143.000000   \n",
       "mean                                  19.985454   \n",
       "std                                    5.657723   \n",
       "min                                    0.000000   \n",
       "25%                                   14.990775   \n",
       "50%                                   20.001789   \n",
       "75%                                   24.990826   \n",
       "max                                   30.115735   \n",
       "\n",
       "       secondary_cleaner.state.floatbank4_a_level  \\\n",
       "count                                14148.000000   \n",
       "mean                                  -478.696836   \n",
       "std                                     50.736021   \n",
       "min                                   -799.709069   \n",
       "25%                                   -500.628656   \n",
       "50%                                   -499.681450   \n",
       "75%                                   -477.472413   \n",
       "max                                   -245.239184   \n",
       "\n",
       "       secondary_cleaner.state.floatbank4_b_air  \\\n",
       "count                              14148.000000   \n",
       "mean                                  15.487065   \n",
       "std                                    5.255655   \n",
       "min                                    0.000000   \n",
       "25%                                   11.894558   \n",
       "50%                                   14.975536   \n",
       "75%                                   20.059375   \n",
       "max                                   24.007913   \n",
       "\n",
       "       secondary_cleaner.state.floatbank4_b_level  \\\n",
       "count                                14148.000000   \n",
       "mean                                  -460.229416   \n",
       "std                                     58.843586   \n",
       "min                                   -799.889113   \n",
       "25%                                   -500.149000   \n",
       "50%                                   -499.388738   \n",
       "75%                                   -400.039008   \n",
       "max                                   -145.071088   \n",
       "\n",
       "       secondary_cleaner.state.floatbank5_a_air  \\\n",
       "count                              14148.000000   \n",
       "mean                                  16.775136   \n",
       "std                                    5.831906   \n",
       "min                                   -0.372054   \n",
       "25%                                   11.083980   \n",
       "50%                                   17.932223   \n",
       "75%                                   21.346550   \n",
       "max                                   43.709931   \n",
       "\n",
       "       secondary_cleaner.state.floatbank5_a_level  \\\n",
       "count                                14148.000000   \n",
       "mean                                  -483.956022   \n",
       "std                                     37.892788   \n",
       "min                                   -797.142475   \n",
       "25%                                   -500.363177   \n",
       "50%                                   -499.702452   \n",
       "75%                                   -487.712108   \n",
       "max                                   -275.073125   \n",
       "\n",
       "       secondary_cleaner.state.floatbank5_b_air  \\\n",
       "count                              14148.000000   \n",
       "mean                                  13.064590   \n",
       "std                                    5.765617   \n",
       "min                                    0.646208   \n",
       "25%                                    8.994405   \n",
       "50%                                   11.997547   \n",
       "75%                                   17.982903   \n",
       "max                                   27.926001   \n",
       "\n",
       "       secondary_cleaner.state.floatbank5_b_level  \\\n",
       "count                                14148.000000   \n",
       "mean                                  -483.966564   \n",
       "std                                     39.207913   \n",
       "min                                   -800.006180   \n",
       "25%                                   -500.105994   \n",
       "50%                                   -499.914556   \n",
       "75%                                   -453.186936   \n",
       "max                                   -157.396071   \n",
       "\n",
       "       secondary_cleaner.state.floatbank6_a_air  \\\n",
       "count                              14147.000000   \n",
       "mean                                  19.577539   \n",
       "std                                    5.764417   \n",
       "min                                    0.195324   \n",
       "25%                                   14.989304   \n",
       "50%                                   19.984175   \n",
       "75%                                   24.991623   \n",
       "max                                   32.188906   \n",
       "\n",
       "       secondary_cleaner.state.floatbank6_a_level  \n",
       "count                                14148.000000  \n",
       "mean                                  -506.798480  \n",
       "std                                     37.079249  \n",
       "min                                   -809.398668  \n",
       "25%                                   -500.745104  \n",
       "50%                                   -500.061431  \n",
       "75%                                   -499.536466  \n",
       "max                                   -104.427459  \n",
       "\n",
       "[8 rows x 86 columns]"
      ]
     },
     "metadata": {},
     "output_type": "display_data"
    },
    {
     "data": {
      "text/plain": [
       "(None, None, None)"
      ]
     },
     "execution_count": 4,
     "metadata": {},
     "output_type": "execute_result"
    }
   ],
   "source": [
    "print(\"Давайте посмотрим на обучающую выборку:\")\n",
    "show_data(gold_recovery_train) # показ данных обучающей выборки"
   ]
  },
  {
   "cell_type": "code",
   "execution_count": 5,
   "metadata": {},
   "outputs": [
    {
     "name": "stdout",
     "output_type": "stream",
     "text": [
      "Давайте посмотрим на тестовую выборку:\n"
     ]
    },
    {
     "data": {
      "text/html": [
       "<div>\n",
       "<style scoped>\n",
       "    .dataframe tbody tr th:only-of-type {\n",
       "        vertical-align: middle;\n",
       "    }\n",
       "\n",
       "    .dataframe tbody tr th {\n",
       "        vertical-align: top;\n",
       "    }\n",
       "\n",
       "    .dataframe thead th {\n",
       "        text-align: right;\n",
       "    }\n",
       "</style>\n",
       "<table border=\"1\" class=\"dataframe\">\n",
       "  <thead>\n",
       "    <tr style=\"text-align: right;\">\n",
       "      <th></th>\n",
       "      <th>date</th>\n",
       "      <th>primary_cleaner.input.sulfate</th>\n",
       "      <th>primary_cleaner.input.depressant</th>\n",
       "      <th>primary_cleaner.input.feed_size</th>\n",
       "      <th>primary_cleaner.input.xanthate</th>\n",
       "      <th>primary_cleaner.state.floatbank8_a_air</th>\n",
       "      <th>primary_cleaner.state.floatbank8_a_level</th>\n",
       "      <th>primary_cleaner.state.floatbank8_b_air</th>\n",
       "      <th>primary_cleaner.state.floatbank8_b_level</th>\n",
       "      <th>primary_cleaner.state.floatbank8_c_air</th>\n",
       "      <th>...</th>\n",
       "      <th>secondary_cleaner.state.floatbank4_a_air</th>\n",
       "      <th>secondary_cleaner.state.floatbank4_a_level</th>\n",
       "      <th>secondary_cleaner.state.floatbank4_b_air</th>\n",
       "      <th>secondary_cleaner.state.floatbank4_b_level</th>\n",
       "      <th>secondary_cleaner.state.floatbank5_a_air</th>\n",
       "      <th>secondary_cleaner.state.floatbank5_a_level</th>\n",
       "      <th>secondary_cleaner.state.floatbank5_b_air</th>\n",
       "      <th>secondary_cleaner.state.floatbank5_b_level</th>\n",
       "      <th>secondary_cleaner.state.floatbank6_a_air</th>\n",
       "      <th>secondary_cleaner.state.floatbank6_a_level</th>\n",
       "    </tr>\n",
       "  </thead>\n",
       "  <tbody>\n",
       "    <tr>\n",
       "      <td>0</td>\n",
       "      <td>2016-09-01 00:59:59</td>\n",
       "      <td>210.800909</td>\n",
       "      <td>14.993118</td>\n",
       "      <td>8.080000</td>\n",
       "      <td>1.005021</td>\n",
       "      <td>1398.981301</td>\n",
       "      <td>-500.225577</td>\n",
       "      <td>1399.144926</td>\n",
       "      <td>-499.919735</td>\n",
       "      <td>1400.102998</td>\n",
       "      <td>...</td>\n",
       "      <td>12.023554</td>\n",
       "      <td>-497.795834</td>\n",
       "      <td>8.016656</td>\n",
       "      <td>-501.289139</td>\n",
       "      <td>7.946562</td>\n",
       "      <td>-432.317850</td>\n",
       "      <td>4.872511</td>\n",
       "      <td>-500.037437</td>\n",
       "      <td>26.705889</td>\n",
       "      <td>-499.709414</td>\n",
       "    </tr>\n",
       "    <tr>\n",
       "      <td>1</td>\n",
       "      <td>2016-09-01 01:59:59</td>\n",
       "      <td>215.392455</td>\n",
       "      <td>14.987471</td>\n",
       "      <td>8.080000</td>\n",
       "      <td>0.990469</td>\n",
       "      <td>1398.777912</td>\n",
       "      <td>-500.057435</td>\n",
       "      <td>1398.055362</td>\n",
       "      <td>-499.778182</td>\n",
       "      <td>1396.151033</td>\n",
       "      <td>...</td>\n",
       "      <td>12.058140</td>\n",
       "      <td>-498.695773</td>\n",
       "      <td>8.130979</td>\n",
       "      <td>-499.634209</td>\n",
       "      <td>7.958270</td>\n",
       "      <td>-525.839648</td>\n",
       "      <td>4.878850</td>\n",
       "      <td>-500.162375</td>\n",
       "      <td>25.019940</td>\n",
       "      <td>-499.819438</td>\n",
       "    </tr>\n",
       "    <tr>\n",
       "      <td>2</td>\n",
       "      <td>2016-09-01 02:59:59</td>\n",
       "      <td>215.259946</td>\n",
       "      <td>12.884934</td>\n",
       "      <td>7.786667</td>\n",
       "      <td>0.996043</td>\n",
       "      <td>1398.493666</td>\n",
       "      <td>-500.868360</td>\n",
       "      <td>1398.860436</td>\n",
       "      <td>-499.764529</td>\n",
       "      <td>1398.075709</td>\n",
       "      <td>...</td>\n",
       "      <td>11.962366</td>\n",
       "      <td>-498.767484</td>\n",
       "      <td>8.096893</td>\n",
       "      <td>-500.827423</td>\n",
       "      <td>8.071056</td>\n",
       "      <td>-500.801673</td>\n",
       "      <td>4.905125</td>\n",
       "      <td>-499.828510</td>\n",
       "      <td>24.994862</td>\n",
       "      <td>-500.622559</td>\n",
       "    </tr>\n",
       "    <tr>\n",
       "      <td>3</td>\n",
       "      <td>2016-09-01 03:59:59</td>\n",
       "      <td>215.336236</td>\n",
       "      <td>12.006805</td>\n",
       "      <td>7.640000</td>\n",
       "      <td>0.863514</td>\n",
       "      <td>1399.618111</td>\n",
       "      <td>-498.863574</td>\n",
       "      <td>1397.440120</td>\n",
       "      <td>-499.211024</td>\n",
       "      <td>1400.129303</td>\n",
       "      <td>...</td>\n",
       "      <td>12.033091</td>\n",
       "      <td>-498.350935</td>\n",
       "      <td>8.074946</td>\n",
       "      <td>-499.474407</td>\n",
       "      <td>7.897085</td>\n",
       "      <td>-500.868509</td>\n",
       "      <td>4.931400</td>\n",
       "      <td>-499.963623</td>\n",
       "      <td>24.948919</td>\n",
       "      <td>-498.709987</td>\n",
       "    </tr>\n",
       "    <tr>\n",
       "      <td>4</td>\n",
       "      <td>2016-09-01 04:59:59</td>\n",
       "      <td>199.099327</td>\n",
       "      <td>10.682530</td>\n",
       "      <td>7.530000</td>\n",
       "      <td>0.805575</td>\n",
       "      <td>1401.268123</td>\n",
       "      <td>-500.808305</td>\n",
       "      <td>1398.128818</td>\n",
       "      <td>-499.504543</td>\n",
       "      <td>1402.172226</td>\n",
       "      <td>...</td>\n",
       "      <td>12.025367</td>\n",
       "      <td>-500.786497</td>\n",
       "      <td>8.054678</td>\n",
       "      <td>-500.397500</td>\n",
       "      <td>8.107890</td>\n",
       "      <td>-509.526725</td>\n",
       "      <td>4.957674</td>\n",
       "      <td>-500.360026</td>\n",
       "      <td>25.003331</td>\n",
       "      <td>-500.856333</td>\n",
       "    </tr>\n",
       "  </tbody>\n",
       "</table>\n",
       "<p>5 rows × 53 columns</p>\n",
       "</div>"
      ],
      "text/plain": [
       "                  date  primary_cleaner.input.sulfate  \\\n",
       "0  2016-09-01 00:59:59                     210.800909   \n",
       "1  2016-09-01 01:59:59                     215.392455   \n",
       "2  2016-09-01 02:59:59                     215.259946   \n",
       "3  2016-09-01 03:59:59                     215.336236   \n",
       "4  2016-09-01 04:59:59                     199.099327   \n",
       "\n",
       "   primary_cleaner.input.depressant  primary_cleaner.input.feed_size  \\\n",
       "0                         14.993118                         8.080000   \n",
       "1                         14.987471                         8.080000   \n",
       "2                         12.884934                         7.786667   \n",
       "3                         12.006805                         7.640000   \n",
       "4                         10.682530                         7.530000   \n",
       "\n",
       "   primary_cleaner.input.xanthate  primary_cleaner.state.floatbank8_a_air  \\\n",
       "0                        1.005021                             1398.981301   \n",
       "1                        0.990469                             1398.777912   \n",
       "2                        0.996043                             1398.493666   \n",
       "3                        0.863514                             1399.618111   \n",
       "4                        0.805575                             1401.268123   \n",
       "\n",
       "   primary_cleaner.state.floatbank8_a_level  \\\n",
       "0                               -500.225577   \n",
       "1                               -500.057435   \n",
       "2                               -500.868360   \n",
       "3                               -498.863574   \n",
       "4                               -500.808305   \n",
       "\n",
       "   primary_cleaner.state.floatbank8_b_air  \\\n",
       "0                             1399.144926   \n",
       "1                             1398.055362   \n",
       "2                             1398.860436   \n",
       "3                             1397.440120   \n",
       "4                             1398.128818   \n",
       "\n",
       "   primary_cleaner.state.floatbank8_b_level  \\\n",
       "0                               -499.919735   \n",
       "1                               -499.778182   \n",
       "2                               -499.764529   \n",
       "3                               -499.211024   \n",
       "4                               -499.504543   \n",
       "\n",
       "   primary_cleaner.state.floatbank8_c_air  ...  \\\n",
       "0                             1400.102998  ...   \n",
       "1                             1396.151033  ...   \n",
       "2                             1398.075709  ...   \n",
       "3                             1400.129303  ...   \n",
       "4                             1402.172226  ...   \n",
       "\n",
       "   secondary_cleaner.state.floatbank4_a_air  \\\n",
       "0                                 12.023554   \n",
       "1                                 12.058140   \n",
       "2                                 11.962366   \n",
       "3                                 12.033091   \n",
       "4                                 12.025367   \n",
       "\n",
       "   secondary_cleaner.state.floatbank4_a_level  \\\n",
       "0                                 -497.795834   \n",
       "1                                 -498.695773   \n",
       "2                                 -498.767484   \n",
       "3                                 -498.350935   \n",
       "4                                 -500.786497   \n",
       "\n",
       "   secondary_cleaner.state.floatbank4_b_air  \\\n",
       "0                                  8.016656   \n",
       "1                                  8.130979   \n",
       "2                                  8.096893   \n",
       "3                                  8.074946   \n",
       "4                                  8.054678   \n",
       "\n",
       "   secondary_cleaner.state.floatbank4_b_level  \\\n",
       "0                                 -501.289139   \n",
       "1                                 -499.634209   \n",
       "2                                 -500.827423   \n",
       "3                                 -499.474407   \n",
       "4                                 -500.397500   \n",
       "\n",
       "   secondary_cleaner.state.floatbank5_a_air  \\\n",
       "0                                  7.946562   \n",
       "1                                  7.958270   \n",
       "2                                  8.071056   \n",
       "3                                  7.897085   \n",
       "4                                  8.107890   \n",
       "\n",
       "   secondary_cleaner.state.floatbank5_a_level  \\\n",
       "0                                 -432.317850   \n",
       "1                                 -525.839648   \n",
       "2                                 -500.801673   \n",
       "3                                 -500.868509   \n",
       "4                                 -509.526725   \n",
       "\n",
       "   secondary_cleaner.state.floatbank5_b_air  \\\n",
       "0                                  4.872511   \n",
       "1                                  4.878850   \n",
       "2                                  4.905125   \n",
       "3                                  4.931400   \n",
       "4                                  4.957674   \n",
       "\n",
       "   secondary_cleaner.state.floatbank5_b_level  \\\n",
       "0                                 -500.037437   \n",
       "1                                 -500.162375   \n",
       "2                                 -499.828510   \n",
       "3                                 -499.963623   \n",
       "4                                 -500.360026   \n",
       "\n",
       "   secondary_cleaner.state.floatbank6_a_air  \\\n",
       "0                                 26.705889   \n",
       "1                                 25.019940   \n",
       "2                                 24.994862   \n",
       "3                                 24.948919   \n",
       "4                                 25.003331   \n",
       "\n",
       "   secondary_cleaner.state.floatbank6_a_level  \n",
       "0                                 -499.709414  \n",
       "1                                 -499.819438  \n",
       "2                                 -500.622559  \n",
       "3                                 -498.709987  \n",
       "4                                 -500.856333  \n",
       "\n",
       "[5 rows x 53 columns]"
      ]
     },
     "metadata": {},
     "output_type": "display_data"
    },
    {
     "name": "stdout",
     "output_type": "stream",
     "text": [
      "<class 'pandas.core.frame.DataFrame'>\n",
      "RangeIndex: 5290 entries, 0 to 5289\n",
      "Data columns (total 53 columns):\n",
      "date                                          5290 non-null object\n",
      "primary_cleaner.input.sulfate                 5286 non-null float64\n",
      "primary_cleaner.input.depressant              5285 non-null float64\n",
      "primary_cleaner.input.feed_size               5290 non-null float64\n",
      "primary_cleaner.input.xanthate                5286 non-null float64\n",
      "primary_cleaner.state.floatbank8_a_air        5290 non-null float64\n",
      "primary_cleaner.state.floatbank8_a_level      5290 non-null float64\n",
      "primary_cleaner.state.floatbank8_b_air        5290 non-null float64\n",
      "primary_cleaner.state.floatbank8_b_level      5290 non-null float64\n",
      "primary_cleaner.state.floatbank8_c_air        5290 non-null float64\n",
      "primary_cleaner.state.floatbank8_c_level      5290 non-null float64\n",
      "primary_cleaner.state.floatbank8_d_air        5290 non-null float64\n",
      "primary_cleaner.state.floatbank8_d_level      5290 non-null float64\n",
      "rougher.input.feed_ag                         5290 non-null float64\n",
      "rougher.input.feed_pb                         5290 non-null float64\n",
      "rougher.input.feed_rate                       5287 non-null float64\n",
      "rougher.input.feed_size                       5289 non-null float64\n",
      "rougher.input.feed_sol                        5269 non-null float64\n",
      "rougher.input.feed_au                         5290 non-null float64\n",
      "rougher.input.floatbank10_sulfate             5285 non-null float64\n",
      "rougher.input.floatbank10_xanthate            5290 non-null float64\n",
      "rougher.input.floatbank11_sulfate             5282 non-null float64\n",
      "rougher.input.floatbank11_xanthate            5265 non-null float64\n",
      "rougher.state.floatbank10_a_air               5290 non-null float64\n",
      "rougher.state.floatbank10_a_level             5290 non-null float64\n",
      "rougher.state.floatbank10_b_air               5290 non-null float64\n",
      "rougher.state.floatbank10_b_level             5290 non-null float64\n",
      "rougher.state.floatbank10_c_air               5290 non-null float64\n",
      "rougher.state.floatbank10_c_level             5290 non-null float64\n",
      "rougher.state.floatbank10_d_air               5290 non-null float64\n",
      "rougher.state.floatbank10_d_level             5290 non-null float64\n",
      "rougher.state.floatbank10_e_air               5290 non-null float64\n",
      "rougher.state.floatbank10_e_level             5290 non-null float64\n",
      "rougher.state.floatbank10_f_air               5290 non-null float64\n",
      "rougher.state.floatbank10_f_level             5290 non-null float64\n",
      "secondary_cleaner.state.floatbank2_a_air      5287 non-null float64\n",
      "secondary_cleaner.state.floatbank2_a_level    5290 non-null float64\n",
      "secondary_cleaner.state.floatbank2_b_air      5288 non-null float64\n",
      "secondary_cleaner.state.floatbank2_b_level    5290 non-null float64\n",
      "secondary_cleaner.state.floatbank3_a_air      5281 non-null float64\n",
      "secondary_cleaner.state.floatbank3_a_level    5290 non-null float64\n",
      "secondary_cleaner.state.floatbank3_b_air      5290 non-null float64\n",
      "secondary_cleaner.state.floatbank3_b_level    5290 non-null float64\n",
      "secondary_cleaner.state.floatbank4_a_air      5290 non-null float64\n",
      "secondary_cleaner.state.floatbank4_a_level    5290 non-null float64\n",
      "secondary_cleaner.state.floatbank4_b_air      5290 non-null float64\n",
      "secondary_cleaner.state.floatbank4_b_level    5290 non-null float64\n",
      "secondary_cleaner.state.floatbank5_a_air      5290 non-null float64\n",
      "secondary_cleaner.state.floatbank5_a_level    5290 non-null float64\n",
      "secondary_cleaner.state.floatbank5_b_air      5290 non-null float64\n",
      "secondary_cleaner.state.floatbank5_b_level    5290 non-null float64\n",
      "secondary_cleaner.state.floatbank6_a_air      5290 non-null float64\n",
      "secondary_cleaner.state.floatbank6_a_level    5290 non-null float64\n",
      "dtypes: float64(52), object(1)\n",
      "memory usage: 2.1+ MB\n"
     ]
    },
    {
     "data": {
      "text/plain": [
       "None"
      ]
     },
     "metadata": {},
     "output_type": "display_data"
    },
    {
     "data": {
      "text/html": [
       "<div>\n",
       "<style scoped>\n",
       "    .dataframe tbody tr th:only-of-type {\n",
       "        vertical-align: middle;\n",
       "    }\n",
       "\n",
       "    .dataframe tbody tr th {\n",
       "        vertical-align: top;\n",
       "    }\n",
       "\n",
       "    .dataframe thead th {\n",
       "        text-align: right;\n",
       "    }\n",
       "</style>\n",
       "<table border=\"1\" class=\"dataframe\">\n",
       "  <thead>\n",
       "    <tr style=\"text-align: right;\">\n",
       "      <th></th>\n",
       "      <th>primary_cleaner.input.sulfate</th>\n",
       "      <th>primary_cleaner.input.depressant</th>\n",
       "      <th>primary_cleaner.input.feed_size</th>\n",
       "      <th>primary_cleaner.input.xanthate</th>\n",
       "      <th>primary_cleaner.state.floatbank8_a_air</th>\n",
       "      <th>primary_cleaner.state.floatbank8_a_level</th>\n",
       "      <th>primary_cleaner.state.floatbank8_b_air</th>\n",
       "      <th>primary_cleaner.state.floatbank8_b_level</th>\n",
       "      <th>primary_cleaner.state.floatbank8_c_air</th>\n",
       "      <th>primary_cleaner.state.floatbank8_c_level</th>\n",
       "      <th>...</th>\n",
       "      <th>secondary_cleaner.state.floatbank4_a_air</th>\n",
       "      <th>secondary_cleaner.state.floatbank4_a_level</th>\n",
       "      <th>secondary_cleaner.state.floatbank4_b_air</th>\n",
       "      <th>secondary_cleaner.state.floatbank4_b_level</th>\n",
       "      <th>secondary_cleaner.state.floatbank5_a_air</th>\n",
       "      <th>secondary_cleaner.state.floatbank5_a_level</th>\n",
       "      <th>secondary_cleaner.state.floatbank5_b_air</th>\n",
       "      <th>secondary_cleaner.state.floatbank5_b_level</th>\n",
       "      <th>secondary_cleaner.state.floatbank6_a_air</th>\n",
       "      <th>secondary_cleaner.state.floatbank6_a_level</th>\n",
       "    </tr>\n",
       "  </thead>\n",
       "  <tbody>\n",
       "    <tr>\n",
       "      <td>count</td>\n",
       "      <td>5286.000000</td>\n",
       "      <td>5285.000000</td>\n",
       "      <td>5290.000000</td>\n",
       "      <td>5286.000000</td>\n",
       "      <td>5.290000e+03</td>\n",
       "      <td>5290.000000</td>\n",
       "      <td>5.290000e+03</td>\n",
       "      <td>5290.000000</td>\n",
       "      <td>5.290000e+03</td>\n",
       "      <td>5290.000000</td>\n",
       "      <td>...</td>\n",
       "      <td>5.290000e+03</td>\n",
       "      <td>5290.000000</td>\n",
       "      <td>5.290000e+03</td>\n",
       "      <td>5290.000000</td>\n",
       "      <td>5290.000000</td>\n",
       "      <td>5290.000000</td>\n",
       "      <td>5290.000000</td>\n",
       "      <td>5290.000000</td>\n",
       "      <td>5290.000000</td>\n",
       "      <td>5290.000000</td>\n",
       "    </tr>\n",
       "    <tr>\n",
       "      <td>mean</td>\n",
       "      <td>174.839652</td>\n",
       "      <td>8.683596</td>\n",
       "      <td>7.266339</td>\n",
       "      <td>1.383803</td>\n",
       "      <td>1.539494e+03</td>\n",
       "      <td>-497.665883</td>\n",
       "      <td>1.545174e+03</td>\n",
       "      <td>-500.273098</td>\n",
       "      <td>1.527272e+03</td>\n",
       "      <td>-498.330680</td>\n",
       "      <td>...</td>\n",
       "      <td>1.632007e+01</td>\n",
       "      <td>-505.144570</td>\n",
       "      <td>1.373544e+01</td>\n",
       "      <td>-463.349858</td>\n",
       "      <td>12.804186</td>\n",
       "      <td>-501.329122</td>\n",
       "      <td>9.881145</td>\n",
       "      <td>-495.663398</td>\n",
       "      <td>17.304935</td>\n",
       "      <td>-501.793193</td>\n",
       "    </tr>\n",
       "    <tr>\n",
       "      <td>std</td>\n",
       "      <td>43.027080</td>\n",
       "      <td>3.072050</td>\n",
       "      <td>0.610219</td>\n",
       "      <td>0.643474</td>\n",
       "      <td>1.167979e+02</td>\n",
       "      <td>19.952431</td>\n",
       "      <td>1.222246e+02</td>\n",
       "      <td>32.968307</td>\n",
       "      <td>1.225380e+02</td>\n",
       "      <td>21.964876</td>\n",
       "      <td>...</td>\n",
       "      <td>3.493583e+00</td>\n",
       "      <td>31.427337</td>\n",
       "      <td>3.430484e+00</td>\n",
       "      <td>86.189107</td>\n",
       "      <td>3.026591</td>\n",
       "      <td>17.951495</td>\n",
       "      <td>2.868205</td>\n",
       "      <td>34.535007</td>\n",
       "      <td>4.536544</td>\n",
       "      <td>39.044215</td>\n",
       "    </tr>\n",
       "    <tr>\n",
       "      <td>min</td>\n",
       "      <td>2.566156</td>\n",
       "      <td>0.003839</td>\n",
       "      <td>5.650000</td>\n",
       "      <td>0.004984</td>\n",
       "      <td>5.445860e-32</td>\n",
       "      <td>-795.316337</td>\n",
       "      <td>6.647490e-32</td>\n",
       "      <td>-799.997015</td>\n",
       "      <td>4.033736e-32</td>\n",
       "      <td>-799.960571</td>\n",
       "      <td>...</td>\n",
       "      <td>1.079872e-16</td>\n",
       "      <td>-799.798523</td>\n",
       "      <td>2.489718e-17</td>\n",
       "      <td>-800.836914</td>\n",
       "      <td>0.069227</td>\n",
       "      <td>-797.323986</td>\n",
       "      <td>0.528083</td>\n",
       "      <td>-800.220337</td>\n",
       "      <td>-0.079426</td>\n",
       "      <td>-809.741464</td>\n",
       "    </tr>\n",
       "    <tr>\n",
       "      <td>25%</td>\n",
       "      <td>147.121401</td>\n",
       "      <td>6.489555</td>\n",
       "      <td>6.890000</td>\n",
       "      <td>0.907623</td>\n",
       "      <td>1.498936e+03</td>\n",
       "      <td>-500.357298</td>\n",
       "      <td>1.498971e+03</td>\n",
       "      <td>-500.703002</td>\n",
       "      <td>1.473230e+03</td>\n",
       "      <td>-501.018117</td>\n",
       "      <td>...</td>\n",
       "      <td>1.403618e+01</td>\n",
       "      <td>-500.868258</td>\n",
       "      <td>1.202862e+01</td>\n",
       "      <td>-500.323028</td>\n",
       "      <td>10.914838</td>\n",
       "      <td>-500.726841</td>\n",
       "      <td>8.036719</td>\n",
       "      <td>-500.194668</td>\n",
       "      <td>13.997317</td>\n",
       "      <td>-500.690984</td>\n",
       "    </tr>\n",
       "    <tr>\n",
       "      <td>50%</td>\n",
       "      <td>177.828489</td>\n",
       "      <td>8.052207</td>\n",
       "      <td>7.250000</td>\n",
       "      <td>1.197610</td>\n",
       "      <td>1.585129e+03</td>\n",
       "      <td>-499.969164</td>\n",
       "      <td>1.595622e+03</td>\n",
       "      <td>-500.028514</td>\n",
       "      <td>1.549595e+03</td>\n",
       "      <td>-500.017711</td>\n",
       "      <td>...</td>\n",
       "      <td>1.700847e+01</td>\n",
       "      <td>-500.115727</td>\n",
       "      <td>1.496486e+01</td>\n",
       "      <td>-499.576513</td>\n",
       "      <td>12.954182</td>\n",
       "      <td>-499.990332</td>\n",
       "      <td>10.004301</td>\n",
       "      <td>-499.990535</td>\n",
       "      <td>16.014935</td>\n",
       "      <td>-500.007126</td>\n",
       "    </tr>\n",
       "    <tr>\n",
       "      <td>75%</td>\n",
       "      <td>208.125438</td>\n",
       "      <td>10.027764</td>\n",
       "      <td>7.600000</td>\n",
       "      <td>1.797819</td>\n",
       "      <td>1.602077e+03</td>\n",
       "      <td>-499.568951</td>\n",
       "      <td>1.602324e+03</td>\n",
       "      <td>-499.293257</td>\n",
       "      <td>1.601144e+03</td>\n",
       "      <td>-498.994130</td>\n",
       "      <td>...</td>\n",
       "      <td>1.803862e+01</td>\n",
       "      <td>-499.404224</td>\n",
       "      <td>1.596213e+01</td>\n",
       "      <td>-400.933805</td>\n",
       "      <td>15.097528</td>\n",
       "      <td>-499.283191</td>\n",
       "      <td>11.997467</td>\n",
       "      <td>-499.719913</td>\n",
       "      <td>21.020013</td>\n",
       "      <td>-499.373018</td>\n",
       "    </tr>\n",
       "    <tr>\n",
       "      <td>max</td>\n",
       "      <td>265.983123</td>\n",
       "      <td>40.000000</td>\n",
       "      <td>15.500000</td>\n",
       "      <td>4.102454</td>\n",
       "      <td>2.103104e+03</td>\n",
       "      <td>-57.195404</td>\n",
       "      <td>1.813084e+03</td>\n",
       "      <td>-142.527229</td>\n",
       "      <td>1.715054e+03</td>\n",
       "      <td>-150.937035</td>\n",
       "      <td>...</td>\n",
       "      <td>3.005180e+01</td>\n",
       "      <td>-401.565212</td>\n",
       "      <td>3.126971e+01</td>\n",
       "      <td>-6.506986</td>\n",
       "      <td>25.258848</td>\n",
       "      <td>-244.483566</td>\n",
       "      <td>14.086866</td>\n",
       "      <td>-137.740004</td>\n",
       "      <td>26.705889</td>\n",
       "      <td>-123.307487</td>\n",
       "    </tr>\n",
       "  </tbody>\n",
       "</table>\n",
       "<p>8 rows × 52 columns</p>\n",
       "</div>"
      ],
      "text/plain": [
       "       primary_cleaner.input.sulfate  primary_cleaner.input.depressant  \\\n",
       "count                    5286.000000                       5285.000000   \n",
       "mean                      174.839652                          8.683596   \n",
       "std                        43.027080                          3.072050   \n",
       "min                         2.566156                          0.003839   \n",
       "25%                       147.121401                          6.489555   \n",
       "50%                       177.828489                          8.052207   \n",
       "75%                       208.125438                         10.027764   \n",
       "max                       265.983123                         40.000000   \n",
       "\n",
       "       primary_cleaner.input.feed_size  primary_cleaner.input.xanthate  \\\n",
       "count                      5290.000000                     5286.000000   \n",
       "mean                          7.266339                        1.383803   \n",
       "std                           0.610219                        0.643474   \n",
       "min                           5.650000                        0.004984   \n",
       "25%                           6.890000                        0.907623   \n",
       "50%                           7.250000                        1.197610   \n",
       "75%                           7.600000                        1.797819   \n",
       "max                          15.500000                        4.102454   \n",
       "\n",
       "       primary_cleaner.state.floatbank8_a_air  \\\n",
       "count                            5.290000e+03   \n",
       "mean                             1.539494e+03   \n",
       "std                              1.167979e+02   \n",
       "min                              5.445860e-32   \n",
       "25%                              1.498936e+03   \n",
       "50%                              1.585129e+03   \n",
       "75%                              1.602077e+03   \n",
       "max                              2.103104e+03   \n",
       "\n",
       "       primary_cleaner.state.floatbank8_a_level  \\\n",
       "count                               5290.000000   \n",
       "mean                                -497.665883   \n",
       "std                                   19.952431   \n",
       "min                                 -795.316337   \n",
       "25%                                 -500.357298   \n",
       "50%                                 -499.969164   \n",
       "75%                                 -499.568951   \n",
       "max                                  -57.195404   \n",
       "\n",
       "       primary_cleaner.state.floatbank8_b_air  \\\n",
       "count                            5.290000e+03   \n",
       "mean                             1.545174e+03   \n",
       "std                              1.222246e+02   \n",
       "min                              6.647490e-32   \n",
       "25%                              1.498971e+03   \n",
       "50%                              1.595622e+03   \n",
       "75%                              1.602324e+03   \n",
       "max                              1.813084e+03   \n",
       "\n",
       "       primary_cleaner.state.floatbank8_b_level  \\\n",
       "count                               5290.000000   \n",
       "mean                                -500.273098   \n",
       "std                                   32.968307   \n",
       "min                                 -799.997015   \n",
       "25%                                 -500.703002   \n",
       "50%                                 -500.028514   \n",
       "75%                                 -499.293257   \n",
       "max                                 -142.527229   \n",
       "\n",
       "       primary_cleaner.state.floatbank8_c_air  \\\n",
       "count                            5.290000e+03   \n",
       "mean                             1.527272e+03   \n",
       "std                              1.225380e+02   \n",
       "min                              4.033736e-32   \n",
       "25%                              1.473230e+03   \n",
       "50%                              1.549595e+03   \n",
       "75%                              1.601144e+03   \n",
       "max                              1.715054e+03   \n",
       "\n",
       "       primary_cleaner.state.floatbank8_c_level  ...  \\\n",
       "count                               5290.000000  ...   \n",
       "mean                                -498.330680  ...   \n",
       "std                                   21.964876  ...   \n",
       "min                                 -799.960571  ...   \n",
       "25%                                 -501.018117  ...   \n",
       "50%                                 -500.017711  ...   \n",
       "75%                                 -498.994130  ...   \n",
       "max                                 -150.937035  ...   \n",
       "\n",
       "       secondary_cleaner.state.floatbank4_a_air  \\\n",
       "count                              5.290000e+03   \n",
       "mean                               1.632007e+01   \n",
       "std                                3.493583e+00   \n",
       "min                                1.079872e-16   \n",
       "25%                                1.403618e+01   \n",
       "50%                                1.700847e+01   \n",
       "75%                                1.803862e+01   \n",
       "max                                3.005180e+01   \n",
       "\n",
       "       secondary_cleaner.state.floatbank4_a_level  \\\n",
       "count                                 5290.000000   \n",
       "mean                                  -505.144570   \n",
       "std                                     31.427337   \n",
       "min                                   -799.798523   \n",
       "25%                                   -500.868258   \n",
       "50%                                   -500.115727   \n",
       "75%                                   -499.404224   \n",
       "max                                   -401.565212   \n",
       "\n",
       "       secondary_cleaner.state.floatbank4_b_air  \\\n",
       "count                              5.290000e+03   \n",
       "mean                               1.373544e+01   \n",
       "std                                3.430484e+00   \n",
       "min                                2.489718e-17   \n",
       "25%                                1.202862e+01   \n",
       "50%                                1.496486e+01   \n",
       "75%                                1.596213e+01   \n",
       "max                                3.126971e+01   \n",
       "\n",
       "       secondary_cleaner.state.floatbank4_b_level  \\\n",
       "count                                 5290.000000   \n",
       "mean                                  -463.349858   \n",
       "std                                     86.189107   \n",
       "min                                   -800.836914   \n",
       "25%                                   -500.323028   \n",
       "50%                                   -499.576513   \n",
       "75%                                   -400.933805   \n",
       "max                                     -6.506986   \n",
       "\n",
       "       secondary_cleaner.state.floatbank5_a_air  \\\n",
       "count                               5290.000000   \n",
       "mean                                  12.804186   \n",
       "std                                    3.026591   \n",
       "min                                    0.069227   \n",
       "25%                                   10.914838   \n",
       "50%                                   12.954182   \n",
       "75%                                   15.097528   \n",
       "max                                   25.258848   \n",
       "\n",
       "       secondary_cleaner.state.floatbank5_a_level  \\\n",
       "count                                 5290.000000   \n",
       "mean                                  -501.329122   \n",
       "std                                     17.951495   \n",
       "min                                   -797.323986   \n",
       "25%                                   -500.726841   \n",
       "50%                                   -499.990332   \n",
       "75%                                   -499.283191   \n",
       "max                                   -244.483566   \n",
       "\n",
       "       secondary_cleaner.state.floatbank5_b_air  \\\n",
       "count                               5290.000000   \n",
       "mean                                   9.881145   \n",
       "std                                    2.868205   \n",
       "min                                    0.528083   \n",
       "25%                                    8.036719   \n",
       "50%                                   10.004301   \n",
       "75%                                   11.997467   \n",
       "max                                   14.086866   \n",
       "\n",
       "       secondary_cleaner.state.floatbank5_b_level  \\\n",
       "count                                 5290.000000   \n",
       "mean                                  -495.663398   \n",
       "std                                     34.535007   \n",
       "min                                   -800.220337   \n",
       "25%                                   -500.194668   \n",
       "50%                                   -499.990535   \n",
       "75%                                   -499.719913   \n",
       "max                                   -137.740004   \n",
       "\n",
       "       secondary_cleaner.state.floatbank6_a_air  \\\n",
       "count                               5290.000000   \n",
       "mean                                  17.304935   \n",
       "std                                    4.536544   \n",
       "min                                   -0.079426   \n",
       "25%                                   13.997317   \n",
       "50%                                   16.014935   \n",
       "75%                                   21.020013   \n",
       "max                                   26.705889   \n",
       "\n",
       "       secondary_cleaner.state.floatbank6_a_level  \n",
       "count                                 5290.000000  \n",
       "mean                                  -501.793193  \n",
       "std                                     39.044215  \n",
       "min                                   -809.741464  \n",
       "25%                                   -500.690984  \n",
       "50%                                   -500.007126  \n",
       "75%                                   -499.373018  \n",
       "max                                   -123.307487  \n",
       "\n",
       "[8 rows x 52 columns]"
      ]
     },
     "metadata": {},
     "output_type": "display_data"
    },
    {
     "data": {
      "text/plain": [
       "(None, None, None)"
      ]
     },
     "execution_count": 5,
     "metadata": {},
     "output_type": "execute_result"
    }
   ],
   "source": [
    "print(\"Давайте посмотрим на тестовую выборку:\")\n",
    "show_data(gold_recovery_test) # показ данных тестовой выборки"
   ]
  },
  {
   "cell_type": "code",
   "execution_count": 6,
   "metadata": {},
   "outputs": [
    {
     "name": "stdout",
     "output_type": "stream",
     "text": [
      "Давайте посмотрим на общую выборку:\n"
     ]
    },
    {
     "data": {
      "text/html": [
       "<div>\n",
       "<style scoped>\n",
       "    .dataframe tbody tr th:only-of-type {\n",
       "        vertical-align: middle;\n",
       "    }\n",
       "\n",
       "    .dataframe tbody tr th {\n",
       "        vertical-align: top;\n",
       "    }\n",
       "\n",
       "    .dataframe thead th {\n",
       "        text-align: right;\n",
       "    }\n",
       "</style>\n",
       "<table border=\"1\" class=\"dataframe\">\n",
       "  <thead>\n",
       "    <tr style=\"text-align: right;\">\n",
       "      <th></th>\n",
       "      <th>date</th>\n",
       "      <th>final.output.concentrate_ag</th>\n",
       "      <th>final.output.concentrate_pb</th>\n",
       "      <th>final.output.concentrate_sol</th>\n",
       "      <th>final.output.concentrate_au</th>\n",
       "      <th>final.output.recovery</th>\n",
       "      <th>final.output.tail_ag</th>\n",
       "      <th>final.output.tail_pb</th>\n",
       "      <th>final.output.tail_sol</th>\n",
       "      <th>final.output.tail_au</th>\n",
       "      <th>...</th>\n",
       "      <th>secondary_cleaner.state.floatbank4_a_air</th>\n",
       "      <th>secondary_cleaner.state.floatbank4_a_level</th>\n",
       "      <th>secondary_cleaner.state.floatbank4_b_air</th>\n",
       "      <th>secondary_cleaner.state.floatbank4_b_level</th>\n",
       "      <th>secondary_cleaner.state.floatbank5_a_air</th>\n",
       "      <th>secondary_cleaner.state.floatbank5_a_level</th>\n",
       "      <th>secondary_cleaner.state.floatbank5_b_air</th>\n",
       "      <th>secondary_cleaner.state.floatbank5_b_level</th>\n",
       "      <th>secondary_cleaner.state.floatbank6_a_air</th>\n",
       "      <th>secondary_cleaner.state.floatbank6_a_level</th>\n",
       "    </tr>\n",
       "  </thead>\n",
       "  <tbody>\n",
       "    <tr>\n",
       "      <td>0</td>\n",
       "      <td>2016-01-15 00:00:00</td>\n",
       "      <td>6.055403</td>\n",
       "      <td>9.889648</td>\n",
       "      <td>5.507324</td>\n",
       "      <td>42.192020</td>\n",
       "      <td>70.541216</td>\n",
       "      <td>10.411962</td>\n",
       "      <td>0.895447</td>\n",
       "      <td>16.904297</td>\n",
       "      <td>2.143149</td>\n",
       "      <td>...</td>\n",
       "      <td>14.016835</td>\n",
       "      <td>-502.488007</td>\n",
       "      <td>12.099931</td>\n",
       "      <td>-504.715942</td>\n",
       "      <td>9.925633</td>\n",
       "      <td>-498.310211</td>\n",
       "      <td>8.079666</td>\n",
       "      <td>-500.470978</td>\n",
       "      <td>14.151341</td>\n",
       "      <td>-605.841980</td>\n",
       "    </tr>\n",
       "    <tr>\n",
       "      <td>1</td>\n",
       "      <td>2016-01-15 01:00:00</td>\n",
       "      <td>6.029369</td>\n",
       "      <td>9.968944</td>\n",
       "      <td>5.257781</td>\n",
       "      <td>42.701629</td>\n",
       "      <td>69.266198</td>\n",
       "      <td>10.462676</td>\n",
       "      <td>0.927452</td>\n",
       "      <td>16.634514</td>\n",
       "      <td>2.224930</td>\n",
       "      <td>...</td>\n",
       "      <td>13.992281</td>\n",
       "      <td>-505.503262</td>\n",
       "      <td>11.950531</td>\n",
       "      <td>-501.331529</td>\n",
       "      <td>10.039245</td>\n",
       "      <td>-500.169983</td>\n",
       "      <td>7.984757</td>\n",
       "      <td>-500.582168</td>\n",
       "      <td>13.998353</td>\n",
       "      <td>-599.787184</td>\n",
       "    </tr>\n",
       "    <tr>\n",
       "      <td>2</td>\n",
       "      <td>2016-01-15 02:00:00</td>\n",
       "      <td>6.055926</td>\n",
       "      <td>10.213995</td>\n",
       "      <td>5.383759</td>\n",
       "      <td>42.657501</td>\n",
       "      <td>68.116445</td>\n",
       "      <td>10.507046</td>\n",
       "      <td>0.953716</td>\n",
       "      <td>16.208849</td>\n",
       "      <td>2.257889</td>\n",
       "      <td>...</td>\n",
       "      <td>14.015015</td>\n",
       "      <td>-502.520901</td>\n",
       "      <td>11.912783</td>\n",
       "      <td>-501.133383</td>\n",
       "      <td>10.070913</td>\n",
       "      <td>-500.129135</td>\n",
       "      <td>8.013877</td>\n",
       "      <td>-500.517572</td>\n",
       "      <td>14.028663</td>\n",
       "      <td>-601.427363</td>\n",
       "    </tr>\n",
       "    <tr>\n",
       "      <td>3</td>\n",
       "      <td>2016-01-15 03:00:00</td>\n",
       "      <td>6.047977</td>\n",
       "      <td>9.977019</td>\n",
       "      <td>4.858634</td>\n",
       "      <td>42.689819</td>\n",
       "      <td>68.347543</td>\n",
       "      <td>10.422762</td>\n",
       "      <td>0.883763</td>\n",
       "      <td>16.532835</td>\n",
       "      <td>2.146849</td>\n",
       "      <td>...</td>\n",
       "      <td>14.036510</td>\n",
       "      <td>-500.857308</td>\n",
       "      <td>11.999550</td>\n",
       "      <td>-501.193686</td>\n",
       "      <td>9.970366</td>\n",
       "      <td>-499.201640</td>\n",
       "      <td>7.977324</td>\n",
       "      <td>-500.255908</td>\n",
       "      <td>14.005551</td>\n",
       "      <td>-599.996129</td>\n",
       "    </tr>\n",
       "    <tr>\n",
       "      <td>4</td>\n",
       "      <td>2016-01-15 04:00:00</td>\n",
       "      <td>6.148599</td>\n",
       "      <td>10.142511</td>\n",
       "      <td>4.939416</td>\n",
       "      <td>42.774141</td>\n",
       "      <td>66.927016</td>\n",
       "      <td>10.360302</td>\n",
       "      <td>0.792826</td>\n",
       "      <td>16.525686</td>\n",
       "      <td>2.055292</td>\n",
       "      <td>...</td>\n",
       "      <td>14.027298</td>\n",
       "      <td>-499.838632</td>\n",
       "      <td>11.953070</td>\n",
       "      <td>-501.053894</td>\n",
       "      <td>9.925709</td>\n",
       "      <td>-501.686727</td>\n",
       "      <td>7.894242</td>\n",
       "      <td>-500.356035</td>\n",
       "      <td>13.996647</td>\n",
       "      <td>-601.496691</td>\n",
       "    </tr>\n",
       "  </tbody>\n",
       "</table>\n",
       "<p>5 rows × 87 columns</p>\n",
       "</div>"
      ],
      "text/plain": [
       "                  date  final.output.concentrate_ag  \\\n",
       "0  2016-01-15 00:00:00                     6.055403   \n",
       "1  2016-01-15 01:00:00                     6.029369   \n",
       "2  2016-01-15 02:00:00                     6.055926   \n",
       "3  2016-01-15 03:00:00                     6.047977   \n",
       "4  2016-01-15 04:00:00                     6.148599   \n",
       "\n",
       "   final.output.concentrate_pb  final.output.concentrate_sol  \\\n",
       "0                     9.889648                      5.507324   \n",
       "1                     9.968944                      5.257781   \n",
       "2                    10.213995                      5.383759   \n",
       "3                     9.977019                      4.858634   \n",
       "4                    10.142511                      4.939416   \n",
       "\n",
       "   final.output.concentrate_au  final.output.recovery  final.output.tail_ag  \\\n",
       "0                    42.192020              70.541216             10.411962   \n",
       "1                    42.701629              69.266198             10.462676   \n",
       "2                    42.657501              68.116445             10.507046   \n",
       "3                    42.689819              68.347543             10.422762   \n",
       "4                    42.774141              66.927016             10.360302   \n",
       "\n",
       "   final.output.tail_pb  final.output.tail_sol  final.output.tail_au  ...  \\\n",
       "0              0.895447              16.904297              2.143149  ...   \n",
       "1              0.927452              16.634514              2.224930  ...   \n",
       "2              0.953716              16.208849              2.257889  ...   \n",
       "3              0.883763              16.532835              2.146849  ...   \n",
       "4              0.792826              16.525686              2.055292  ...   \n",
       "\n",
       "   secondary_cleaner.state.floatbank4_a_air  \\\n",
       "0                                 14.016835   \n",
       "1                                 13.992281   \n",
       "2                                 14.015015   \n",
       "3                                 14.036510   \n",
       "4                                 14.027298   \n",
       "\n",
       "   secondary_cleaner.state.floatbank4_a_level  \\\n",
       "0                                 -502.488007   \n",
       "1                                 -505.503262   \n",
       "2                                 -502.520901   \n",
       "3                                 -500.857308   \n",
       "4                                 -499.838632   \n",
       "\n",
       "   secondary_cleaner.state.floatbank4_b_air  \\\n",
       "0                                 12.099931   \n",
       "1                                 11.950531   \n",
       "2                                 11.912783   \n",
       "3                                 11.999550   \n",
       "4                                 11.953070   \n",
       "\n",
       "   secondary_cleaner.state.floatbank4_b_level  \\\n",
       "0                                 -504.715942   \n",
       "1                                 -501.331529   \n",
       "2                                 -501.133383   \n",
       "3                                 -501.193686   \n",
       "4                                 -501.053894   \n",
       "\n",
       "   secondary_cleaner.state.floatbank5_a_air  \\\n",
       "0                                  9.925633   \n",
       "1                                 10.039245   \n",
       "2                                 10.070913   \n",
       "3                                  9.970366   \n",
       "4                                  9.925709   \n",
       "\n",
       "   secondary_cleaner.state.floatbank5_a_level  \\\n",
       "0                                 -498.310211   \n",
       "1                                 -500.169983   \n",
       "2                                 -500.129135   \n",
       "3                                 -499.201640   \n",
       "4                                 -501.686727   \n",
       "\n",
       "   secondary_cleaner.state.floatbank5_b_air  \\\n",
       "0                                  8.079666   \n",
       "1                                  7.984757   \n",
       "2                                  8.013877   \n",
       "3                                  7.977324   \n",
       "4                                  7.894242   \n",
       "\n",
       "   secondary_cleaner.state.floatbank5_b_level  \\\n",
       "0                                 -500.470978   \n",
       "1                                 -500.582168   \n",
       "2                                 -500.517572   \n",
       "3                                 -500.255908   \n",
       "4                                 -500.356035   \n",
       "\n",
       "   secondary_cleaner.state.floatbank6_a_air  \\\n",
       "0                                 14.151341   \n",
       "1                                 13.998353   \n",
       "2                                 14.028663   \n",
       "3                                 14.005551   \n",
       "4                                 13.996647   \n",
       "\n",
       "   secondary_cleaner.state.floatbank6_a_level  \n",
       "0                                 -605.841980  \n",
       "1                                 -599.787184  \n",
       "2                                 -601.427363  \n",
       "3                                 -599.996129  \n",
       "4                                 -601.496691  \n",
       "\n",
       "[5 rows x 87 columns]"
      ]
     },
     "metadata": {},
     "output_type": "display_data"
    },
    {
     "name": "stdout",
     "output_type": "stream",
     "text": [
      "<class 'pandas.core.frame.DataFrame'>\n",
      "RangeIndex: 19439 entries, 0 to 19438\n",
      "Data columns (total 87 columns):\n",
      "date                                                  19439 non-null object\n",
      "final.output.concentrate_ag                           19438 non-null float64\n",
      "final.output.concentrate_pb                           19438 non-null float64\n",
      "final.output.concentrate_sol                          19228 non-null float64\n",
      "final.output.concentrate_au                           19439 non-null float64\n",
      "final.output.recovery                                 19439 non-null float64\n",
      "final.output.tail_ag                                  19438 non-null float64\n",
      "final.output.tail_pb                                  19338 non-null float64\n",
      "final.output.tail_sol                                 19433 non-null float64\n",
      "final.output.tail_au                                  19439 non-null float64\n",
      "primary_cleaner.input.sulfate                         19415 non-null float64\n",
      "primary_cleaner.input.depressant                      19402 non-null float64\n",
      "primary_cleaner.input.feed_size                       19439 non-null float64\n",
      "primary_cleaner.input.xanthate                        19335 non-null float64\n",
      "primary_cleaner.output.concentrate_ag                 19439 non-null float64\n",
      "primary_cleaner.output.concentrate_pb                 19323 non-null float64\n",
      "primary_cleaner.output.concentrate_sol                19069 non-null float64\n",
      "primary_cleaner.output.concentrate_au                 19439 non-null float64\n",
      "primary_cleaner.output.tail_ag                        19435 non-null float64\n",
      "primary_cleaner.output.tail_pb                        19418 non-null float64\n",
      "primary_cleaner.output.tail_sol                       19377 non-null float64\n",
      "primary_cleaner.output.tail_au                        19439 non-null float64\n",
      "primary_cleaner.state.floatbank8_a_air                19435 non-null float64\n",
      "primary_cleaner.state.floatbank8_a_level              19438 non-null float64\n",
      "primary_cleaner.state.floatbank8_b_air                19435 non-null float64\n",
      "primary_cleaner.state.floatbank8_b_level              19438 non-null float64\n",
      "primary_cleaner.state.floatbank8_c_air                19437 non-null float64\n",
      "primary_cleaner.state.floatbank8_c_level              19438 non-null float64\n",
      "primary_cleaner.state.floatbank8_d_air                19436 non-null float64\n",
      "primary_cleaner.state.floatbank8_d_level              19438 non-null float64\n",
      "rougher.calculation.sulfate_to_au_concentrate         19437 non-null float64\n",
      "rougher.calculation.floatbank10_sulfate_to_au_feed    19437 non-null float64\n",
      "rougher.calculation.floatbank11_sulfate_to_au_feed    19437 non-null float64\n",
      "rougher.calculation.au_pb_ratio                       19439 non-null float64\n",
      "rougher.input.feed_ag                                 19439 non-null float64\n",
      "rougher.input.feed_pb                                 19339 non-null float64\n",
      "rougher.input.feed_rate                               19428 non-null float64\n",
      "rougher.input.feed_size                               19294 non-null float64\n",
      "rougher.input.feed_sol                                19340 non-null float64\n",
      "rougher.input.feed_au                                 19439 non-null float64\n",
      "rougher.input.floatbank10_sulfate                     19405 non-null float64\n",
      "rougher.input.floatbank10_xanthate                    19431 non-null float64\n",
      "rougher.input.floatbank11_sulfate                     19395 non-null float64\n",
      "rougher.input.floatbank11_xanthate                    18986 non-null float64\n",
      "rougher.output.concentrate_ag                         19439 non-null float64\n",
      "rougher.output.concentrate_pb                         19439 non-null float64\n",
      "rougher.output.concentrate_sol                        19416 non-null float64\n",
      "rougher.output.concentrate_au                         19439 non-null float64\n",
      "rougher.output.recovery                               19439 non-null float64\n",
      "rougher.output.tail_ag                                19438 non-null float64\n",
      "rougher.output.tail_pb                                19439 non-null float64\n",
      "rougher.output.tail_sol                               19439 non-null float64\n",
      "rougher.output.tail_au                                19439 non-null float64\n",
      "rougher.state.floatbank10_a_air                       19438 non-null float64\n",
      "rougher.state.floatbank10_a_level                     19438 non-null float64\n",
      "rougher.state.floatbank10_b_air                       19438 non-null float64\n",
      "rougher.state.floatbank10_b_level                     19438 non-null float64\n",
      "rougher.state.floatbank10_c_air                       19438 non-null float64\n",
      "rougher.state.floatbank10_c_level                     19438 non-null float64\n",
      "rougher.state.floatbank10_d_air                       19439 non-null float64\n",
      "rougher.state.floatbank10_d_level                     19439 non-null float64\n",
      "rougher.state.floatbank10_e_air                       19003 non-null float64\n",
      "rougher.state.floatbank10_e_level                     19439 non-null float64\n",
      "rougher.state.floatbank10_f_air                       19439 non-null float64\n",
      "rougher.state.floatbank10_f_level                     19439 non-null float64\n",
      "secondary_cleaner.output.tail_ag                      19437 non-null float64\n",
      "secondary_cleaner.output.tail_pb                      19427 non-null float64\n",
      "secondary_cleaner.output.tail_sol                     17691 non-null float64\n",
      "secondary_cleaner.output.tail_au                      19439 non-null float64\n",
      "secondary_cleaner.state.floatbank2_a_air              19219 non-null float64\n",
      "secondary_cleaner.state.floatbank2_a_level            19438 non-null float64\n",
      "secondary_cleaner.state.floatbank2_b_air              19416 non-null float64\n",
      "secondary_cleaner.state.floatbank2_b_level            19438 non-null float64\n",
      "secondary_cleaner.state.floatbank3_a_air              19426 non-null float64\n",
      "secondary_cleaner.state.floatbank3_a_level            19438 non-null float64\n",
      "secondary_cleaner.state.floatbank3_b_air              19438 non-null float64\n",
      "secondary_cleaner.state.floatbank3_b_level            19438 non-null float64\n",
      "secondary_cleaner.state.floatbank4_a_air              19433 non-null float64\n",
      "secondary_cleaner.state.floatbank4_a_level            19438 non-null float64\n",
      "secondary_cleaner.state.floatbank4_b_air              19438 non-null float64\n",
      "secondary_cleaner.state.floatbank4_b_level            19438 non-null float64\n",
      "secondary_cleaner.state.floatbank5_a_air              19438 non-null float64\n",
      "secondary_cleaner.state.floatbank5_a_level            19438 non-null float64\n",
      "secondary_cleaner.state.floatbank5_b_air              19438 non-null float64\n",
      "secondary_cleaner.state.floatbank5_b_level            19438 non-null float64\n",
      "secondary_cleaner.state.floatbank6_a_air              19437 non-null float64\n",
      "secondary_cleaner.state.floatbank6_a_level            19438 non-null float64\n",
      "dtypes: float64(86), object(1)\n",
      "memory usage: 12.9+ MB\n"
     ]
    },
    {
     "data": {
      "text/plain": [
       "None"
      ]
     },
     "metadata": {},
     "output_type": "display_data"
    },
    {
     "data": {
      "text/html": [
       "<div>\n",
       "<style scoped>\n",
       "    .dataframe tbody tr th:only-of-type {\n",
       "        vertical-align: middle;\n",
       "    }\n",
       "\n",
       "    .dataframe tbody tr th {\n",
       "        vertical-align: top;\n",
       "    }\n",
       "\n",
       "    .dataframe thead th {\n",
       "        text-align: right;\n",
       "    }\n",
       "</style>\n",
       "<table border=\"1\" class=\"dataframe\">\n",
       "  <thead>\n",
       "    <tr style=\"text-align: right;\">\n",
       "      <th></th>\n",
       "      <th>final.output.concentrate_ag</th>\n",
       "      <th>final.output.concentrate_pb</th>\n",
       "      <th>final.output.concentrate_sol</th>\n",
       "      <th>final.output.concentrate_au</th>\n",
       "      <th>final.output.recovery</th>\n",
       "      <th>final.output.tail_ag</th>\n",
       "      <th>final.output.tail_pb</th>\n",
       "      <th>final.output.tail_sol</th>\n",
       "      <th>final.output.tail_au</th>\n",
       "      <th>primary_cleaner.input.sulfate</th>\n",
       "      <th>...</th>\n",
       "      <th>secondary_cleaner.state.floatbank4_a_air</th>\n",
       "      <th>secondary_cleaner.state.floatbank4_a_level</th>\n",
       "      <th>secondary_cleaner.state.floatbank4_b_air</th>\n",
       "      <th>secondary_cleaner.state.floatbank4_b_level</th>\n",
       "      <th>secondary_cleaner.state.floatbank5_a_air</th>\n",
       "      <th>secondary_cleaner.state.floatbank5_a_level</th>\n",
       "      <th>secondary_cleaner.state.floatbank5_b_air</th>\n",
       "      <th>secondary_cleaner.state.floatbank5_b_level</th>\n",
       "      <th>secondary_cleaner.state.floatbank6_a_air</th>\n",
       "      <th>secondary_cleaner.state.floatbank6_a_level</th>\n",
       "    </tr>\n",
       "  </thead>\n",
       "  <tbody>\n",
       "    <tr>\n",
       "      <td>count</td>\n",
       "      <td>19438.000000</td>\n",
       "      <td>19438.000000</td>\n",
       "      <td>19228.000000</td>\n",
       "      <td>19439.000000</td>\n",
       "      <td>19439.000000</td>\n",
       "      <td>19438.000000</td>\n",
       "      <td>19338.000000</td>\n",
       "      <td>19433.000000</td>\n",
       "      <td>19439.000000</td>\n",
       "      <td>19415.000000</td>\n",
       "      <td>...</td>\n",
       "      <td>19433.000000</td>\n",
       "      <td>19438.000000</td>\n",
       "      <td>19438.000000</td>\n",
       "      <td>19438.000000</td>\n",
       "      <td>19438.000000</td>\n",
       "      <td>19438.000000</td>\n",
       "      <td>19438.000000</td>\n",
       "      <td>19438.000000</td>\n",
       "      <td>19437.000000</td>\n",
       "      <td>19438.000000</td>\n",
       "    </tr>\n",
       "    <tr>\n",
       "      <td>mean</td>\n",
       "      <td>5.168470</td>\n",
       "      <td>9.978895</td>\n",
       "      <td>9.501224</td>\n",
       "      <td>44.076513</td>\n",
       "      <td>67.050208</td>\n",
       "      <td>9.688589</td>\n",
       "      <td>2.705795</td>\n",
       "      <td>10.583728</td>\n",
       "      <td>3.042467</td>\n",
       "      <td>144.624774</td>\n",
       "      <td>...</td>\n",
       "      <td>18.987674</td>\n",
       "      <td>-485.894516</td>\n",
       "      <td>15.010366</td>\n",
       "      <td>-461.078636</td>\n",
       "      <td>15.694452</td>\n",
       "      <td>-488.684065</td>\n",
       "      <td>12.198224</td>\n",
       "      <td>-487.149827</td>\n",
       "      <td>18.959024</td>\n",
       "      <td>-505.436305</td>\n",
       "    </tr>\n",
       "    <tr>\n",
       "      <td>std</td>\n",
       "      <td>1.372348</td>\n",
       "      <td>1.669240</td>\n",
       "      <td>2.787537</td>\n",
       "      <td>5.129784</td>\n",
       "      <td>10.125840</td>\n",
       "      <td>2.328642</td>\n",
       "      <td>0.949077</td>\n",
       "      <td>2.868782</td>\n",
       "      <td>0.922808</td>\n",
       "      <td>44.464071</td>\n",
       "      <td>...</td>\n",
       "      <td>5.411058</td>\n",
       "      <td>47.758570</td>\n",
       "      <td>4.890228</td>\n",
       "      <td>67.405524</td>\n",
       "      <td>5.510974</td>\n",
       "      <td>34.533396</td>\n",
       "      <td>5.333024</td>\n",
       "      <td>38.347312</td>\n",
       "      <td>5.550498</td>\n",
       "      <td>37.689057</td>\n",
       "    </tr>\n",
       "    <tr>\n",
       "      <td>min</td>\n",
       "      <td>0.000000</td>\n",
       "      <td>0.000000</td>\n",
       "      <td>0.000000</td>\n",
       "      <td>0.000000</td>\n",
       "      <td>0.000000</td>\n",
       "      <td>0.000000</td>\n",
       "      <td>0.000000</td>\n",
       "      <td>0.000000</td>\n",
       "      <td>0.000000</td>\n",
       "      <td>0.003112</td>\n",
       "      <td>...</td>\n",
       "      <td>0.000000</td>\n",
       "      <td>-799.798523</td>\n",
       "      <td>0.000000</td>\n",
       "      <td>-800.836914</td>\n",
       "      <td>-0.372054</td>\n",
       "      <td>-797.323986</td>\n",
       "      <td>0.528083</td>\n",
       "      <td>-800.220337</td>\n",
       "      <td>-0.079426</td>\n",
       "      <td>-809.741464</td>\n",
       "    </tr>\n",
       "    <tr>\n",
       "      <td>25%</td>\n",
       "      <td>4.251240</td>\n",
       "      <td>9.137262</td>\n",
       "      <td>7.722820</td>\n",
       "      <td>43.402215</td>\n",
       "      <td>63.299712</td>\n",
       "      <td>8.062878</td>\n",
       "      <td>2.040119</td>\n",
       "      <td>8.938947</td>\n",
       "      <td>2.461138</td>\n",
       "      <td>114.107029</td>\n",
       "      <td>...</td>\n",
       "      <td>14.975734</td>\n",
       "      <td>-500.704892</td>\n",
       "      <td>11.940294</td>\n",
       "      <td>-500.187742</td>\n",
       "      <td>10.988606</td>\n",
       "      <td>-500.458467</td>\n",
       "      <td>8.971105</td>\n",
       "      <td>-500.129462</td>\n",
       "      <td>14.983037</td>\n",
       "      <td>-500.728067</td>\n",
       "    </tr>\n",
       "    <tr>\n",
       "      <td>50%</td>\n",
       "      <td>5.066094</td>\n",
       "      <td>10.102433</td>\n",
       "      <td>9.218961</td>\n",
       "      <td>45.011244</td>\n",
       "      <td>68.172738</td>\n",
       "      <td>9.743623</td>\n",
       "      <td>2.748730</td>\n",
       "      <td>10.622456</td>\n",
       "      <td>2.984909</td>\n",
       "      <td>143.232103</td>\n",
       "      <td>...</td>\n",
       "      <td>18.017481</td>\n",
       "      <td>-499.837793</td>\n",
       "      <td>14.971014</td>\n",
       "      <td>-499.459786</td>\n",
       "      <td>15.000036</td>\n",
       "      <td>-499.802605</td>\n",
       "      <td>11.019433</td>\n",
       "      <td>-499.935317</td>\n",
       "      <td>19.960541</td>\n",
       "      <td>-500.048400</td>\n",
       "    </tr>\n",
       "    <tr>\n",
       "      <td>75%</td>\n",
       "      <td>5.895527</td>\n",
       "      <td>11.035769</td>\n",
       "      <td>10.947813</td>\n",
       "      <td>46.275313</td>\n",
       "      <td>72.686642</td>\n",
       "      <td>11.134294</td>\n",
       "      <td>3.333216</td>\n",
       "      <td>12.104271</td>\n",
       "      <td>3.571351</td>\n",
       "      <td>175.075656</td>\n",
       "      <td>...</td>\n",
       "      <td>23.012470</td>\n",
       "      <td>-498.249730</td>\n",
       "      <td>19.034162</td>\n",
       "      <td>-400.118106</td>\n",
       "      <td>18.026190</td>\n",
       "      <td>-498.384187</td>\n",
       "      <td>14.019088</td>\n",
       "      <td>-499.436708</td>\n",
       "      <td>24.003170</td>\n",
       "      <td>-499.495378</td>\n",
       "    </tr>\n",
       "    <tr>\n",
       "      <td>max</td>\n",
       "      <td>16.001945</td>\n",
       "      <td>17.031899</td>\n",
       "      <td>19.615720</td>\n",
       "      <td>52.756638</td>\n",
       "      <td>100.000000</td>\n",
       "      <td>19.552149</td>\n",
       "      <td>5.804178</td>\n",
       "      <td>22.317730</td>\n",
       "      <td>8.245022</td>\n",
       "      <td>265.983123</td>\n",
       "      <td>...</td>\n",
       "      <td>30.115735</td>\n",
       "      <td>-245.239184</td>\n",
       "      <td>31.269706</td>\n",
       "      <td>-6.506986</td>\n",
       "      <td>43.709931</td>\n",
       "      <td>-244.483566</td>\n",
       "      <td>27.926001</td>\n",
       "      <td>-137.740004</td>\n",
       "      <td>32.188906</td>\n",
       "      <td>-104.427459</td>\n",
       "    </tr>\n",
       "  </tbody>\n",
       "</table>\n",
       "<p>8 rows × 86 columns</p>\n",
       "</div>"
      ],
      "text/plain": [
       "       final.output.concentrate_ag  final.output.concentrate_pb  \\\n",
       "count                 19438.000000                 19438.000000   \n",
       "mean                      5.168470                     9.978895   \n",
       "std                       1.372348                     1.669240   \n",
       "min                       0.000000                     0.000000   \n",
       "25%                       4.251240                     9.137262   \n",
       "50%                       5.066094                    10.102433   \n",
       "75%                       5.895527                    11.035769   \n",
       "max                      16.001945                    17.031899   \n",
       "\n",
       "       final.output.concentrate_sol  final.output.concentrate_au  \\\n",
       "count                  19228.000000                 19439.000000   \n",
       "mean                       9.501224                    44.076513   \n",
       "std                        2.787537                     5.129784   \n",
       "min                        0.000000                     0.000000   \n",
       "25%                        7.722820                    43.402215   \n",
       "50%                        9.218961                    45.011244   \n",
       "75%                       10.947813                    46.275313   \n",
       "max                       19.615720                    52.756638   \n",
       "\n",
       "       final.output.recovery  final.output.tail_ag  final.output.tail_pb  \\\n",
       "count           19439.000000          19438.000000          19338.000000   \n",
       "mean               67.050208              9.688589              2.705795   \n",
       "std                10.125840              2.328642              0.949077   \n",
       "min                 0.000000              0.000000              0.000000   \n",
       "25%                63.299712              8.062878              2.040119   \n",
       "50%                68.172738              9.743623              2.748730   \n",
       "75%                72.686642             11.134294              3.333216   \n",
       "max               100.000000             19.552149              5.804178   \n",
       "\n",
       "       final.output.tail_sol  final.output.tail_au  \\\n",
       "count           19433.000000          19439.000000   \n",
       "mean               10.583728              3.042467   \n",
       "std                 2.868782              0.922808   \n",
       "min                 0.000000              0.000000   \n",
       "25%                 8.938947              2.461138   \n",
       "50%                10.622456              2.984909   \n",
       "75%                12.104271              3.571351   \n",
       "max                22.317730              8.245022   \n",
       "\n",
       "       primary_cleaner.input.sulfate  ...  \\\n",
       "count                   19415.000000  ...   \n",
       "mean                      144.624774  ...   \n",
       "std                        44.464071  ...   \n",
       "min                         0.003112  ...   \n",
       "25%                       114.107029  ...   \n",
       "50%                       143.232103  ...   \n",
       "75%                       175.075656  ...   \n",
       "max                       265.983123  ...   \n",
       "\n",
       "       secondary_cleaner.state.floatbank4_a_air  \\\n",
       "count                              19433.000000   \n",
       "mean                                  18.987674   \n",
       "std                                    5.411058   \n",
       "min                                    0.000000   \n",
       "25%                                   14.975734   \n",
       "50%                                   18.017481   \n",
       "75%                                   23.012470   \n",
       "max                                   30.115735   \n",
       "\n",
       "       secondary_cleaner.state.floatbank4_a_level  \\\n",
       "count                                19438.000000   \n",
       "mean                                  -485.894516   \n",
       "std                                     47.758570   \n",
       "min                                   -799.798523   \n",
       "25%                                   -500.704892   \n",
       "50%                                   -499.837793   \n",
       "75%                                   -498.249730   \n",
       "max                                   -245.239184   \n",
       "\n",
       "       secondary_cleaner.state.floatbank4_b_air  \\\n",
       "count                              19438.000000   \n",
       "mean                                  15.010366   \n",
       "std                                    4.890228   \n",
       "min                                    0.000000   \n",
       "25%                                   11.940294   \n",
       "50%                                   14.971014   \n",
       "75%                                   19.034162   \n",
       "max                                   31.269706   \n",
       "\n",
       "       secondary_cleaner.state.floatbank4_b_level  \\\n",
       "count                                19438.000000   \n",
       "mean                                  -461.078636   \n",
       "std                                     67.405524   \n",
       "min                                   -800.836914   \n",
       "25%                                   -500.187742   \n",
       "50%                                   -499.459786   \n",
       "75%                                   -400.118106   \n",
       "max                                     -6.506986   \n",
       "\n",
       "       secondary_cleaner.state.floatbank5_a_air  \\\n",
       "count                              19438.000000   \n",
       "mean                                  15.694452   \n",
       "std                                    5.510974   \n",
       "min                                   -0.372054   \n",
       "25%                                   10.988606   \n",
       "50%                                   15.000036   \n",
       "75%                                   18.026190   \n",
       "max                                   43.709931   \n",
       "\n",
       "       secondary_cleaner.state.floatbank5_a_level  \\\n",
       "count                                19438.000000   \n",
       "mean                                  -488.684065   \n",
       "std                                     34.533396   \n",
       "min                                   -797.323986   \n",
       "25%                                   -500.458467   \n",
       "50%                                   -499.802605   \n",
       "75%                                   -498.384187   \n",
       "max                                   -244.483566   \n",
       "\n",
       "       secondary_cleaner.state.floatbank5_b_air  \\\n",
       "count                              19438.000000   \n",
       "mean                                  12.198224   \n",
       "std                                    5.333024   \n",
       "min                                    0.528083   \n",
       "25%                                    8.971105   \n",
       "50%                                   11.019433   \n",
       "75%                                   14.019088   \n",
       "max                                   27.926001   \n",
       "\n",
       "       secondary_cleaner.state.floatbank5_b_level  \\\n",
       "count                                19438.000000   \n",
       "mean                                  -487.149827   \n",
       "std                                     38.347312   \n",
       "min                                   -800.220337   \n",
       "25%                                   -500.129462   \n",
       "50%                                   -499.935317   \n",
       "75%                                   -499.436708   \n",
       "max                                   -137.740004   \n",
       "\n",
       "       secondary_cleaner.state.floatbank6_a_air  \\\n",
       "count                              19437.000000   \n",
       "mean                                  18.959024   \n",
       "std                                    5.550498   \n",
       "min                                   -0.079426   \n",
       "25%                                   14.983037   \n",
       "50%                                   19.960541   \n",
       "75%                                   24.003170   \n",
       "max                                   32.188906   \n",
       "\n",
       "       secondary_cleaner.state.floatbank6_a_level  \n",
       "count                                19438.000000  \n",
       "mean                                  -505.436305  \n",
       "std                                     37.689057  \n",
       "min                                   -809.741464  \n",
       "25%                                   -500.728067  \n",
       "50%                                   -500.048400  \n",
       "75%                                   -499.495378  \n",
       "max                                   -104.427459  \n",
       "\n",
       "[8 rows x 86 columns]"
      ]
     },
     "metadata": {},
     "output_type": "display_data"
    },
    {
     "data": {
      "text/plain": [
       "(None, None, None)"
      ]
     },
     "execution_count": 6,
     "metadata": {},
     "output_type": "execute_result"
    }
   ],
   "source": [
    "print(\"Давайте посмотрим на общую выборку:\")\n",
    "show_data(gold_recovery_full) # показ данных общей выборки"
   ]
  },
  {
   "cell_type": "markdown",
   "metadata": {},
   "source": [
    "Как можно заметить, в наших данных отметить следующие моменты:\n",
    "- Присутствуют пропуски в столбцах\n",
    "- наименования столбцов написаны удобно и верно\n",
    "- столбец `date` написан в неверном формате данных (вместо `date` `object`)\n",
    "- выбросов не замечено\n",
    "- присутствуют отрицательные значения, но они актуальные (не стоит изменять)\n",
    "\n",
    "В итоге мы должны провести следующие действия:\n",
    "- пропуски\n",
    "- перевод из `object` в `date`"
   ]
  },
  {
   "cell_type": "markdown",
   "metadata": {},
   "source": [
    "### Сравнение ранее созданного recovery и высчитанного нами recovery\n",
    "Пусть у нас уже есть созданный столбец `recovery`, но проверить его верность все же стоит - для этого сами вычислим метрику `recovery` и сравним с ранее созданным столбцом метрикой `mae`. Для реализации данной мысли, мы создадим функцию, которая принимая столбцы с необходимыми данными выдаст нам нашу метрику:"
   ]
  },
  {
   "cell_type": "code",
   "execution_count": 7,
   "metadata": {},
   "outputs": [],
   "source": [
    "def calculate_recovery(concentrate_au_before_rougher, concentrate_au_after_rougher, concentrate_au_tail): # функция вычисления recovery\n",
    "    recov = ((concentrate_au_after_rougher*(concentrate_au_before_rougher - concentrate_au_tail))/\n",
    "             (concentrate_au_before_rougher*(concentrate_au_after_rougher - concentrate_au_tail)))*100\n",
    "    return recov"
   ]
  },
  {
   "cell_type": "code",
   "execution_count": 8,
   "metadata": {},
   "outputs": [
    {
     "data": {
      "text/plain": [
       "9.682896147825551e-15"
      ]
     },
     "execution_count": 8,
     "metadata": {},
     "output_type": "execute_result"
    }
   ],
   "source": [
    "ready_recovery = gold_recovery_train['rougher.output.recovery'] # изначальный столбец recovery\n",
    "\n",
    "predicted_recovery = calculate_recovery(gold_recovery_train['rougher.input.feed_au'],  \n",
    "                                        gold_recovery_train['rougher.output.concentrate_au'], \n",
    "                                        gold_recovery_train['rougher.output.tail_au']) # вычисленный нами recovery\n",
    "\n",
    "difference_ready_between = mean_absolute_error(ready_recovery, predicted_recovery) # сравнение recovery\n",
    "difference_ready_between"
   ]
  },
  {
   "cell_type": "markdown",
   "metadata": {},
   "source": [
    "Как видно, разница не особо велика - всего-то на 9 единиц, но все же, разница есть, а это значит, что мы заменим исходный столбец на наш ранее созданный:"
   ]
  },
  {
   "cell_type": "code",
   "execution_count": 9,
   "metadata": {},
   "outputs": [
    {
     "data": {
      "text/plain": [
       "0    87.107763\n",
       "1    86.843261\n",
       "2    86.842308\n",
       "3    87.226430\n",
       "4    86.688794\n",
       "Name: rougher.output.recovery, dtype: float64"
      ]
     },
     "execution_count": 9,
     "metadata": {},
     "output_type": "execute_result"
    }
   ],
   "source": [
    "gold_recovery_train['rougher.output.recovery'] = predicted_recovery\n",
    "gold_recovery_train['rougher.output.recovery'].head()"
   ]
  },
  {
   "cell_type": "markdown",
   "metadata": {},
   "source": [
    "### Анализ признаков, которых нет в тестовой выборке\n",
    "Для полного понимания данных, нам надо просмотреть, какие данные есть в тестовой выборке, а каких нет. Давайте сравним признаки тестовой выборки с признаками обучающей выборки (воспользуемся методом `columns`):"
   ]
  },
  {
   "cell_type": "code",
   "execution_count": 10,
   "metadata": {},
   "outputs": [
    {
     "data": {
      "text/plain": [
       "['final.output.concentrate_ag',\n",
       " 'final.output.concentrate_pb',\n",
       " 'final.output.concentrate_sol',\n",
       " 'final.output.concentrate_au',\n",
       " 'final.output.recovery',\n",
       " 'final.output.tail_ag',\n",
       " 'final.output.tail_pb',\n",
       " 'final.output.tail_sol',\n",
       " 'final.output.tail_au',\n",
       " 'primary_cleaner.output.concentrate_ag',\n",
       " 'primary_cleaner.output.concentrate_pb',\n",
       " 'primary_cleaner.output.concentrate_sol',\n",
       " 'primary_cleaner.output.concentrate_au',\n",
       " 'primary_cleaner.output.tail_ag',\n",
       " 'primary_cleaner.output.tail_pb',\n",
       " 'primary_cleaner.output.tail_sol',\n",
       " 'primary_cleaner.output.tail_au',\n",
       " 'rougher.calculation.sulfate_to_au_concentrate',\n",
       " 'rougher.calculation.floatbank10_sulfate_to_au_feed',\n",
       " 'rougher.calculation.floatbank11_sulfate_to_au_feed',\n",
       " 'rougher.calculation.au_pb_ratio',\n",
       " 'rougher.output.concentrate_ag',\n",
       " 'rougher.output.concentrate_pb',\n",
       " 'rougher.output.concentrate_sol',\n",
       " 'rougher.output.concentrate_au',\n",
       " 'rougher.output.recovery',\n",
       " 'rougher.output.tail_ag',\n",
       " 'rougher.output.tail_pb',\n",
       " 'rougher.output.tail_sol',\n",
       " 'rougher.output.tail_au',\n",
       " 'secondary_cleaner.output.tail_ag',\n",
       " 'secondary_cleaner.output.tail_pb',\n",
       " 'secondary_cleaner.output.tail_sol',\n",
       " 'secondary_cleaner.output.tail_au']"
      ]
     },
     "execution_count": 10,
     "metadata": {},
     "output_type": "execute_result"
    }
   ],
   "source": [
    "columns_train = gold_recovery_train.columns\n",
    "columns_test = gold_recovery_test.columns\n",
    "columns_not_in_test = []\n",
    "\n",
    "for column in columns_train:\n",
    "    if column not in columns_test:\n",
    "        columns_not_in_test.append(column)\n",
    "\n",
    "columns_not_in_test"
   ]
  },
  {
   "cell_type": "markdown",
   "metadata": {},
   "source": [
    "Как можно заметить, у тестовой выборки отсутствуют типы параметров, которые отвечают за выходное значение продукта и за его расчетные характеристики. Для более информативной статистики давайте определим, какие параметры отстутствуют в тестовой выборке:\n",
    "- concentrate - концентрация определенных веществ в продукте\n",
    "- recovery - эффективность обогащения\n",
    "- tail - остатки веществ в продукте \n",
    "- rougher additions - концентрация флотационных реагентов в продукте"
   ]
  },
  {
   "cell_type": "markdown",
   "metadata": {},
   "source": [
    "### Предобработка данных\n",
    "Вот мы и изучили данные, а это значит, что мы можем приступить к одному из самых важных этапов нашего проекта - предобработка данных. Важен данный этап по многим причинам, одни из них - `garbage in - garbage out` (мусор на входе мусор при выходе)\n",
    "\n",
    "Первым делом давайте решим вопрос с пропусками. Давайте посмотрим, сколько пропусков у нас вообще есть в данных:"
   ]
  },
  {
   "cell_type": "code",
   "execution_count": 11,
   "metadata": {},
   "outputs": [],
   "source": [
    "def concentrate_null_values_15(df):\n",
    "    return (df.isna().sum()/df.count()).sort_values(ascending=False).head(15)"
   ]
  },
  {
   "cell_type": "code",
   "execution_count": 12,
   "metadata": {},
   "outputs": [
    {
     "name": "stdout",
     "output_type": "stream",
     "text": [
      "Рассмотрим, какая доля у столбцов с пропусками от общего количества данных в обучаещей выборке:\n"
     ]
    },
    {
     "data": {
      "text/plain": [
       "secondary_cleaner.output.tail_sol           0.127950\n",
       "rougher.state.floatbank10_e_air             0.031795\n",
       "rougher.input.floatbank11_xanthate          0.031193\n",
       "primary_cleaner.output.concentrate_sol      0.020630\n",
       "secondary_cleaner.state.floatbank2_a_air    0.015576\n",
       "final.output.concentrate_sol                0.015138\n",
       "rougher.input.feed_size                     0.010282\n",
       "final.output.tail_pb                        0.007118\n",
       "rougher.input.feed_pb                       0.007118\n",
       "primary_cleaner.input.xanthate              0.007118\n",
       "primary_cleaner.output.concentrate_pb       0.006115\n",
       "rougher.input.feed_sol                      0.005543\n",
       "primary_cleaner.output.tail_sol             0.003262\n",
       "rougher.input.floatbank11_sulfate           0.002551\n",
       "primary_cleaner.input.depressant            0.002267\n",
       "dtype: float64"
      ]
     },
     "execution_count": 12,
     "metadata": {},
     "output_type": "execute_result"
    }
   ],
   "source": [
    "print('Рассмотрим, какая доля у столбцов с пропусками от общего количества данных в обучаещей выборке:')\n",
    "concentrate_null_values_15(gold_recovery_train)"
   ]
  },
  {
   "cell_type": "markdown",
   "metadata": {},
   "source": [
    "Признак второго этапа очистки в параметре хвоста имеет 12% пустых значений, флотация параметра состояния 3% пропусков и т.д. В итоге имеем 7 признаков, где пропуски в большом количестве (где один из них имеет целых 12% пропусков)"
   ]
  },
  {
   "cell_type": "code",
   "execution_count": 13,
   "metadata": {},
   "outputs": [
    {
     "name": "stdout",
     "output_type": "stream",
     "text": [
      "Рассмотрим, какая доля у столбцов с пропусками от общего количества данных в тестовой выборке:\n"
     ]
    },
    {
     "data": {
      "text/plain": [
       "rougher.input.floatbank11_xanthate            0.004748\n",
       "rougher.input.feed_sol                        0.003986\n",
       "secondary_cleaner.state.floatbank3_a_air      0.001704\n",
       "rougher.input.floatbank11_sulfate             0.001515\n",
       "primary_cleaner.input.depressant              0.000946\n",
       "rougher.input.floatbank10_sulfate             0.000946\n",
       "primary_cleaner.input.sulfate                 0.000757\n",
       "primary_cleaner.input.xanthate                0.000757\n",
       "secondary_cleaner.state.floatbank2_a_air      0.000567\n",
       "rougher.input.feed_rate                       0.000567\n",
       "secondary_cleaner.state.floatbank2_b_air      0.000378\n",
       "rougher.input.feed_size                       0.000189\n",
       "secondary_cleaner.state.floatbank6_a_level    0.000000\n",
       "rougher.input.floatbank10_xanthate            0.000000\n",
       "rougher.input.feed_au                         0.000000\n",
       "dtype: float64"
      ]
     },
     "execution_count": 13,
     "metadata": {},
     "output_type": "execute_result"
    }
   ],
   "source": [
    "print('Рассмотрим, какая доля у столбцов с пропусками от общего количества данных в тестовой выборке:')\n",
    "concentrate_null_values_15(gold_recovery_test)"
   ]
  },
  {
   "cell_type": "markdown",
   "metadata": {},
   "source": [
    "В данной выборке пропусков очень мало, почти нет (они даже не доходят до 0.5%), поэтому здесь целесообразнее удалить такие пропуски"
   ]
  },
  {
   "cell_type": "code",
   "execution_count": 14,
   "metadata": {},
   "outputs": [
    {
     "name": "stdout",
     "output_type": "stream",
     "text": [
      "Рассмотрим, какая доля у столбцов с пропусками от общего количества данных в общей выборке:\n"
     ]
    },
    {
     "data": {
      "text/plain": [
       "secondary_cleaner.output.tail_sol           0.098807\n",
       "rougher.input.floatbank11_xanthate          0.023860\n",
       "rougher.state.floatbank10_e_air             0.022944\n",
       "primary_cleaner.output.concentrate_sol      0.019403\n",
       "secondary_cleaner.state.floatbank2_a_air    0.011447\n",
       "final.output.concentrate_sol                0.010974\n",
       "rougher.input.feed_size                     0.007515\n",
       "primary_cleaner.output.concentrate_pb       0.006003\n",
       "primary_cleaner.input.xanthate              0.005379\n",
       "final.output.tail_pb                        0.005223\n",
       "rougher.input.feed_pb                       0.005171\n",
       "rougher.input.feed_sol                      0.005119\n",
       "primary_cleaner.output.tail_sol             0.003200\n",
       "rougher.input.floatbank11_sulfate           0.002269\n",
       "primary_cleaner.input.depressant            0.001907\n",
       "dtype: float64"
      ]
     },
     "execution_count": 14,
     "metadata": {},
     "output_type": "execute_result"
    }
   ],
   "source": [
    "print('Рассмотрим, какая доля у столбцов с пропусками от общего количества данных в общей выборке:')\n",
    "concentrate_null_values_15(gold_recovery_full)"
   ]
  },
  {
   "cell_type": "markdown",
   "metadata": {},
   "source": [
    "В общей выборке возникла похожая ситуация, как и с обучающей - данные с пропусками есть, и средни них есть весомые признаки, удалив которые мы лишь ухудшим данные. Для таких признаков было бы хорошо, что-то сделать, поэтому мы воспользуемся методом интерполяции - `interpolate()`. Это очень мощная функция для заполнения недостающих значений. Он использует различные методы интерполяции для заполнения недостающих значений вместо жесткого кодирования значения:"
   ]
  },
  {
   "cell_type": "code",
   "execution_count": 15,
   "metadata": {},
   "outputs": [
    {
     "name": "stdout",
     "output_type": "stream",
     "text": [
      "(14149, 87) (5290, 53) (19439, 87)\n"
     ]
    }
   ],
   "source": [
    "gold_recovery_train = gold_recovery_train.interpolate()\n",
    "gold_recovery_test = gold_recovery_test.interpolate()\n",
    "gold_recovery_full = gold_recovery_full.interpolate()\n",
    "# gold_recovery_train.dropna(inplace=True)\n",
    "# gold_recovery_test.dropna(inplace=True)\n",
    "# gold_recovery_full.dropna(inplace=True)\n",
    "print(gold_recovery_train.shape, gold_recovery_test.shape, gold_recovery_full.shape)"
   ]
  },
  {
   "cell_type": "markdown",
   "metadata": {},
   "source": [
    "Пустые строки были обработаны, а значит можно перейти к изменению типа данных в столбце `date`. Изначально, он у нас был записан как `object`, но это не верно, он должен быть в формате `datetime`. Исправлять это мы будем методом `pd.to_datetime`: "
   ]
  },
  {
   "cell_type": "code",
   "execution_count": 16,
   "metadata": {},
   "outputs": [],
   "source": [
    "def change_object_to_datetime(df):\n",
    "    return pd.to_datetime(df['date'], format='%Y-%m-%d %H:%M:%S')\n",
    "\n",
    "gold_recovery_train['date'] = change_object_to_datetime(gold_recovery_train)\n",
    "gold_recovery_test['date'] = change_object_to_datetime(gold_recovery_test)\n",
    "gold_recovery_full['date'] = change_object_to_datetime(gold_recovery_full)"
   ]
  },
  {
   "cell_type": "code",
   "execution_count": 17,
   "metadata": {},
   "outputs": [
    {
     "data": {
      "text/plain": [
       "0   2016-01-15 00:00:00\n",
       "1   2016-01-15 01:00:00\n",
       "2   2016-01-15 02:00:00\n",
       "3   2016-01-15 03:00:00\n",
       "4   2016-01-15 04:00:00\n",
       "Name: date, dtype: datetime64[ns]"
      ]
     },
     "execution_count": 17,
     "metadata": {},
     "output_type": "execute_result"
    }
   ],
   "source": [
    "gold_recovery_full['date'].head()"
   ]
  },
  {
   "cell_type": "markdown",
   "metadata": {},
   "source": [
    "Тип данных с `object` удачно был изменен в `datetime`"
   ]
  },
  {
   "cell_type": "markdown",
   "metadata": {},
   "source": [
    "Отлично, мы выполнили предобработку данных: \n",
    "- пропуски заполнили интерполяцией \n",
    "- изменили тип данных с `object` в `datetime`\n",
    "\n",
    "Теперь мы можем приступить к основной работе, но перед этим нам предстоит проанализировать данные, так как заказчик хочет убедиться в том, что все данные расписаны правильно и он не понесет убыток"
   ]
  },
  {
   "cell_type": "markdown",
   "metadata": {},
   "source": [
    "## Анализ данных\n",
    "Данный этап направлен на более подробное изучение данных в наших выборках: как менялась концентрация металлов, распределения размеров гранул сырья, суммарная концентрация всех веществ на разных стадиях"
   ]
  },
  {
   "cell_type": "markdown",
   "metadata": {},
   "source": [
    "### Концентрация металлов\n",
    "Первым делом мы рассмотрим то, как менялась концентрация металлов на этапах очистки. Для этого воспользуемся признаками `rougher.input...`, `rougher.output...`, `primary_cleaner.output...` и `final.output...`, где вместо многоточия будут стоять концентрации металлов на этапах очистки:"
   ]
  },
  {
   "cell_type": "code",
   "execution_count": 18,
   "metadata": {},
   "outputs": [
    {
     "name": "stdout",
     "output_type": "stream",
     "text": [
      "Содержание золота на различных этапах очистки\n"
     ]
    },
    {
     "data": {
      "text/plain": [
       "array([[<matplotlib.axes._subplots.AxesSubplot object at 0x7f5315686b50>,\n",
       "        <matplotlib.axes._subplots.AxesSubplot object at 0x7f531bcb6f10>],\n",
       "       [<matplotlib.axes._subplots.AxesSubplot object at 0x7f53105a1dd0>,\n",
       "        <matplotlib.axes._subplots.AxesSubplot object at 0x7f5316c77f10>]],\n",
       "      dtype=object)"
      ]
     },
     "execution_count": 18,
     "metadata": {},
     "output_type": "execute_result"
    },
    {
     "data": {
      "image/png": "[encoded data removed]",
      "text/plain": [
       "<Figure size 1080x576 with 4 Axes>"
      ]
     },
     "metadata": {
      "needs_background": "light"
     },
     "output_type": "display_data"
    }
   ],
   "source": [
    "gold_concentrate = gold_recovery_train[['rougher.input.feed_au', 'rougher.output.concentrate_au',\n",
    "                                       'primary_cleaner.output.concentrate_au', 'final.output.concentrate_au']]\n",
    "\n",
    "argentum_concentrate = gold_recovery_train[['rougher.input.feed_ag', 'rougher.output.concentrate_ag', \n",
    "                                            'primary_cleaner.output.concentrate_ag', 'final.output.concentrate_ag']]\n",
    "\n",
    "plumbum_concentrate = gold_recovery_train[['rougher.input.feed_pb', 'rougher.output.concentrate_pb',\n",
    "                                           'primary_cleaner.output.concentrate_pb', 'final.output.concentrate_pb']]\n",
    "\n",
    "print('Содержание золота на различных этапах очистки')\n",
    "gold_concentrate.hist(bins=300, figsize=(15,8))"
   ]
  },
  {
   "cell_type": "code",
   "execution_count": 19,
   "metadata": {},
   "outputs": [
    {
     "name": "stdout",
     "output_type": "stream",
     "text": [
      "Содержание серебра на различных этапах очистки\n"
     ]
    },
    {
     "data": {
      "text/plain": [
       "array([[<matplotlib.axes._subplots.AxesSubplot object at 0x7f5311575fd0>,\n",
       "        <matplotlib.axes._subplots.AxesSubplot object at 0x7f531580ae90>],\n",
       "       [<matplotlib.axes._subplots.AxesSubplot object at 0x7f531585cc50>,\n",
       "        <matplotlib.axes._subplots.AxesSubplot object at 0x7f5314e537d0>]],\n",
       "      dtype=object)"
      ]
     },
     "execution_count": 19,
     "metadata": {},
     "output_type": "execute_result"
    },
    {
     "data": {
      "image/png": "[encoded data removed]",
      "text/plain": [
       "<Figure size 1080x576 with 4 Axes>"
      ]
     },
     "metadata": {
      "needs_background": "light"
     },
     "output_type": "display_data"
    }
   ],
   "source": [
    "print('Содержание серебра на различных этапах очистки')\n",
    "argentum_concentrate.hist(bins=300, figsize=(15,8))"
   ]
  },
  {
   "cell_type": "code",
   "execution_count": 20,
   "metadata": {},
   "outputs": [
    {
     "name": "stdout",
     "output_type": "stream",
     "text": [
      "Содержание свинца на различных этапах очистки\n"
     ]
    },
    {
     "data": {
      "text/plain": [
       "array([[<matplotlib.axes._subplots.AxesSubplot object at 0x7f531620ac10>,\n",
       "        <matplotlib.axes._subplots.AxesSubplot object at 0x7f53153cdf90>],\n",
       "       [<matplotlib.axes._subplots.AxesSubplot object at 0x7f531269ee90>,\n",
       "        <matplotlib.axes._subplots.AxesSubplot object at 0x7f53154c6710>]],\n",
       "      dtype=object)"
      ]
     },
     "execution_count": 20,
     "metadata": {},
     "output_type": "execute_result"
    },
    {
     "data": {
      "image/png": "[encoded data removed]",
      "text/plain": [
       "<Figure size 1080x576 with 4 Axes>"
      ]
     },
     "metadata": {
      "needs_background": "light"
     },
     "output_type": "display_data"
    }
   ],
   "source": [
    "print('Содержание свинца на различных этапах очистки')\n",
    "plumbum_concentrate.hist(bins=300, figsize=(15,8))"
   ]
  },
  {
   "cell_type": "markdown",
   "metadata": {},
   "source": [
    "Как можно заметить концентрация серебра  значительно уменьшилась, а вот процент содержания золота и свинца выросли. Все это говорит нам о том, что после двух очисток мы получили более качественный продукт, который содержит в себе больше золота, но который также имеет некоторую часть свинца в составе (в то время как серебро из состава убавилось)\n",
    "\n",
    "Также заметно, что никаких выбросов в данных у нас нет (значения не отходят слишком далеко друг от друга), а это значит, что ничего искать и тем более удалять не нужно"
   ]
  },
  {
   "attachments": {
    "image.png": {
     "image/png": "[encoded data removed]"
    }
   },
   "cell_type": "markdown",
   "metadata": {},
   "source": [
    "![image.png](attachment:image.png)"
   ]
  },
  {
   "cell_type": "raw",
   "metadata": {},
   "source": [
    "sns.set(rc={'figure.figsize':(10,4)})\n",
    "ax = sns.kdeplot(df_full['rougher.output.concentrate_au'], shade=True, label='Флотация' )\n",
    "ax = sns.kdeplot(df_full['primary_cleaner.output.concentrate_au'], shade=True, label='Первичная очистка' )\n",
    "ax = sns.kdeplot(df_full['final.output.concentrate_au'], shade=True, label='Финальный продукт' )\n",
    "plt.title('Распределение концентрации золота (Au) на разных этапах очистки')\n",
    "plt.xlabel('процент вещества');"
   ]
  },
  {
   "cell_type": "markdown",
   "metadata": {},
   "source": [
    "### Распределения размеров гранул сырья\n",
    "Следующий шаг - сравнить размеры гранул сырья на обучающей и тестовой выборках. Если распределения сильно отличаются друг от друга, оценка модели будет неправильной. Для сравнения размеров, воспользуемся сравнением двух выборок методом `st.ttest_ind()`. В качестве нулевой гипотезы возьмем утверждение, что `размеры гранул равны`. Альтернативная гипотеза будет равна `размеры гранул различны`\n",
    "\n",
    "Проблема может возникнуть в размерах выборок, ведь в тестовой размер составляет 5229, а в обучающей - 11017. Решением проблемы можно считать срез данных по размеру тестовой выборки, но тут возникает вопрос перемешивания данных, ведь в конце, возможно, будут совершенно различные размеры гранул сырья. И тут нам на помощь придет метод `shuffle`. "
   ]
  },
  {
   "cell_type": "code",
   "execution_count": 21,
   "metadata": {},
   "outputs": [
    {
     "name": "stdout",
     "output_type": "stream",
     "text": [
      "p-значение: 7.728999954194491e-23\n",
      "Отвергаем нулевую гипотезу\n"
     ]
    }
   ],
   "source": [
    "train_granul_size = gold_recovery_train['rougher.input.feed_size']\n",
    "train_granul_size_shuffled = shuffle(train_granul_size, random_state=159)\n",
    "train_granul_size_cutted = train_granul_size_shuffled[:len(gold_recovery_test)]\n",
    "\n",
    "test_granul_size = gold_recovery_test['rougher.input.feed_size']\n",
    "\n",
    "alpha = 0.05  # критический уровень статистической значимости\n",
    "# если p-value окажется меньше него - отвергнем гипотезу\n",
    "\n",
    "results = st.ttest_ind(train_granul_size_cutted, test_granul_size)\n",
    "\n",
    "print('p-значение:', results.pvalue)\n",
    "\n",
    "if results.pvalue < alpha:\n",
    "    print('Отвергаем нулевую гипотезу')\n",
    "else:\n",
    "    print('Не получилось отвергнуть нулевую гипотезу') "
   ]
  },
  {
   "cell_type": "markdown",
   "metadata": {},
   "source": [
    "p-value оказалось слишком низким, а это значит, что наши гранулы различны по размерам. Значение далеко от критического уровня, поэтому выходит, что наша модель будет работать не так хорошо, как бы нам этого хотелось"
   ]
  },
  {
   "cell_type": "markdown",
   "metadata": {},
   "source": [
    "### Суммарную концентрацию всех веществ на разных стадиях\n",
    "А теперь давайте проверим суммарную концентрацию веществ на разных этапах: в сырье, в черновом варианте и в итогом (чистом). Для этого воспользуемся признаками `rougher.input...`, `rougher.output...` и `final.output...` и методом `sum()`. Однако давайте также проверим суммарную концентрацию металлов для каждого вещества, ведь если сумма покажет нам 0 грамм всех металлов, то это точно ошибка, ведь что-то да должно быть\n",
    "\n",
    "Для проверки суммы металлов в каждом веществе, мы создадим функцию, которая будет проверять, равна ли сумма всех металлов нулю: если да, то она увеличивает счетчик нулевых строк. В итоге мы получаем значение, равное количеству нулевых строк:"
   ]
  },
  {
   "cell_type": "code",
   "execution_count": 22,
   "metadata": {},
   "outputs": [],
   "source": [
    "def count_zero_rows_substance_df(df): # функция берет какой-то датасет\n",
    "    sum_in_row = 0 # сумма металлов в веществе\n",
    "    count_zero_rows = 0 # счетчик нелевой суммы\n",
    "\n",
    "    for index, row in df.iterrows(): # начинаем цикл. Берем каждую строку\n",
    "        for column in df: # берем каждый столбец \n",
    "            sum_in_row += row[column] # берем значение ячейки по строке и столбцу\n",
    "        if sum_in_row == 0: # если общая сумма по всем столбцам равна 0, то счетчик увеличивается на 1\n",
    "            count_zero_rows += 1\n",
    "        sum_in_row = 0 # после подсчета мы должны обнулить сумму по строке \n",
    "    return(count_zero_rows) "
   ]
  },
  {
   "cell_type": "code",
   "execution_count": 23,
   "metadata": {},
   "outputs": [
    {
     "name": "stdout",
     "output_type": "stream",
     "text": [
      "0\n"
     ]
    }
   ],
   "source": [
    "substance_raw = gold_recovery_train[['rougher.input.feed_ag', 'rougher.input.feed_pb', \n",
    "                    'rougher.input.feed_sol', 'rougher.input.feed_au']] # берем данные по сырью\n",
    "count_zero_rows_raw = count_zero_rows_substance_df(substance_raw) # закидываем данные в функцию подсчета нулевых строк\n",
    "print(count_zero_rows_raw)"
   ]
  },
  {
   "cell_type": "markdown",
   "metadata": {},
   "source": [
    "Отлично, в сырье у нас нет нулевых строк, поэтому можно смело идти дальше"
   ]
  },
  {
   "cell_type": "code",
   "execution_count": 24,
   "metadata": {},
   "outputs": [
    {
     "name": "stdout",
     "output_type": "stream",
     "text": [
      "297\n"
     ]
    }
   ],
   "source": [
    "substance_rougher = gold_recovery_train[['rougher.output.concentrate_ag', \n",
    "                                         'rougher.output.concentrate_pb', \n",
    "                                         'rougher.output.concentrate_sol', \n",
    "                                         'rougher.output.concentrate_au', ]] # данные после флотации\n",
    "\n",
    "count_zero_rows_rougher = count_zero_rows_substance_df(substance_rougher) # данные по флотации закидываем в функцию\n",
    "print(count_zero_rows_rougher)"
   ]
  },
  {
   "cell_type": "markdown",
   "metadata": {},
   "source": [
    "Вот и начались пустые строки. Здесь у нас 297 строк, а это значит, что у нас 297 ошибочных строк, которые нужно будет удалить, ведь как-то заменить данные мы никак не можем"
   ]
  },
  {
   "cell_type": "code",
   "execution_count": 25,
   "metadata": {},
   "outputs": [
    {
     "name": "stdout",
     "output_type": "stream",
     "text": [
      "58\n"
     ]
    }
   ],
   "source": [
    "substance_final = gold_recovery_train[['final.output.concentrate_ag', 'final.output.concentrate_pb',\n",
    "                     'final.output.concentrate_sol', \n",
    "                    'final.output.concentrate_au']] # финальные данные, после всех очисток\n",
    "count_zero_rows_final = count_zero_rows_substance_df(substance_final) # финальные данные кидаем в функцию\n",
    "print(count_zero_rows_final)"
   ]
  },
  {
   "cell_type": "markdown",
   "metadata": {},
   "source": [
    "Конечно нулевых строк у нас не так много, но все же, они есть.\n",
    "\n",
    "Итак, нулевые строки мы будем удалять, а для этого мы воспользуемся функцией, которая будет принимать на вход датасет и возвращать его же, но уже без нулевых строк"
   ]
  },
  {
   "cell_type": "code",
   "execution_count": 26,
   "metadata": {},
   "outputs": [],
   "source": [
    "def delete_zeroes_concentrate_rows(df): # функция удаления нулевых строк \n",
    "    sum_in_row = 0 # переменная подсчета суммы строки\n",
    "    for i, row in df.iterrows(): # берем строки\n",
    "            for column in df: # берем столбцы\n",
    "                sum_in_row += row[column] # считаем сумму\n",
    "            if sum_in_row == 0: # если сумма равна 0, то мы удаляем данную строку с датасета, который был принят функцией \n",
    "                df = df.drop(df.index[i]) \n",
    "            sum_in_row = 0\n",
    "    return df # возвращаем измененный датасет "
   ]
  },
  {
   "cell_type": "code",
   "execution_count": 27,
   "metadata": {},
   "outputs": [
    {
     "name": "stdout",
     "output_type": "stream",
     "text": [
      "(14149, 4)\n",
      "(13852, 4)\n"
     ]
    }
   ],
   "source": [
    "print(substance_rougher.shape) # считаем размер датасета перед удалением \n",
    "\n",
    "substance_rougher = delete_zeroes_concentrate_rows(substance_rougher) # применяем функцию удаления строк с нулевой суммой строки\n",
    " \n",
    "print(substance_rougher.shape) # считаем размер датасета после удаления"
   ]
  },
  {
   "cell_type": "code",
   "execution_count": 28,
   "metadata": {},
   "outputs": [
    {
     "name": "stdout",
     "output_type": "stream",
     "text": [
      "(14149, 4)\n",
      "(14091, 4)\n"
     ]
    }
   ],
   "source": [
    "print(substance_final.shape)\n",
    "\n",
    "substance_final = delete_zeroes_concentrate_rows(substance_final)\n",
    "\n",
    "print(substance_final.shape)"
   ]
  },
  {
   "cell_type": "markdown",
   "metadata": {},
   "source": [
    "Отлично, мы удалили нулевые строки в наших датасетах, но это еще не конец, ведь у нас есть наша выборка, из которой мы взяли все эти датасеты с нулевыми строками. Соответственно, мы должны заменить все данные, которые мы взяли с выборки на измененные датасеты. После такой замены у нас появятся пропуски, ведь мы заменяем данные на сокращенную их форму, значения которые не были в измененных датасетах превратятся в `nan`. Такие значения мы просто выкидываем"
   ]
  },
  {
   "cell_type": "code",
   "execution_count": 29,
   "metadata": {},
   "outputs": [
    {
     "data": {
      "text/plain": [
       "(13795, 87)"
      ]
     },
     "execution_count": 29,
     "metadata": {},
     "output_type": "execute_result"
    }
   ],
   "source": [
    "gold_recovery_train[['rougher.output.concentrate_ag', 'rougher.output.concentrate_pb','rougher.output.concentrate_sol', \n",
    "                     'rougher.output.concentrate_au', ]] = substance_rougher # данные после флотации\n",
    "\n",
    "gold_recovery_train[['final.output.concentrate_ag', 'final.output.concentrate_pb', 'final.output.concentrate_sol', \n",
    "                     'final.output.concentrate_au']] = substance_final # данные после всех этапах очистки\n",
    "\n",
    "gold_recovery_train.dropna(inplace=True) # удаляем пропуски, которые образовались после подстановки данных\n",
    "gold_recovery_train.shape"
   ]
  },
  {
   "cell_type": "code",
   "execution_count": 30,
   "metadata": {},
   "outputs": [
    {
     "data": {
      "text/plain": [
       "secondary_cleaner.state.floatbank6_a_level            0\n",
       "rougher.calculation.floatbank10_sulfate_to_au_feed    0\n",
       "primary_cleaner.state.floatbank8_a_level              0\n",
       "primary_cleaner.state.floatbank8_b_air                0\n",
       "primary_cleaner.state.floatbank8_b_level              0\n",
       "                                                     ..\n",
       "rougher.state.floatbank10_d_air                       0\n",
       "rougher.state.floatbank10_d_level                     0\n",
       "rougher.state.floatbank10_e_air                       0\n",
       "rougher.state.floatbank10_e_level                     0\n",
       "date                                                  0\n",
       "Length: 87, dtype: int64"
      ]
     },
     "execution_count": 30,
     "metadata": {},
     "output_type": "execute_result"
    }
   ],
   "source": [
    "gold_recovery_train.isna().sum().sort_values(ascending=False) # проверяем на наличие пропусков после подстановки"
   ]
  },
  {
   "cell_type": "code",
   "execution_count": 31,
   "metadata": {},
   "outputs": [
    {
     "name": "stdout",
     "output_type": "stream",
     "text": [
      "Суммарное количество веществ в сырье:\n",
      "\n",
      " rougher.input.feed_ag     118271.301703\n",
      "rougher.input.feed_pb      48361.066430\n",
      "rougher.input.feed_sol    500284.037210\n",
      "rougher.input.feed_au     108441.611974\n",
      "dtype: float64\n",
      "\n",
      "Суммарное количество всего в сырье:\n",
      "\n",
      " 775358.02\n",
      "\n",
      "Суммарное количество веществ в черновом варианте:\n",
      "\n",
      " rougher.output.concentrate_ag     162659.452985\n",
      "rougher.output.concentrate_pb     105960.843454\n",
      "rougher.output.concentrate_sol    390607.801534\n",
      "rougher.output.concentrate_au     268581.080385\n",
      "dtype: float64\n",
      "\n",
      "Суммарное количество всего в черновом варианте:\n",
      "\n",
      " 927809.18\n",
      "\n",
      "Суммарное количество веществ в финальном варианте:\n",
      "\n",
      " final.output.concentrate_ag      70925.658367\n",
      "final.output.concentrate_pb     139834.750759\n",
      "final.output.concentrate_sol    125814.834589\n",
      "final.output.concentrate_au     607080.848739\n",
      "dtype: float64\n",
      "\n",
      "Суммарное количество всего в финальном варианте:\n",
      "\n",
      " 943656.09\n"
     ]
    }
   ],
   "source": [
    "metal_sum_raw = gold_recovery_train[['rougher.input.feed_ag', 'rougher.input.feed_pb',\n",
    "                    'rougher.input.feed_sol', 'rougher.input.feed_au']].sum() # итоговая сумма всех металлов по категориям в сырье\n",
    "\n",
    "metal_sum_rougher = gold_recovery_train[['rougher.output.concentrate_ag', 'rougher.output.concentrate_pb',\n",
    "                                         'rougher.output.concentrate_sol', 'rougher.output.concentrate_au']].sum() # итоговая сумма всех металлов по категориям после флотации\n",
    "\n",
    "metal_sum_final = gold_recovery_train[['final.output.concentrate_ag', 'final.output.concentrate_pb',\n",
    "                     'final.output.concentrate_sol', 'final.output.concentrate_au']].sum() # итоговая сумма всех металлов по категориям после очистки \n",
    "\n",
    "print('Суммарное количество веществ в сырье:\\n\\n', metal_sum_raw)\n",
    "print('\\nСуммарное количество всего в сырье:\\n\\n', np.round(metal_sum_raw.sum(),2), end='\\n')\n",
    "\n",
    "print('\\nСуммарное количество веществ в черновом варианте:\\n\\n', metal_sum_rougher, end='\\n')\n",
    "print('\\nСуммарное количество всего в черновом варианте:\\n\\n', np.round(metal_sum_rougher.sum(), 2), end='\\n')\n",
    "\n",
    "print('\\nСуммарное количество веществ в финальном варианте:\\n\\n', metal_sum_final, end='\\n')\n",
    "print('\\nСуммарное количество всего в финальном варианте:\\n\\n', np.round(metal_sum_final.sum(), 2), end='\\n')"
   ]
  },
  {
   "cell_type": "markdown",
   "metadata": {},
   "source": [
    "У нас два металла увеличилось в концентрации и два металла упало: ag и sol упали, а pb и au выросли. Это говорит нам лишь об одном - в чистом золоте должно быть как можно меньше ag и sol и, как можно больше au и pb. \n",
    "\n",
    "Также заметно, что наши данные получились слишком различными по количеству на каждом этапе: в сыром виде всего у нас было 775 тысяч, а на выходе из чернового варианта откуда-то набралось целых 1284 тысяч. Ошибкой в расчетах данных иначе это не назовешь."
   ]
  },
  {
   "cell_type": "markdown",
   "metadata": {},
   "source": [
    "## Модель\n",
    "Вот мы и подошли к нашей последней части работы - построение моделей и предсказание ответов. Для решения задачи введём новую метрику качества — sMAPE (англ. Symmetric Mean Absolute Percentage Error, «симметричное среднее абсолютное процентное отклонение»). Она похожа на MAE, но выражается не в абсолютных величинах, а в относительных. Почему симметричная? Она одинаково учитывает масштаб и целевого признака, и предсказания. Для данной  метрики мы создадим специальную функцию - total_sMAPE, которая принимает на вход целевой признак и предсказания\n",
    "\n",
    "В ходе проекта мы возьмем три модели, которые проверим на качество и среди них выберем одну лучшую, которой дадим валидационные данные. Дерево решений, линейная регрессия и случайный лес будут бороться за звание лучшей модели"
   ]
  },
  {
   "cell_type": "code",
   "execution_count": 32,
   "metadata": {},
   "outputs": [],
   "source": [
    "def total_sMAPE(target, predicted): # функция подсчета метрики sMAPE\n",
    "    numerator = abs(target - predicted)\n",
    "    denominator = ((abs(target) + abs(predicted)) / 2) \n",
    "    smape = numerator / denominator\n",
    "    \n",
    "    rougher_smape = np.mean(smape[0]) * 100 # т.к у нас два столбца (после флотации и финальная), то берем данные с разных ст-в\n",
    "    clean_smape = np.mean(smape[1]) * 100\n",
    "    \n",
    "    return 0.25 * rougher_smape + 0.75 * clean_smape # в итоге возвращаем результат метрики. Чем ниже, тем лучше"
   ]
  },
  {
   "cell_type": "markdown",
   "metadata": {},
   "source": [
    "Функцию мы написали, осталось разделить данные на обучающий и валидационный выборки и, обучив модели, получить ответы, среди которых мы выберем лучшую модель\n",
    "\n",
    "Пришло время делить наши данные на обучающую выборку и тестовую. Конечно, у нас уже имеются готовые датасеты с такими наименованиями, но стоит учесть пару нюансов: обучающий датасет нам нужно сократить по столбцам на уровень тестового датасета, для того, чтобы модели работали корректно; целевые признаки для теста нужно будет взять с общей выборки (full), и придется их брать по сочетанию дат, ведь в тестовой выборке нет целевых признаков, но есть даты, которые также есть и в full выборке"
   ]
  },
  {
   "cell_type": "code",
   "execution_count": 33,
   "metadata": {},
   "outputs": [
    {
     "name": "stdout",
     "output_type": "stream",
     "text": [
      "(13795, 52) (5290, 52)\n",
      "(13795, 2) (5290, 2)\n"
     ]
    }
   ],
   "source": [
    "features_train = gold_recovery_train[gold_recovery_test.columns] # урезаем обучающий датасет по столбцам к тестовому датасету\n",
    "features_train = features_train.drop(['date'], axis=1) # отбрасываем столбец даты\n",
    " \n",
    "features_test = gold_recovery_test.drop(['date'], axis=1) # в тестовой выборке выбрасываем дату\n",
    "\n",
    "target_train = gold_recovery_train[['rougher.output.recovery', 'final.output.recovery']] # создаем целевой признак\n",
    "target_train.columns = [0, 1]  # переименовываем столбцы для удобства \n",
    "\n",
    "target_test = gold_recovery_full.query('date in @gold_recovery_test.date')[['rougher.output.recovery', 'final.output.recovery']]\n",
    "# берем только те значения, которые совпадают по дате, которая указана в тестовой выборке \n",
    "target_test.columns = [0, 1] # переименовываем столбцы для удобства \n",
    "\n",
    "print(features_train.shape, features_test.shape)\n",
    "print(target_train.shape, target_test.shape)"
   ]
  },
  {
   "cell_type": "markdown",
   "metadata": {},
   "source": [
    "Данные разделены на признаки и целевые признаки. Пора приступать к созданию моделей, которые мы будем обучать в дальнейшем: линейная регрессия, дерево решений, случайный лес"
   ]
  },
  {
   "cell_type": "code",
   "execution_count": 34,
   "metadata": {},
   "outputs": [],
   "source": [
    "model_linear = LinearRegression() # линейная регрессия\n",
    "model_tree = DecisionTreeRegressor(random_state=159) # дерево решений\n",
    "model_forest = RandomForestRegressor(n_estimators=100, random_state=159) # случайный лес"
   ]
  },
  {
   "cell_type": "markdown",
   "metadata": {},
   "source": [
    "Пора обучать модели и выявлять лучшую модель: для большего качества, мы будем использовать кроссвалидацию (разделять нашу выборку на части, среди которых будем обучать данные по разным валидационным и обучающимся частям). Также мы воспользуемся методом `make_scorer`, для того, чтобы записать нашу функцию `sMAPE`. Во время кроссвалидации мы воспользуемся `make_scorer` и получим значения модели по выбранной метрике. Оттуда возьмем среднее, которое и будет нашим ответом от модели"
   ]
  },
  {
   "cell_type": "code",
   "execution_count": 35,
   "metadata": {},
   "outputs": [
    {
     "name": "stdout",
     "output_type": "stream",
     "text": [
      "12.372691073277569\n"
     ]
    }
   ],
   "source": [
    "cv = KFold(n_splits=5) # разбиение данных на 5 выборок\n",
    "\n",
    "my_scorer = make_scorer(total_sMAPE, greater_is_better=True) # закидываем сюда нашу функцию sMAPE\n",
    "linear_score = np.mean(cross_val_score(model_linear, features_train, target_train, scoring=my_scorer, cv=cv)) \n",
    "# на кроссвалидации высчитываем sMAPE и берем среднее от результатов по логистической регрессии\n",
    "print(linear_score) # печатаем результат"
   ]
  },
  {
   "cell_type": "markdown",
   "metadata": {},
   "source": [
    "Довольно неплохой результат, но давайте пойдем дальше"
   ]
  },
  {
   "cell_type": "code",
   "execution_count": 36,
   "metadata": {},
   "outputs": [
    {
     "name": "stdout",
     "output_type": "stream",
     "text": [
      "22.26502114421544\n"
     ]
    }
   ],
   "source": [
    "tree_score = np.mean(cross_val_score(model_tree, features_train, target_train, scoring=my_scorer, cv=cv)) \n",
    "# дерево решений и кроссвалидация\n",
    "print(tree_score)"
   ]
  },
  {
   "cell_type": "markdown",
   "metadata": {},
   "source": [
    "Дерево решений показало результат хуже, намного хуже, чем линейная регрессия, но у нас есть еще один кондидат - случайный лес"
   ]
  },
  {
   "cell_type": "code",
   "execution_count": 37,
   "metadata": {},
   "outputs": [
    {
     "name": "stdout",
     "output_type": "stream",
     "text": [
      "11.797222991811832\n"
     ]
    }
   ],
   "source": [
    "ensemble_score = np.mean(cross_val_score(model_forest, features_train, target_train, cv=cv, scoring=my_scorer))\n",
    "# кроссвалидация на случайном лесе\n",
    "print(ensemble_score)"
   ]
  },
  {
   "cell_type": "markdown",
   "metadata": {},
   "source": [
    "Вот и абсолютный чемпион! Случайный лес показал результат равный 11.8, что является лучшим на данный момент. Пришло время дать данной модели валидационные данные. Посмотрим, как он справится с ними: "
   ]
  },
  {
   "cell_type": "code",
   "execution_count": 38,
   "metadata": {},
   "outputs": [
    {
     "name": "stdout",
     "output_type": "stream",
     "text": [
      "12.386525730053922\n"
     ]
    }
   ],
   "source": [
    "test_ensemble_score = np.mean(cross_val_score(model_forest, features_test, target_test, cv=cv, scoring=my_scorer))\n",
    "print(test_ensemble_score)"
   ]
  },
  {
   "cell_type": "markdown",
   "metadata": {},
   "source": [
    "Как и ожидалось, наша модель показала результат, который не сильно хуже нашей обучающей выборки. Однако для того, чтобы сверить насколько наша модель хорошо себя показала, нужно сравнить ее с константной моделью. Давайте создадим такую модель, которая берет данные по медиане"
   ]
  },
  {
   "cell_type": "code",
   "execution_count": 39,
   "metadata": {},
   "outputs": [
    {
     "name": "stdout",
     "output_type": "stream",
     "text": [
      "sMAPE от dummy: 9.478566172178784\n"
     ]
    }
   ],
   "source": [
    "dummy = DummyRegressor(strategy=\"median\") # создаем нашу константную модель, которая считает по медиане\n",
    "dummy.fit(features_train, target_train) # обучаем модель \n",
    "dummy_pred = dummy.predict(features_test) # получаем предсказывания с модели\n",
    " \n",
    "smape_dummy = total_sMAPE(target_test, dummy_pred) # получаем данные с метрики sMAPE\n",
    "print('sMAPE от dummy:', smape_dummy)"
   ]
  },
  {
   "cell_type": "markdown",
   "metadata": {},
   "source": [
    "Результат озадачил нас - константная модель получила результаты лучше, чем наша собственная модель случайного леса. Это говорит нам о том, что размеры гранул все-таки сыграли роль в качестве модели, также как и пустые значения, которые мы заполнили интерполяцией, что не стоило делать, однако нам пришлось"
   ]
  },
  {
   "cell_type": "markdown",
   "metadata": {},
   "source": [
    "## Общий вывод\n",
    "Пора делать наши финальные выводы по всему проекту:\n",
    "- мы провели подготовку данных, а именно: \n",
    "    - изучили их\n",
    "    - сравнили лично наш recovery, который мы сами посчитали, с тем, что уже был. В итоге оказалось, что наш recovery был точнее, поэтому мы заменили старый recovery на наш, ранее созданный\n",
    "    - узнали, что в тестовом датасете недоступны некоторые расчетные (calculation) и выходные (output) характеристики процесса, т.к. их невозможно получить/измерить во время выполнения технологического процесса.\n",
    "    - и занялись предобработкой данных: обработали пропуски интерполяцией, изменили тип столбца даты на верный тип\n",
    "- после подготовки данных мы начали анализировать данные:\n",
    "    - выяснилось, что количества золота растет после каждого этапа очистки (логично, правда?). Также количество свинца также выросло, но это побочное дитя химических реакций, поэтому не много увеличивается его содержание. А вот серебро падает, ведь мы добываем золото, а не серебро, так?\n",
    "    - размеры гранул оказались различными, что привело к искревлению результатов наших моделей\n",
    "    - в данных обнаружились нулевые суммы веществ после флотации и всех этапов очистки, что невозможно. Поэтому было предпринято решение об удалении данных строк\n",
    "- после анализа мы занялись обучением наших моделей, а именно: линейная регрессия, дерево решений и случайный лес. Итогом стало, что случайный лес показал лучший результат - 12.39 по метрике sMAPE, которую мы также сами и создали\n",
    "- для сравнения результатов модели была создана константная модель, и она показала 9.48, что намного лучше нашей. Непонятно, почему так вышло, но все же\n",
    "\n",
    "Вот такие получились выводы по нашему проекту"
   ]
  }
 ],
 "metadata": {
  "ExecuteTimeLog": [
   {
    "duration": 950,
    "start_time": "2021-09-29T01:04:46.520Z"
   },
   {
    "duration": 866,
    "start_time": "2021-09-29T01:06:13.468Z"
   },
   {
    "duration": 4,
    "start_time": "2021-09-29T01:07:25.368Z"
   },
   {
    "duration": 394,
    "start_time": "2021-09-29T01:07:34.088Z"
   },
   {
    "duration": 490,
    "start_time": "2021-09-29T01:08:37.101Z"
   },
   {
    "duration": 235,
    "start_time": "2021-09-29T01:09:03.937Z"
   },
   {
    "duration": 427,
    "start_time": "2021-09-29T01:09:21.918Z"
   },
   {
    "duration": 4,
    "start_time": "2021-09-29T01:54:36.140Z"
   },
   {
    "duration": 7,
    "start_time": "2021-09-29T03:04:41.124Z"
   },
   {
    "duration": 7533,
    "start_time": "2021-09-29T03:16:46.166Z"
   },
   {
    "duration": 322,
    "start_time": "2021-09-29T03:17:02.637Z"
   },
   {
    "duration": 586,
    "start_time": "2021-09-29T03:17:12.460Z"
   },
   {
    "duration": 8125,
    "start_time": "2021-09-29T03:17:16.827Z"
   },
   {
    "duration": 7091,
    "start_time": "2021-09-29T03:17:27.191Z"
   },
   {
    "duration": 15,
    "start_time": "2021-09-29T03:17:45.166Z"
   },
   {
    "duration": 342,
    "start_time": "2021-09-29T03:21:04.063Z"
   },
   {
    "duration": 15,
    "start_time": "2021-09-29T03:21:12.398Z"
   },
   {
    "duration": 14,
    "start_time": "2021-09-29T03:21:42.054Z"
   },
   {
    "duration": 14,
    "start_time": "2021-09-29T03:24:30.954Z"
   },
   {
    "duration": 283,
    "start_time": "2021-09-29T03:31:26.943Z"
   },
   {
    "duration": 4,
    "start_time": "2021-09-29T03:31:36.804Z"
   },
   {
    "duration": 12,
    "start_time": "2021-09-29T03:31:37.647Z"
   },
   {
    "duration": 7,
    "start_time": "2021-09-29T03:31:41.770Z"
   },
   {
    "duration": 518,
    "start_time": "2021-09-29T03:32:51.288Z"
   },
   {
    "duration": 9,
    "start_time": "2021-09-29T03:33:08.309Z"
   },
   {
    "duration": 363,
    "start_time": "2021-09-29T03:36:01.251Z"
   },
   {
    "duration": 8,
    "start_time": "2021-09-29T03:36:14.639Z"
   },
   {
    "duration": 8,
    "start_time": "2021-09-29T03:44:28.281Z"
   },
   {
    "duration": 7,
    "start_time": "2021-09-29T03:47:24.875Z"
   },
   {
    "duration": 6,
    "start_time": "2021-09-29T03:47:49.762Z"
   },
   {
    "duration": 315,
    "start_time": "2021-09-29T03:50:11.415Z"
   },
   {
    "duration": 109,
    "start_time": "2021-09-29T03:50:27.036Z"
   },
   {
    "duration": 280,
    "start_time": "2021-09-29T03:52:40.052Z"
   },
   {
    "duration": 577,
    "start_time": "2021-09-29T04:00:32.349Z"
   },
   {
    "duration": 283,
    "start_time": "2021-09-29T04:00:38.992Z"
   },
   {
    "duration": 7,
    "start_time": "2021-09-29T04:01:42.347Z"
   },
   {
    "duration": 9,
    "start_time": "2021-09-29T04:03:33.497Z"
   },
   {
    "duration": 14,
    "start_time": "2021-09-29T05:49:17.669Z"
   },
   {
    "duration": 12,
    "start_time": "2021-09-29T05:49:29.338Z"
   },
   {
    "duration": 12,
    "start_time": "2021-09-29T05:49:40.183Z"
   },
   {
    "duration": 15,
    "start_time": "2021-09-29T05:49:50.832Z"
   },
   {
    "duration": 12,
    "start_time": "2021-09-29T05:49:54.530Z"
   },
   {
    "duration": 14,
    "start_time": "2021-09-29T05:49:58.719Z"
   },
   {
    "duration": 13,
    "start_time": "2021-09-29T05:50:05.364Z"
   },
   {
    "duration": 12,
    "start_time": "2021-09-29T05:50:09.501Z"
   },
   {
    "duration": 13,
    "start_time": "2021-09-29T05:50:13.037Z"
   },
   {
    "duration": 13,
    "start_time": "2021-09-29T05:50:18.102Z"
   },
   {
    "duration": 13,
    "start_time": "2021-09-29T05:50:32.345Z"
   },
   {
    "duration": 20,
    "start_time": "2021-09-29T05:51:39.780Z"
   },
   {
    "duration": 19,
    "start_time": "2021-09-29T05:51:53.063Z"
   },
   {
    "duration": 19,
    "start_time": "2021-09-29T05:52:04.403Z"
   },
   {
    "duration": 21,
    "start_time": "2021-09-29T05:52:22.064Z"
   },
   {
    "duration": 20,
    "start_time": "2021-09-29T05:53:51.111Z"
   },
   {
    "duration": 4,
    "start_time": "2021-09-29T05:54:15.726Z"
   },
   {
    "duration": 17,
    "start_time": "2021-09-29T05:54:16.514Z"
   },
   {
    "duration": 13,
    "start_time": "2021-09-29T05:54:17.113Z"
   },
   {
    "duration": 22,
    "start_time": "2021-09-29T05:54:17.615Z"
   },
   {
    "duration": 781,
    "start_time": "2021-09-29T06:09:22.860Z"
   },
   {
    "duration": 289,
    "start_time": "2021-09-29T06:09:31.775Z"
   },
   {
    "duration": 1400,
    "start_time": "2021-09-29T06:09:41.809Z"
   },
   {
    "duration": 881,
    "start_time": "2021-09-29T06:09:43.212Z"
   },
   {
    "duration": 4,
    "start_time": "2021-09-29T06:09:44.096Z"
   },
   {
    "duration": 437,
    "start_time": "2021-09-29T06:09:44.103Z"
   },
   {
    "duration": 269,
    "start_time": "2021-09-29T06:09:44.543Z"
   },
   {
    "duration": 446,
    "start_time": "2021-09-29T06:09:44.814Z"
   },
   {
    "duration": 4,
    "start_time": "2021-09-29T06:09:45.262Z"
   },
   {
    "duration": 27,
    "start_time": "2021-09-29T06:09:45.270Z"
   },
   {
    "duration": 12,
    "start_time": "2021-09-29T06:09:45.299Z"
   },
   {
    "duration": 19,
    "start_time": "2021-09-29T06:09:45.323Z"
   },
   {
    "duration": 18,
    "start_time": "2021-09-29T06:09:45.345Z"
   },
   {
    "duration": 24,
    "start_time": "2021-09-29T06:09:45.366Z"
   },
   {
    "duration": 19,
    "start_time": "2021-09-29T06:09:45.392Z"
   },
   {
    "duration": 31,
    "start_time": "2021-09-29T06:09:45.413Z"
   },
   {
    "duration": 33,
    "start_time": "2021-09-29T06:09:45.446Z"
   },
   {
    "duration": 1309,
    "start_time": "2021-09-29T06:10:31.003Z"
   },
   {
    "duration": 869,
    "start_time": "2021-09-29T06:10:32.315Z"
   },
   {
    "duration": 3,
    "start_time": "2021-09-29T06:10:33.187Z"
   },
   {
    "duration": 441,
    "start_time": "2021-09-29T06:10:33.193Z"
   },
   {
    "duration": 258,
    "start_time": "2021-09-29T06:10:33.636Z"
   },
   {
    "duration": 437,
    "start_time": "2021-09-29T06:10:33.896Z"
   },
   {
    "duration": 4,
    "start_time": "2021-09-29T06:10:34.335Z"
   },
   {
    "duration": 36,
    "start_time": "2021-09-29T06:10:34.342Z"
   },
   {
    "duration": 19,
    "start_time": "2021-09-29T06:10:34.381Z"
   },
   {
    "duration": 28,
    "start_time": "2021-09-29T06:10:34.402Z"
   },
   {
    "duration": 26,
    "start_time": "2021-09-29T06:10:34.433Z"
   },
   {
    "duration": 40,
    "start_time": "2021-09-29T06:10:34.462Z"
   },
   {
    "duration": 28,
    "start_time": "2021-09-29T06:10:34.504Z"
   },
   {
    "duration": 31,
    "start_time": "2021-09-29T06:10:34.535Z"
   },
   {
    "duration": 465,
    "start_time": "2021-09-29T06:10:34.568Z"
   },
   {
    "duration": 16,
    "start_time": "2021-09-29T06:11:57.247Z"
   },
   {
    "duration": 309,
    "start_time": "2021-09-29T06:12:48.630Z"
   },
   {
    "duration": 33,
    "start_time": "2021-09-29T06:12:59.622Z"
   },
   {
    "duration": 7,
    "start_time": "2021-09-29T06:17:14.096Z"
   },
   {
    "duration": 2139,
    "start_time": "2021-09-29T06:18:36.751Z"
   },
   {
    "duration": 2885,
    "start_time": "2021-09-29T06:20:22.803Z"
   },
   {
    "duration": 2276,
    "start_time": "2021-09-29T06:23:34.173Z"
   },
   {
    "duration": 15,
    "start_time": "2021-09-29T06:25:54.767Z"
   },
   {
    "duration": 16,
    "start_time": "2021-09-29T06:28:16.552Z"
   },
   {
    "duration": 7,
    "start_time": "2021-09-29T06:28:30.366Z"
   },
   {
    "duration": 24,
    "start_time": "2021-09-29T07:39:58.980Z"
   },
   {
    "duration": 27,
    "start_time": "2021-09-29T07:47:14.986Z"
   },
   {
    "duration": 6,
    "start_time": "2021-09-29T08:04:34.857Z"
   },
   {
    "duration": 8,
    "start_time": "2021-09-29T08:04:44.575Z"
   },
   {
    "duration": 474,
    "start_time": "2021-09-29T08:15:51.507Z"
   },
   {
    "duration": 6,
    "start_time": "2021-09-29T08:18:21.278Z"
   },
   {
    "duration": 5,
    "start_time": "2021-09-29T08:19:41.140Z"
   },
   {
    "duration": 8,
    "start_time": "2021-09-29T08:21:20.149Z"
   },
   {
    "duration": 9,
    "start_time": "2021-09-29T08:21:24.782Z"
   },
   {
    "duration": 7,
    "start_time": "2021-09-29T08:32:23.869Z"
   },
   {
    "duration": 305,
    "start_time": "2021-09-29T08:33:18.120Z"
   },
   {
    "duration": 6,
    "start_time": "2021-09-29T08:33:27.380Z"
   },
   {
    "duration": 6,
    "start_time": "2021-09-29T08:34:36.557Z"
   },
   {
    "duration": 350,
    "start_time": "2021-09-29T08:40:52.016Z"
   },
   {
    "duration": 7,
    "start_time": "2021-09-29T08:41:13.529Z"
   },
   {
    "duration": 12,
    "start_time": "2021-09-29T08:42:22.025Z"
   },
   {
    "duration": 16,
    "start_time": "2021-09-29T08:42:59.852Z"
   },
   {
    "duration": 16,
    "start_time": "2021-09-29T08:43:21.973Z"
   },
   {
    "duration": 15,
    "start_time": "2021-09-29T08:43:37.881Z"
   },
   {
    "duration": 15,
    "start_time": "2021-09-29T08:43:49.144Z"
   },
   {
    "duration": 12,
    "start_time": "2021-09-29T08:44:05.563Z"
   },
   {
    "duration": 19,
    "start_time": "2021-09-29T08:44:17.869Z"
   },
   {
    "duration": 13,
    "start_time": "2021-09-29T08:45:44.725Z"
   },
   {
    "duration": 14,
    "start_time": "2021-09-29T08:45:54.518Z"
   },
   {
    "duration": 13,
    "start_time": "2021-09-29T08:46:02.753Z"
   },
   {
    "duration": 95,
    "start_time": "2021-09-29T08:46:10.324Z"
   },
   {
    "duration": 13,
    "start_time": "2021-09-29T08:46:22.231Z"
   },
   {
    "duration": 13,
    "start_time": "2021-09-29T08:46:26.211Z"
   },
   {
    "duration": 16,
    "start_time": "2021-09-29T08:47:04.718Z"
   },
   {
    "duration": 15,
    "start_time": "2021-09-29T08:47:26.418Z"
   },
   {
    "duration": 16,
    "start_time": "2021-09-29T08:47:38.987Z"
   },
   {
    "duration": 4,
    "start_time": "2021-09-29T09:11:50.234Z"
   },
   {
    "duration": 9,
    "start_time": "2021-09-29T09:11:52.144Z"
   },
   {
    "duration": 8,
    "start_time": "2021-09-29T09:12:02.106Z"
   },
   {
    "duration": 302,
    "start_time": "2021-09-29T09:12:46.191Z"
   },
   {
    "duration": 282,
    "start_time": "2021-09-29T09:12:53.680Z"
   },
   {
    "duration": 7,
    "start_time": "2021-09-29T09:13:48.592Z"
   },
   {
    "duration": 888,
    "start_time": "2021-09-29T09:13:54.349Z"
   },
   {
    "duration": 7,
    "start_time": "2021-09-29T09:13:58.791Z"
   },
   {
    "duration": 1441,
    "start_time": "2021-09-29T09:14:18.949Z"
   },
   {
    "duration": 889,
    "start_time": "2021-09-29T09:14:20.392Z"
   },
   {
    "duration": 4,
    "start_time": "2021-09-29T09:14:21.284Z"
   },
   {
    "duration": 451,
    "start_time": "2021-09-29T09:14:21.291Z"
   },
   {
    "duration": 287,
    "start_time": "2021-09-29T09:14:21.745Z"
   },
   {
    "duration": 442,
    "start_time": "2021-09-29T09:14:22.034Z"
   },
   {
    "duration": 5,
    "start_time": "2021-09-29T09:14:22.478Z"
   },
   {
    "duration": 38,
    "start_time": "2021-09-29T09:14:22.486Z"
   },
   {
    "duration": 14,
    "start_time": "2021-09-29T09:14:22.526Z"
   },
   {
    "duration": 31,
    "start_time": "2021-09-29T09:14:22.543Z"
   },
   {
    "duration": 22,
    "start_time": "2021-09-29T09:14:22.577Z"
   },
   {
    "duration": 30,
    "start_time": "2021-09-29T09:14:22.601Z"
   },
   {
    "duration": 15,
    "start_time": "2021-09-29T09:14:22.634Z"
   },
   {
    "duration": 28,
    "start_time": "2021-09-29T09:14:22.652Z"
   },
   {
    "duration": 79,
    "start_time": "2021-09-29T09:14:22.683Z"
   },
   {
    "duration": 19,
    "start_time": "2021-09-29T09:14:22.765Z"
   },
   {
    "duration": 24,
    "start_time": "2021-09-29T09:14:22.786Z"
   },
   {
    "duration": 31,
    "start_time": "2021-09-29T09:14:22.823Z"
   },
   {
    "duration": 17,
    "start_time": "2021-09-29T09:14:22.857Z"
   },
   {
    "duration": 23,
    "start_time": "2021-09-29T09:14:22.877Z"
   },
   {
    "duration": 123,
    "start_time": "2021-09-29T09:14:22.923Z"
   },
   {
    "duration": 107031,
    "start_time": "2021-09-29T09:12:36.017Z"
   },
   {
    "duration": 6,
    "start_time": "2021-09-29T09:15:27.771Z"
   },
   {
    "duration": 487,
    "start_time": "2021-09-29T09:22:42.375Z"
   },
   {
    "duration": 4,
    "start_time": "2021-09-29T09:22:48.562Z"
   },
   {
    "duration": 311,
    "start_time": "2021-09-29T09:24:00.433Z"
   },
   {
    "duration": 5,
    "start_time": "2021-09-29T09:24:10.691Z"
   },
   {
    "duration": 4,
    "start_time": "2021-09-29T09:26:05.665Z"
   },
   {
    "duration": 5,
    "start_time": "2021-09-29T09:28:55.286Z"
   },
   {
    "duration": 6,
    "start_time": "2021-09-29T09:32:39.687Z"
   },
   {
    "duration": 15,
    "start_time": "2021-09-29T09:35:46.676Z"
   },
   {
    "duration": 1001,
    "start_time": "2021-09-30T01:35:57.931Z"
   },
   {
    "duration": 2285,
    "start_time": "2021-09-30T01:35:58.934Z"
   },
   {
    "duration": 3,
    "start_time": "2021-09-30T01:36:01.221Z"
   },
   {
    "duration": 283,
    "start_time": "2021-09-30T01:36:01.226Z"
   },
   {
    "duration": 181,
    "start_time": "2021-09-30T01:36:01.510Z"
   },
   {
    "duration": 289,
    "start_time": "2021-09-30T01:36:01.700Z"
   },
   {
    "duration": 9,
    "start_time": "2021-09-30T01:36:01.991Z"
   },
   {
    "duration": 14,
    "start_time": "2021-09-30T01:36:02.002Z"
   },
   {
    "duration": 14,
    "start_time": "2021-09-30T01:36:02.018Z"
   },
   {
    "duration": 7,
    "start_time": "2021-09-30T01:36:02.033Z"
   },
   {
    "duration": 16,
    "start_time": "2021-09-30T01:36:02.041Z"
   },
   {
    "duration": 26,
    "start_time": "2021-09-30T01:36:02.059Z"
   },
   {
    "duration": 9,
    "start_time": "2021-09-30T01:36:02.087Z"
   },
   {
    "duration": 16,
    "start_time": "2021-09-30T01:36:02.100Z"
   },
   {
    "duration": 29,
    "start_time": "2021-09-30T01:36:02.118Z"
   },
   {
    "duration": 14,
    "start_time": "2021-09-30T01:36:02.149Z"
   },
   {
    "duration": 37,
    "start_time": "2021-09-30T01:36:02.164Z"
   },
   {
    "duration": 24,
    "start_time": "2021-09-30T01:36:02.203Z"
   },
   {
    "duration": 6,
    "start_time": "2021-09-30T01:36:02.228Z"
   },
   {
    "duration": 12,
    "start_time": "2021-09-30T01:36:02.235Z"
   },
   {
    "duration": 6,
    "start_time": "2021-09-30T01:36:02.249Z"
   },
   {
    "duration": 11,
    "start_time": "2021-09-30T01:36:02.256Z"
   },
   {
    "duration": 35,
    "start_time": "2021-09-30T01:36:02.270Z"
   },
   {
    "duration": 8,
    "start_time": "2021-09-30T01:36:02.307Z"
   },
   {
    "duration": 5,
    "start_time": "2021-09-30T01:36:02.316Z"
   },
   {
    "duration": 8,
    "start_time": "2021-09-30T01:36:02.322Z"
   },
   {
    "duration": 4,
    "start_time": "2021-09-30T02:15:59.476Z"
   },
   {
    "duration": 14,
    "start_time": "2021-09-30T02:17:48.890Z"
   },
   {
    "duration": 23,
    "start_time": "2021-09-30T02:17:54.374Z"
   },
   {
    "duration": 23,
    "start_time": "2021-09-30T02:18:00.300Z"
   },
   {
    "duration": 47144,
    "start_time": "2021-09-30T02:21:23.647Z"
   },
   {
    "duration": 296,
    "start_time": "2021-09-30T02:24:24.853Z"
   },
   {
    "duration": 4,
    "start_time": "2021-09-30T02:24:53.787Z"
   },
   {
    "duration": 428,
    "start_time": "2021-09-30T02:27:34.108Z"
   },
   {
    "duration": 3,
    "start_time": "2021-09-30T02:27:59.021Z"
   },
   {
    "duration": 11,
    "start_time": "2021-09-30T02:28:12.417Z"
   },
   {
    "duration": 3,
    "start_time": "2021-09-30T02:28:55.533Z"
   },
   {
    "duration": 3,
    "start_time": "2021-09-30T02:31:16.500Z"
   },
   {
    "duration": 4,
    "start_time": "2021-09-30T02:35:22.100Z"
   },
   {
    "duration": 10,
    "start_time": "2021-09-30T02:35:28.240Z"
   },
   {
    "duration": 3,
    "start_time": "2021-09-30T02:35:29.236Z"
   },
   {
    "duration": 3,
    "start_time": "2021-09-30T02:36:07.578Z"
   },
   {
    "duration": 10,
    "start_time": "2021-09-30T02:36:11.224Z"
   },
   {
    "duration": 4,
    "start_time": "2021-09-30T02:36:11.845Z"
   },
   {
    "duration": 1176,
    "start_time": "2021-09-30T13:51:37.542Z"
   },
   {
    "duration": 761,
    "start_time": "2021-09-30T13:51:38.721Z"
   },
   {
    "duration": 3,
    "start_time": "2021-09-30T13:51:39.484Z"
   },
   {
    "duration": 300,
    "start_time": "2021-09-30T13:51:39.489Z"
   },
   {
    "duration": 176,
    "start_time": "2021-09-30T13:51:39.790Z"
   },
   {
    "duration": 302,
    "start_time": "2021-09-30T13:51:39.968Z"
   },
   {
    "duration": 4,
    "start_time": "2021-09-30T13:51:40.271Z"
   },
   {
    "duration": 9,
    "start_time": "2021-09-30T13:51:40.277Z"
   },
   {
    "duration": 5,
    "start_time": "2021-09-30T13:51:40.301Z"
   },
   {
    "duration": 9,
    "start_time": "2021-09-30T13:51:40.308Z"
   },
   {
    "duration": 8,
    "start_time": "2021-09-30T13:51:40.318Z"
   },
   {
    "duration": 17,
    "start_time": "2021-09-30T13:51:40.328Z"
   },
   {
    "duration": 9,
    "start_time": "2021-09-30T13:51:40.347Z"
   },
   {
    "duration": 44,
    "start_time": "2021-09-30T13:51:40.358Z"
   },
   {
    "duration": 30,
    "start_time": "2021-09-30T13:51:40.404Z"
   },
   {
    "duration": 14,
    "start_time": "2021-09-30T13:51:40.435Z"
   },
   {
    "duration": 5,
    "start_time": "2021-09-30T13:51:40.451Z"
   },
   {
    "duration": 48,
    "start_time": "2021-09-30T13:51:40.457Z"
   },
   {
    "duration": 5,
    "start_time": "2021-09-30T13:51:40.507Z"
   },
   {
    "duration": 13,
    "start_time": "2021-09-30T13:51:40.514Z"
   },
   {
    "duration": 3,
    "start_time": "2021-09-30T13:51:40.529Z"
   },
   {
    "duration": 11,
    "start_time": "2021-09-30T13:51:40.533Z"
   },
   {
    "duration": 18,
    "start_time": "2021-09-30T13:51:40.546Z"
   },
   {
    "duration": 3,
    "start_time": "2021-09-30T13:51:40.565Z"
   },
   {
    "duration": 31,
    "start_time": "2021-09-30T13:51:40.570Z"
   },
   {
    "duration": 49294,
    "start_time": "2021-09-30T13:51:40.603Z"
   },
   {
    "duration": 358,
    "start_time": "2021-09-30T13:52:29.899Z"
   },
   {
    "duration": 10,
    "start_time": "2021-09-30T13:52:30.259Z"
   },
   {
    "duration": 23,
    "start_time": "2021-09-30T13:52:30.270Z"
   },
   {
    "duration": 1484,
    "start_time": "2021-10-02T11:28:08.330Z"
   },
   {
    "duration": 953,
    "start_time": "2021-10-02T11:28:09.818Z"
   },
   {
    "duration": 5,
    "start_time": "2021-10-02T11:28:10.774Z"
   },
   {
    "duration": 472,
    "start_time": "2021-10-02T11:28:10.782Z"
   },
   {
    "duration": 295,
    "start_time": "2021-10-02T11:28:11.257Z"
   },
   {
    "duration": 489,
    "start_time": "2021-10-02T11:28:11.554Z"
   },
   {
    "duration": 4,
    "start_time": "2021-10-02T11:28:12.046Z"
   },
   {
    "duration": 30,
    "start_time": "2021-10-02T11:28:12.053Z"
   },
   {
    "duration": 10,
    "start_time": "2021-10-02T11:28:12.086Z"
   },
   {
    "duration": 8,
    "start_time": "2021-10-02T11:28:12.100Z"
   },
   {
    "duration": 5,
    "start_time": "2021-10-02T11:28:12.111Z"
   },
   {
    "duration": 68,
    "start_time": "2021-10-02T11:28:12.119Z"
   },
   {
    "duration": 16,
    "start_time": "2021-10-02T11:28:12.189Z"
   },
   {
    "duration": 24,
    "start_time": "2021-10-02T11:28:12.207Z"
   },
   {
    "duration": 44,
    "start_time": "2021-10-02T11:28:12.268Z"
   },
   {
    "duration": 21,
    "start_time": "2021-10-02T11:28:12.314Z"
   },
   {
    "duration": 33,
    "start_time": "2021-10-02T11:28:12.337Z"
   },
   {
    "duration": 32,
    "start_time": "2021-10-02T11:28:12.374Z"
   },
   {
    "duration": 8,
    "start_time": "2021-10-02T11:28:12.408Z"
   },
   {
    "duration": 54,
    "start_time": "2021-10-02T11:28:12.418Z"
   },
   {
    "duration": 5,
    "start_time": "2021-10-02T11:28:12.475Z"
   },
   {
    "duration": 14,
    "start_time": "2021-10-02T11:28:12.483Z"
   },
   {
    "duration": 27,
    "start_time": "2021-10-02T11:28:12.502Z"
   },
   {
    "duration": 4,
    "start_time": "2021-10-02T11:28:12.532Z"
   },
   {
    "duration": 31,
    "start_time": "2021-10-02T11:28:12.538Z"
   },
   {
    "duration": 71236,
    "start_time": "2021-10-02T11:28:12.572Z"
   },
   {
    "duration": 361,
    "start_time": "2021-10-02T11:29:23.810Z"
   },
   {
    "duration": 18,
    "start_time": "2021-10-02T11:29:24.175Z"
   },
   {
    "duration": 14,
    "start_time": "2021-10-02T11:29:24.196Z"
   },
   {
    "duration": 5,
    "start_time": "2021-10-02T11:30:21.854Z"
   },
   {
    "duration": 5,
    "start_time": "2021-10-02T11:36:31.797Z"
   },
   {
    "duration": 474,
    "start_time": "2021-10-02T11:36:32.941Z"
   },
   {
    "duration": 5,
    "start_time": "2021-10-02T11:36:43.947Z"
   },
   {
    "duration": 635,
    "start_time": "2021-10-02T11:36:51.833Z"
   },
   {
    "duration": 1772,
    "start_time": "2021-10-02T11:37:24.916Z"
   },
   {
    "duration": 105144,
    "start_time": "2021-10-02T11:37:46.769Z"
   },
   {
    "duration": 332,
    "start_time": "2021-10-02T11:46:37.074Z"
   },
   {
    "duration": 11,
    "start_time": "2021-10-02T11:47:34.805Z"
   },
   {
    "duration": 4,
    "start_time": "2021-10-02T11:48:00.555Z"
   },
   {
    "duration": 1456,
    "start_time": "2021-10-02T11:48:26.717Z"
   },
   {
    "duration": 412,
    "start_time": "2021-10-02T11:50:47.009Z"
   },
   {
    "duration": 2246,
    "start_time": "2021-10-02T11:51:45.829Z"
   },
   {
    "duration": 4673,
    "start_time": "2021-10-02T11:52:32.177Z"
   },
   {
    "duration": 291110,
    "start_time": "2021-10-02T11:52:36.852Z"
   },
   {
    "duration": 1175,
    "start_time": "2021-10-03T06:32:19.553Z"
   },
   {
    "duration": 692,
    "start_time": "2021-10-03T06:32:20.730Z"
   },
   {
    "duration": 3,
    "start_time": "2021-10-03T06:32:21.424Z"
   },
   {
    "duration": 281,
    "start_time": "2021-10-03T06:32:21.429Z"
   },
   {
    "duration": 164,
    "start_time": "2021-10-03T06:32:21.712Z"
   },
   {
    "duration": 281,
    "start_time": "2021-10-03T06:32:21.878Z"
   },
   {
    "duration": 2,
    "start_time": "2021-10-03T06:32:22.161Z"
   },
   {
    "duration": 9,
    "start_time": "2021-10-03T06:32:22.165Z"
   },
   {
    "duration": 23,
    "start_time": "2021-10-03T06:32:22.176Z"
   },
   {
    "duration": 5,
    "start_time": "2021-10-03T06:32:22.201Z"
   },
   {
    "duration": 4,
    "start_time": "2021-10-03T06:32:22.208Z"
   },
   {
    "duration": 20,
    "start_time": "2021-10-03T06:32:22.214Z"
   },
   {
    "duration": 11,
    "start_time": "2021-10-03T06:32:22.236Z"
   },
   {
    "duration": 15,
    "start_time": "2021-10-03T06:32:22.249Z"
   },
   {
    "duration": 61,
    "start_time": "2021-10-03T06:32:22.265Z"
   },
   {
    "duration": 13,
    "start_time": "2021-10-03T06:32:22.328Z"
   },
   {
    "duration": 8,
    "start_time": "2021-10-03T06:32:22.343Z"
   },
   {
    "duration": 18,
    "start_time": "2021-10-03T06:32:22.353Z"
   },
   {
    "duration": 6,
    "start_time": "2021-10-03T06:32:22.400Z"
   },
   {
    "duration": 11,
    "start_time": "2021-10-03T06:32:22.408Z"
   },
   {
    "duration": 3,
    "start_time": "2021-10-03T06:32:22.420Z"
   },
   {
    "duration": 10,
    "start_time": "2021-10-03T06:32:22.425Z"
   },
   {
    "duration": 6,
    "start_time": "2021-10-03T06:32:22.437Z"
   },
   {
    "duration": 7,
    "start_time": "2021-10-03T06:32:22.445Z"
   },
   {
    "duration": 1747,
    "start_time": "2021-10-03T06:32:22.454Z"
   },
   {
    "duration": 3526,
    "start_time": "2021-10-03T06:32:24.204Z"
   },
   {
    "duration": 198220,
    "start_time": "2021-10-03T06:32:27.732Z"
   },
   {
    "duration": 2,
    "start_time": "2021-10-03T06:35:45.954Z"
   },
   {
    "duration": 6,
    "start_time": "2021-10-03T06:35:45.957Z"
   },
   {
    "duration": 5,
    "start_time": "2021-10-03T06:35:45.965Z"
   },
   {
    "duration": 298,
    "start_time": "2021-10-03T06:35:45.972Z"
   },
   {
    "duration": 112981,
    "start_time": "2021-10-03T06:33:53.291Z"
   },
   {
    "duration": 16,
    "start_time": "2021-10-03T06:37:27.573Z"
   },
   {
    "duration": 184,
    "start_time": "2021-10-03T06:39:48.976Z"
   },
   {
    "duration": 193,
    "start_time": "2021-10-03T06:40:21.859Z"
   },
   {
    "duration": 9,
    "start_time": "2021-10-03T06:40:32.156Z"
   },
   {
    "duration": 14,
    "start_time": "2021-10-03T06:40:50.017Z"
   },
   {
    "duration": 6,
    "start_time": "2021-10-03T06:40:50.935Z"
   },
   {
    "duration": 5,
    "start_time": "2021-10-03T06:41:03.592Z"
   },
   {
    "duration": 9,
    "start_time": "2021-10-03T06:41:46.134Z"
   },
   {
    "duration": 14,
    "start_time": "2021-10-03T06:41:57.197Z"
   },
   {
    "duration": 15,
    "start_time": "2021-10-03T06:44:08.039Z"
   },
   {
    "duration": 13,
    "start_time": "2021-10-03T06:47:39.304Z"
   },
   {
    "duration": 12,
    "start_time": "2021-10-03T06:47:49.847Z"
   },
   {
    "duration": 441,
    "start_time": "2021-10-03T06:56:50.458Z"
   },
   {
    "duration": 448,
    "start_time": "2021-10-03T06:57:03.593Z"
   },
   {
    "duration": 567,
    "start_time": "2021-10-03T06:57:16.559Z"
   },
   {
    "duration": 13,
    "start_time": "2021-10-03T06:58:28.451Z"
   },
   {
    "duration": 902,
    "start_time": "2021-10-03T07:00:15.029Z"
   },
   {
    "duration": 1259,
    "start_time": "2021-10-03T07:00:47.124Z"
   },
   {
    "duration": 194,
    "start_time": "2021-10-03T07:01:25.883Z"
   },
   {
    "duration": 292,
    "start_time": "2021-10-03T07:01:30.084Z"
   },
   {
    "duration": 1333,
    "start_time": "2021-10-03T07:03:12.982Z"
   },
   {
    "duration": 4061,
    "start_time": "2021-10-03T07:05:33.225Z"
   },
   {
    "duration": 1103,
    "start_time": "2021-10-03T07:06:04.890Z"
   },
   {
    "duration": 945,
    "start_time": "2021-10-03T07:06:13.770Z"
   },
   {
    "duration": 176,
    "start_time": "2021-10-03T07:07:31.183Z"
   },
   {
    "duration": 4,
    "start_time": "2021-10-03T07:07:49.467Z"
   },
   {
    "duration": 3908,
    "start_time": "2021-10-03T07:08:36.127Z"
   },
   {
    "duration": 4212,
    "start_time": "2021-10-03T07:09:11.132Z"
   },
   {
    "duration": 4059,
    "start_time": "2021-10-03T07:09:27.151Z"
   },
   {
    "duration": 4424,
    "start_time": "2021-10-03T07:10:42.448Z"
   },
   {
    "duration": 1265,
    "start_time": "2021-10-03T07:10:58.797Z"
   },
   {
    "duration": 1625,
    "start_time": "2021-10-03T07:11:15.124Z"
   },
   {
    "duration": 1272,
    "start_time": "2021-10-03T07:11:51.191Z"
   },
   {
    "duration": 1500,
    "start_time": "2021-10-03T07:11:59.231Z"
   },
   {
    "duration": 1447,
    "start_time": "2021-10-03T07:12:20.259Z"
   },
   {
    "duration": 1934,
    "start_time": "2021-10-03T07:12:30.638Z"
   },
   {
    "duration": 1598,
    "start_time": "2021-10-03T07:12:46.660Z"
   },
   {
    "duration": 1500,
    "start_time": "2021-10-03T07:13:01.227Z"
   },
   {
    "duration": 1870,
    "start_time": "2021-10-03T07:13:18.154Z"
   },
   {
    "duration": 1539,
    "start_time": "2021-10-03T07:13:40.175Z"
   },
   {
    "duration": 1743,
    "start_time": "2021-10-03T07:14:06.025Z"
   },
   {
    "duration": 1460,
    "start_time": "2021-10-03T07:14:30.828Z"
   },
   {
    "duration": 112788,
    "start_time": "2021-10-03T07:15:52.138Z"
   },
   {
    "duration": 22849,
    "start_time": "2021-10-03T07:17:47.575Z"
   },
   {
    "duration": 1148,
    "start_time": "2021-10-03T07:23:08.282Z"
   },
   {
    "duration": 744,
    "start_time": "2021-10-03T07:23:09.432Z"
   },
   {
    "duration": 2,
    "start_time": "2021-10-03T07:23:10.178Z"
   },
   {
    "duration": 283,
    "start_time": "2021-10-03T07:23:10.182Z"
   },
   {
    "duration": 166,
    "start_time": "2021-10-03T07:23:10.467Z"
   },
   {
    "duration": 294,
    "start_time": "2021-10-03T07:23:10.634Z"
   },
   {
    "duration": 3,
    "start_time": "2021-10-03T07:23:10.930Z"
   },
   {
    "duration": 9,
    "start_time": "2021-10-03T07:23:10.935Z"
   },
   {
    "duration": 6,
    "start_time": "2021-10-03T07:23:10.946Z"
   },
   {
    "duration": 6,
    "start_time": "2021-10-03T07:23:10.954Z"
   },
   {
    "duration": 4,
    "start_time": "2021-10-03T07:23:10.962Z"
   },
   {
    "duration": 18,
    "start_time": "2021-10-03T07:23:11.001Z"
   },
   {
    "duration": 10,
    "start_time": "2021-10-03T07:23:11.021Z"
   },
   {
    "duration": 20,
    "start_time": "2021-10-03T07:23:11.033Z"
   },
   {
    "duration": 69,
    "start_time": "2021-10-03T07:23:11.054Z"
   },
   {
    "duration": 13,
    "start_time": "2021-10-03T07:23:11.125Z"
   },
   {
    "duration": 5,
    "start_time": "2021-10-03T07:23:11.140Z"
   },
   {
    "duration": 112789,
    "start_time": "2021-10-03T07:23:25.879Z"
   },
   {
    "duration": 112784,
    "start_time": "2021-10-03T07:23:25.885Z"
   },
   {
    "duration": 112784,
    "start_time": "2021-10-03T07:23:25.887Z"
   },
   {
    "duration": 112783,
    "start_time": "2021-10-03T07:23:25.889Z"
   },
   {
    "duration": 112783,
    "start_time": "2021-10-03T07:23:25.890Z"
   },
   {
    "duration": 112782,
    "start_time": "2021-10-03T07:23:25.892Z"
   },
   {
    "duration": 112782,
    "start_time": "2021-10-03T07:23:25.893Z"
   },
   {
    "duration": 112782,
    "start_time": "2021-10-03T07:23:25.894Z"
   },
   {
    "duration": 112782,
    "start_time": "2021-10-03T07:23:25.896Z"
   },
   {
    "duration": 112781,
    "start_time": "2021-10-03T07:23:25.898Z"
   },
   {
    "duration": 112780,
    "start_time": "2021-10-03T07:23:25.900Z"
   },
   {
    "duration": 112780,
    "start_time": "2021-10-03T07:23:25.901Z"
   },
   {
    "duration": 112780,
    "start_time": "2021-10-03T07:23:25.903Z"
   },
   {
    "duration": 112780,
    "start_time": "2021-10-03T07:23:25.904Z"
   },
   {
    "duration": 112779,
    "start_time": "2021-10-03T07:23:25.906Z"
   },
   {
    "duration": 112779,
    "start_time": "2021-10-03T07:23:25.907Z"
   },
   {
    "duration": 112781,
    "start_time": "2021-10-03T07:23:25.909Z"
   },
   {
    "duration": 112994,
    "start_time": "2021-10-03T07:23:34.422Z"
   },
   {
    "duration": 3,
    "start_time": "2021-10-03T07:25:54.458Z"
   },
   {
    "duration": 693,
    "start_time": "2021-10-03T07:25:54.463Z"
   },
   {
    "duration": 3,
    "start_time": "2021-10-03T07:25:55.157Z"
   },
   {
    "duration": 273,
    "start_time": "2021-10-03T07:25:55.162Z"
   },
   {
    "duration": 165,
    "start_time": "2021-10-03T07:25:55.436Z"
   },
   {
    "duration": 286,
    "start_time": "2021-10-03T07:25:55.602Z"
   },
   {
    "duration": 3,
    "start_time": "2021-10-03T07:25:55.890Z"
   },
   {
    "duration": 9,
    "start_time": "2021-10-03T07:25:55.895Z"
   },
   {
    "duration": 5,
    "start_time": "2021-10-03T07:25:55.906Z"
   },
   {
    "duration": 5,
    "start_time": "2021-10-03T07:25:55.913Z"
   },
   {
    "duration": 4,
    "start_time": "2021-10-03T07:25:55.919Z"
   },
   {
    "duration": 16,
    "start_time": "2021-10-03T07:25:55.924Z"
   },
   {
    "duration": 58,
    "start_time": "2021-10-03T07:25:55.942Z"
   },
   {
    "duration": 21,
    "start_time": "2021-10-03T07:25:56.002Z"
   },
   {
    "duration": 28,
    "start_time": "2021-10-03T07:25:56.025Z"
   },
   {
    "duration": 12,
    "start_time": "2021-10-03T07:25:56.055Z"
   },
   {
    "duration": 29,
    "start_time": "2021-10-03T07:25:56.074Z"
   },
   {
    "duration": 1277,
    "start_time": "2021-10-03T07:25:56.104Z"
   },
   {
    "duration": 1316,
    "start_time": "2021-10-03T07:25:57.383Z"
   },
   {
    "duration": 1332,
    "start_time": "2021-10-03T07:25:58.701Z"
   },
   {
    "duration": 7,
    "start_time": "2021-10-03T07:26:00.035Z"
   },
   {
    "duration": 16,
    "start_time": "2021-10-03T07:26:00.044Z"
   },
   {
    "duration": 11,
    "start_time": "2021-10-03T07:26:00.063Z"
   },
   {
    "duration": 7,
    "start_time": "2021-10-03T07:26:00.076Z"
   },
   {
    "duration": 15,
    "start_time": "2021-10-03T07:26:00.085Z"
   },
   {
    "duration": 21,
    "start_time": "2021-10-03T07:26:00.101Z"
   },
   {
    "duration": 1278,
    "start_time": "2021-10-03T07:26:00.123Z"
   },
   {
    "duration": 3492,
    "start_time": "2021-10-03T07:26:01.403Z"
   },
   {
    "duration": 198638,
    "start_time": "2021-10-03T07:26:04.897Z"
   },
   {
    "duration": 3,
    "start_time": "2021-10-03T07:29:23.536Z"
   },
   {
    "duration": 10,
    "start_time": "2021-10-03T07:29:23.540Z"
   },
   {
    "duration": 6,
    "start_time": "2021-10-03T07:29:23.552Z"
   },
   {
    "duration": 1347,
    "start_time": "2021-10-03T07:29:23.559Z"
   },
   {
    "duration": 112985,
    "start_time": "2021-10-03T07:27:31.923Z"
   },
   {
    "duration": 5,
    "start_time": "2021-10-03T07:33:18.309Z"
   },
   {
    "duration": 8,
    "start_time": "2021-10-03T07:34:10.965Z"
   },
   {
    "duration": 307,
    "start_time": "2021-10-03T07:51:26.564Z"
   },
   {
    "duration": 3,
    "start_time": "2021-10-03T07:54:02.933Z"
   },
   {
    "duration": 303,
    "start_time": "2021-10-03T07:54:09.445Z"
   },
   {
    "duration": 4,
    "start_time": "2021-10-03T07:54:59.044Z"
   },
   {
    "duration": 1316,
    "start_time": "2021-10-03T07:55:32.992Z"
   },
   {
    "duration": 1414,
    "start_time": "2021-10-03T07:57:12.894Z"
   },
   {
    "duration": 1425,
    "start_time": "2021-10-03T07:58:26.084Z"
   },
   {
    "duration": 179,
    "start_time": "2021-10-03T07:59:00.676Z"
   },
   {
    "duration": 1480,
    "start_time": "2021-10-03T08:01:09.028Z"
   },
   {
    "duration": 4,
    "start_time": "2021-10-03T08:04:35.868Z"
   },
   {
    "duration": 8,
    "start_time": "2021-10-03T08:06:46.825Z"
   },
   {
    "duration": 3,
    "start_time": "2021-10-03T08:06:48.187Z"
   },
   {
    "duration": 1814,
    "start_time": "2021-10-03T08:07:01.591Z"
   },
   {
    "duration": 2162,
    "start_time": "2021-10-03T08:08:07.538Z"
   },
   {
    "duration": 6125,
    "start_time": "2021-10-03T08:09:29.122Z"
   },
   {
    "duration": 361456,
    "start_time": "2021-10-03T08:09:35.249Z"
   },
   {
    "duration": 3,
    "start_time": "2021-10-03T08:17:25.139Z"
   },
   {
    "duration": 2058,
    "start_time": "2021-10-03T08:17:29.042Z"
   },
   {
    "duration": 1091,
    "start_time": "2021-10-03T08:21:26.416Z"
   },
   {
    "duration": 2779,
    "start_time": "2021-10-03T08:21:27.509Z"
   },
   {
    "duration": 791,
    "start_time": "2021-10-03T08:22:15.614Z"
   },
   {
    "duration": 2665,
    "start_time": "2021-10-03T08:22:18.312Z"
   },
   {
    "duration": 982,
    "start_time": "2021-10-03T08:22:44.418Z"
   },
   {
    "duration": 2754,
    "start_time": "2021-10-03T08:22:46.612Z"
   },
   {
    "duration": 63,
    "start_time": "2021-10-03T08:48:13.284Z"
   },
   {
    "duration": 5,
    "start_time": "2021-10-03T08:48:24.451Z"
   },
   {
    "duration": 442,
    "start_time": "2021-10-03T08:48:34.354Z"
   },
   {
    "duration": 5,
    "start_time": "2021-10-03T08:48:53.028Z"
   },
   {
    "duration": 547,
    "start_time": "2021-10-03T08:48:55.907Z"
   },
   {
    "duration": 6,
    "start_time": "2021-10-03T08:49:19.498Z"
   },
   {
    "duration": 470,
    "start_time": "2021-10-03T08:49:21.636Z"
   },
   {
    "duration": 5,
    "start_time": "2021-10-03T08:50:19.566Z"
   },
   {
    "duration": 4514,
    "start_time": "2021-10-03T08:50:22.020Z"
   },
   {
    "duration": 8,
    "start_time": "2021-10-03T08:50:59.732Z"
   },
   {
    "duration": 8,
    "start_time": "2021-10-03T08:51:02.676Z"
   },
   {
    "duration": 2,
    "start_time": "2021-10-03T08:51:05.278Z"
   },
   {
    "duration": 4836,
    "start_time": "2021-10-03T08:51:06.519Z"
   },
   {
    "duration": 11,
    "start_time": "2021-10-03T08:51:53.653Z"
   },
   {
    "duration": 4,
    "start_time": "2021-10-03T08:52:16.059Z"
   },
   {
    "duration": 11,
    "start_time": "2021-10-03T08:52:16.699Z"
   },
   {
    "duration": 9,
    "start_time": "2021-10-03T08:52:17.442Z"
   },
   {
    "duration": 4,
    "start_time": "2021-10-03T08:52:18.320Z"
   },
   {
    "duration": 2063,
    "start_time": "2021-10-03T08:52:19.238Z"
   },
   {
    "duration": 3052,
    "start_time": "2021-10-03T08:52:25.053Z"
   },
   {
    "duration": 168287,
    "start_time": "2021-10-03T08:52:31.181Z"
   },
   {
    "duration": 3,
    "start_time": "2021-10-03T08:55:35.938Z"
   },
   {
    "duration": 19,
    "start_time": "2021-10-03T08:55:36.503Z"
   },
   {
    "duration": 3,
    "start_time": "2021-10-03T08:55:39.464Z"
   },
   {
    "duration": 10,
    "start_time": "2021-10-03T08:58:04.295Z"
   },
   {
    "duration": 9,
    "start_time": "2021-10-03T08:58:17.214Z"
   },
   {
    "duration": 4,
    "start_time": "2021-10-03T08:58:17.899Z"
   },
   {
    "duration": 43526,
    "start_time": "2021-10-03T08:59:01.196Z"
   },
   {
    "duration": 13,
    "start_time": "2021-10-03T09:13:43.062Z"
   },
   {
    "duration": 16,
    "start_time": "2021-10-03T09:15:28.579Z"
   },
   {
    "duration": 16,
    "start_time": "2021-10-03T09:15:33.616Z"
   },
   {
    "duration": 17,
    "start_time": "2021-10-03T09:15:49.343Z"
   },
   {
    "duration": 17,
    "start_time": "2021-10-03T09:16:07.484Z"
   },
   {
    "duration": 22,
    "start_time": "2021-10-03T09:16:50.104Z"
   },
   {
    "duration": 2852,
    "start_time": "2021-10-03T09:23:14.988Z"
   },
   {
    "duration": 2985,
    "start_time": "2021-10-03T09:23:23.043Z"
   },
   {
    "duration": 2906,
    "start_time": "2021-10-03T09:23:26.030Z"
   },
   {
    "duration": 1021,
    "start_time": "2021-10-03T09:54:06.646Z"
   },
   {
    "duration": 736,
    "start_time": "2021-10-03T09:54:07.669Z"
   },
   {
    "duration": 3,
    "start_time": "2021-10-03T09:54:08.406Z"
   },
   {
    "duration": 276,
    "start_time": "2021-10-03T09:54:08.411Z"
   },
   {
    "duration": 168,
    "start_time": "2021-10-03T09:54:08.689Z"
   },
   {
    "duration": 291,
    "start_time": "2021-10-03T09:54:08.859Z"
   },
   {
    "duration": 3,
    "start_time": "2021-10-03T09:54:09.152Z"
   },
   {
    "duration": 7,
    "start_time": "2021-10-03T09:54:09.158Z"
   },
   {
    "duration": 5,
    "start_time": "2021-10-03T09:54:09.168Z"
   },
   {
    "duration": 26,
    "start_time": "2021-10-03T09:54:09.175Z"
   },
   {
    "duration": 5,
    "start_time": "2021-10-03T09:54:09.203Z"
   },
   {
    "duration": 16,
    "start_time": "2021-10-03T09:54:09.210Z"
   },
   {
    "duration": 9,
    "start_time": "2021-10-03T09:54:09.228Z"
   },
   {
    "duration": 17,
    "start_time": "2021-10-03T09:54:09.239Z"
   },
   {
    "duration": 66,
    "start_time": "2021-10-03T09:54:09.258Z"
   },
   {
    "duration": 15,
    "start_time": "2021-10-03T09:54:09.326Z"
   },
   {
    "duration": 8,
    "start_time": "2021-10-03T09:54:09.343Z"
   },
   {
    "duration": 2769,
    "start_time": "2021-10-03T09:54:09.353Z"
   },
   {
    "duration": 2837,
    "start_time": "2021-10-03T09:54:12.124Z"
   },
   {
    "duration": 3081,
    "start_time": "2021-10-03T09:54:14.963Z"
   },
   {
    "duration": 8,
    "start_time": "2021-10-03T09:54:18.047Z"
   },
   {
    "duration": 16,
    "start_time": "2021-10-03T09:54:18.057Z"
   },
   {
    "duration": 3,
    "start_time": "2021-10-03T09:54:18.100Z"
   },
   {
    "duration": 12,
    "start_time": "2021-10-03T09:54:18.106Z"
   },
   {
    "duration": 14,
    "start_time": "2021-10-03T09:54:18.120Z"
   },
   {
    "duration": 4,
    "start_time": "2021-10-03T09:54:18.135Z"
   },
   {
    "duration": 760,
    "start_time": "2021-10-03T09:54:18.141Z"
   },
   {
    "duration": 2807,
    "start_time": "2021-10-03T09:54:18.903Z"
   },
   {
    "duration": 155393,
    "start_time": "2021-10-03T09:54:21.712Z"
   },
   {
    "duration": 41297,
    "start_time": "2021-10-03T09:56:57.106Z"
   },
   {
    "duration": 7000,
    "start_time": "2021-10-03T11:49:28.945Z"
   },
   {
    "duration": 7197,
    "start_time": "2021-10-03T11:49:35.946Z"
   },
   {
    "duration": 98,
    "start_time": "2021-10-03T11:50:26.645Z"
   },
   {
    "duration": 2407,
    "start_time": "2021-10-03T11:50:27.146Z"
   },
   {
    "duration": 1401,
    "start_time": "2021-10-03T11:50:29.554Z"
   },
   {
    "duration": 2408,
    "start_time": "2021-10-03T11:50:31.045Z"
   },
   {
    "duration": 91,
    "start_time": "2021-10-03T11:50:33.456Z"
   },
   {
    "duration": 100,
    "start_time": "2021-10-03T11:50:33.549Z"
   },
   {
    "duration": 99,
    "start_time": "2021-10-03T11:50:33.650Z"
   },
   {
    "duration": 97,
    "start_time": "2021-10-03T11:50:33.751Z"
   },
   {
    "duration": 3,
    "start_time": "2021-10-03T11:50:33.851Z"
   },
   {
    "duration": 105,
    "start_time": "2021-10-03T11:50:33.946Z"
   },
   {
    "duration": 110,
    "start_time": "2021-10-03T11:50:34.053Z"
   },
   {
    "duration": 93,
    "start_time": "2021-10-03T11:50:34.174Z"
   },
   {
    "duration": 199,
    "start_time": "2021-10-03T11:50:34.345Z"
   },
   {
    "duration": 111,
    "start_time": "2021-10-03T11:50:34.744Z"
   },
   {
    "duration": 98,
    "start_time": "2021-10-03T11:50:35.345Z"
   },
   {
    "duration": 24097,
    "start_time": "2021-10-03T12:09:44.946Z"
   },
   {
    "duration": 24802,
    "start_time": "2021-10-03T12:10:09.046Z"
   },
   {
    "duration": 26697,
    "start_time": "2021-10-03T12:10:33.852Z"
   },
   {
    "duration": 14,
    "start_time": "2021-10-03T12:13:08.044Z"
   },
   {
    "duration": 198,
    "start_time": "2021-10-03T12:19:38.147Z"
   },
   {
    "duration": 7,
    "start_time": "2021-10-03T12:21:02.345Z"
   },
   {
    "duration": 100,
    "start_time": "2021-10-03T12:21:03.245Z"
   },
   {
    "duration": 110,
    "start_time": "2021-10-03T12:21:04.045Z"
   },
   {
    "duration": 6,
    "start_time": "2021-10-03T12:21:04.545Z"
   },
   {
    "duration": 1808,
    "start_time": "2021-10-03T12:21:04.945Z"
   },
   {
    "duration": 25610,
    "start_time": "2021-10-03T12:21:06.845Z"
   },
   {
    "duration": 1410795,
    "start_time": "2021-10-03T12:21:32.457Z"
   },
   {
    "duration": 341784,
    "start_time": "2021-10-03T12:45:03.259Z"
   },
   {
    "duration": 1584,
    "start_time": "2021-10-04T00:26:33.729Z"
   },
   {
    "duration": 913,
    "start_time": "2021-10-04T00:26:35.316Z"
   },
   {
    "duration": 4,
    "start_time": "2021-10-04T00:26:36.232Z"
   },
   {
    "duration": 442,
    "start_time": "2021-10-04T00:26:36.238Z"
   },
   {
    "duration": 279,
    "start_time": "2021-10-04T00:26:36.682Z"
   },
   {
    "duration": 557,
    "start_time": "2021-10-04T00:26:36.967Z"
   },
   {
    "duration": 4,
    "start_time": "2021-10-04T00:26:37.526Z"
   },
   {
    "duration": 16,
    "start_time": "2021-10-04T00:26:37.532Z"
   },
   {
    "duration": 7,
    "start_time": "2021-10-04T00:26:37.569Z"
   },
   {
    "duration": 7,
    "start_time": "2021-10-04T00:26:37.579Z"
   },
   {
    "duration": 6,
    "start_time": "2021-10-04T00:26:37.588Z"
   },
   {
    "duration": 23,
    "start_time": "2021-10-04T00:26:37.596Z"
   },
   {
    "duration": 49,
    "start_time": "2021-10-04T00:26:37.621Z"
   },
   {
    "duration": 22,
    "start_time": "2021-10-04T00:26:37.672Z"
   },
   {
    "duration": 38,
    "start_time": "2021-10-04T00:26:37.697Z"
   },
   {
    "duration": 18,
    "start_time": "2021-10-04T00:26:37.768Z"
   },
   {
    "duration": 20,
    "start_time": "2021-10-04T00:26:37.788Z"
   },
   {
    "duration": 4513,
    "start_time": "2021-10-04T00:26:37.810Z"
   },
   {
    "duration": 4831,
    "start_time": "2021-10-04T00:26:42.326Z"
   },
   {
    "duration": 4965,
    "start_time": "2021-10-04T00:26:47.159Z"
   },
   {
    "duration": 12,
    "start_time": "2021-10-04T00:26:52.126Z"
   },
   {
    "duration": 42,
    "start_time": "2021-10-04T00:26:52.141Z"
   },
   {
    "duration": 7,
    "start_time": "2021-10-04T00:26:52.185Z"
   },
   {
    "duration": 26,
    "start_time": "2021-10-04T00:26:52.195Z"
   },
   {
    "duration": 29,
    "start_time": "2021-10-04T00:26:52.224Z"
   },
   {
    "duration": 12,
    "start_time": "2021-10-04T00:26:52.256Z"
   },
   {
    "duration": 998,
    "start_time": "2021-10-04T00:26:52.274Z"
   },
   {
    "duration": 3750,
    "start_time": "2021-10-04T00:26:53.276Z"
   },
   {
    "duration": 212972,
    "start_time": "2021-10-04T00:26:57.029Z"
   },
   {
    "duration": 56589,
    "start_time": "2021-10-04T00:30:30.004Z"
   },
   {
    "duration": 7810,
    "start_time": "2021-10-04T00:41:10.814Z"
   },
   {
    "duration": 9120,
    "start_time": "2021-10-04T00:41:48.343Z"
   },
   {
    "duration": 359,
    "start_time": "2021-10-04T00:44:01.698Z"
   },
   {
    "duration": 1660,
    "start_time": "2021-10-04T00:44:09.413Z"
   },
   {
    "duration": 12984,
    "start_time": "2021-10-04T00:54:49.297Z"
   },
   {
    "duration": 45678,
    "start_time": "2021-10-04T00:55:52.257Z"
   },
   {
    "duration": 12855,
    "start_time": "2021-10-04T00:58:19.687Z"
   },
   {
    "duration": 1654,
    "start_time": "2021-10-04T01:00:22.113Z"
   },
   {
    "duration": 4665,
    "start_time": "2021-10-04T01:00:47.980Z"
   },
   {
    "duration": 1556,
    "start_time": "2021-10-04T02:31:13.297Z"
   },
   {
    "duration": 1584,
    "start_time": "2021-10-04T02:31:51.052Z"
   },
   {
    "duration": 1538,
    "start_time": "2021-10-04T02:32:16.657Z"
   },
   {
    "duration": 1543,
    "start_time": "2021-10-04T02:33:29.797Z"
   },
   {
    "duration": 1559,
    "start_time": "2021-10-04T02:33:33.632Z"
   },
   {
    "duration": 2009,
    "start_time": "2021-10-04T02:33:50.254Z"
   },
   {
    "duration": 1656,
    "start_time": "2021-10-04T02:34:48.324Z"
   },
   {
    "duration": 5,
    "start_time": "2021-10-04T02:36:46.448Z"
   },
   {
    "duration": 1531,
    "start_time": "2021-10-04T02:37:15.744Z"
   },
   {
    "duration": 1637,
    "start_time": "2021-10-04T02:37:34.720Z"
   },
   {
    "duration": 1525,
    "start_time": "2021-10-04T02:37:51.126Z"
   },
   {
    "duration": 1641,
    "start_time": "2021-10-04T02:38:00.905Z"
   },
   {
    "duration": 15,
    "start_time": "2021-10-04T02:41:31.897Z"
   },
   {
    "duration": 21,
    "start_time": "2021-10-04T02:41:53.308Z"
   },
   {
    "duration": 1530,
    "start_time": "2021-10-04T02:46:44.812Z"
   },
   {
    "duration": 10676,
    "start_time": "2021-10-04T02:47:16.347Z"
   },
   {
    "duration": 1855,
    "start_time": "2021-10-04T02:47:39.126Z"
   },
   {
    "duration": 13,
    "start_time": "2021-10-04T02:47:59.744Z"
   },
   {
    "duration": 6,
    "start_time": "2021-10-04T02:48:24.137Z"
   },
   {
    "duration": 6,
    "start_time": "2021-10-04T02:49:48.289Z"
   },
   {
    "duration": 364,
    "start_time": "2021-10-04T02:49:50.072Z"
   },
   {
    "duration": 1878,
    "start_time": "2021-10-04T02:53:28.564Z"
   },
   {
    "duration": 5,
    "start_time": "2021-10-04T02:58:13.023Z"
   },
   {
    "duration": 775,
    "start_time": "2021-10-04T03:01:01.482Z"
   },
   {
    "duration": 4,
    "start_time": "2021-10-04T03:01:22.272Z"
   },
   {
    "duration": 2438,
    "start_time": "2021-10-04T03:01:23.230Z"
   },
   {
    "duration": 1552,
    "start_time": "2021-10-04T03:03:24.349Z"
   },
   {
    "duration": 1526,
    "start_time": "2021-10-04T03:03:28.175Z"
   },
   {
    "duration": 5,
    "start_time": "2021-10-04T03:05:07.841Z"
   },
   {
    "duration": 1852,
    "start_time": "2021-10-04T03:05:17.635Z"
   },
   {
    "duration": 1565,
    "start_time": "2021-10-04T03:06:28.946Z"
   },
   {
    "duration": 7,
    "start_time": "2021-10-04T03:08:06.837Z"
   },
   {
    "duration": 11,
    "start_time": "2021-10-04T03:08:22.951Z"
   },
   {
    "duration": 13,
    "start_time": "2021-10-04T03:08:52.584Z"
   },
   {
    "duration": 1455,
    "start_time": "2021-10-04T03:12:06.693Z"
   },
   {
    "duration": 1033,
    "start_time": "2021-10-04T03:12:08.151Z"
   },
   {
    "duration": 5,
    "start_time": "2021-10-04T03:12:09.188Z"
   },
   {
    "duration": 446,
    "start_time": "2021-10-04T03:12:09.196Z"
   },
   {
    "duration": 283,
    "start_time": "2021-10-04T03:12:09.644Z"
   },
   {
    "duration": 458,
    "start_time": "2021-10-04T03:12:09.929Z"
   },
   {
    "duration": 5,
    "start_time": "2021-10-04T03:12:10.390Z"
   },
   {
    "duration": 14,
    "start_time": "2021-10-04T03:12:10.398Z"
   },
   {
    "duration": 7,
    "start_time": "2021-10-04T03:12:10.415Z"
   },
   {
    "duration": 47,
    "start_time": "2021-10-04T03:12:10.425Z"
   },
   {
    "duration": 4,
    "start_time": "2021-10-04T03:12:10.475Z"
   },
   {
    "duration": 22,
    "start_time": "2021-10-04T03:12:10.482Z"
   },
   {
    "duration": 61,
    "start_time": "2021-10-04T03:12:10.507Z"
   },
   {
    "duration": 24,
    "start_time": "2021-10-04T03:12:10.571Z"
   },
   {
    "duration": 73,
    "start_time": "2021-10-04T03:12:10.598Z"
   },
   {
    "duration": 22,
    "start_time": "2021-10-04T03:12:10.674Z"
   },
   {
    "duration": 11,
    "start_time": "2021-10-04T03:12:10.699Z"
   },
   {
    "duration": 4485,
    "start_time": "2021-10-04T03:12:10.713Z"
   },
   {
    "duration": 4611,
    "start_time": "2021-10-04T03:12:15.201Z"
   },
   {
    "duration": 4885,
    "start_time": "2021-10-04T03:12:19.815Z"
   },
   {
    "duration": 12,
    "start_time": "2021-10-04T03:12:24.704Z"
   },
   {
    "duration": 6,
    "start_time": "2021-10-04T03:12:24.718Z"
   },
   {
    "duration": 1790,
    "start_time": "2021-10-04T03:12:24.729Z"
   },
   {
    "duration": 1569,
    "start_time": "2021-10-04T03:12:26.522Z"
   },
   {
    "duration": 1576,
    "start_time": "2021-10-04T03:12:28.095Z"
   },
   {
    "duration": 6,
    "start_time": "2021-10-04T03:12:29.674Z"
   },
   {
    "duration": 1859,
    "start_time": "2021-10-04T03:12:29.682Z"
   },
   {
    "duration": 1759,
    "start_time": "2021-10-04T03:12:31.543Z"
   },
   {
    "duration": 20,
    "start_time": "2021-10-04T03:12:33.304Z"
   },
   {
    "duration": 48,
    "start_time": "2021-10-04T03:12:33.327Z"
   },
   {
    "duration": 47,
    "start_time": "2021-10-04T03:12:33.377Z"
   },
   {
    "duration": 18,
    "start_time": "2021-10-04T03:12:33.426Z"
   },
   {
    "duration": 29,
    "start_time": "2021-10-04T03:12:33.446Z"
   },
   {
    "duration": 4,
    "start_time": "2021-10-04T03:12:33.477Z"
   },
   {
    "duration": 1701,
    "start_time": "2021-10-04T03:12:33.484Z"
   },
   {
    "duration": 114441,
    "start_time": "2021-10-04T03:10:40.746Z"
   },
   {
    "duration": 114353,
    "start_time": "2021-10-04T03:10:40.836Z"
   },
   {
    "duration": 114352,
    "start_time": "2021-10-04T03:10:40.838Z"
   },
   {
    "duration": 5,
    "start_time": "2021-10-04T03:14:48.371Z"
   },
   {
    "duration": 21,
    "start_time": "2021-10-04T03:16:53.746Z"
   },
   {
    "duration": 18,
    "start_time": "2021-10-04T03:19:00.251Z"
   },
   {
    "duration": 19,
    "start_time": "2021-10-04T03:19:19.607Z"
   },
   {
    "duration": 16,
    "start_time": "2021-10-04T03:19:25.177Z"
   },
   {
    "duration": 6,
    "start_time": "2021-10-04T03:20:04.353Z"
   },
   {
    "duration": 11,
    "start_time": "2021-10-04T03:20:26.083Z"
   },
   {
    "duration": 19,
    "start_time": "2021-10-04T03:20:57.058Z"
   },
   {
    "duration": 319,
    "start_time": "2021-10-04T03:20:58.646Z"
   },
   {
    "duration": 1486,
    "start_time": "2021-10-04T03:21:44.655Z"
   },
   {
    "duration": 909,
    "start_time": "2021-10-04T03:21:46.143Z"
   },
   {
    "duration": 3,
    "start_time": "2021-10-04T03:21:47.055Z"
   },
   {
    "duration": 429,
    "start_time": "2021-10-04T03:21:47.067Z"
   },
   {
    "duration": 272,
    "start_time": "2021-10-04T03:21:47.498Z"
   },
   {
    "duration": 459,
    "start_time": "2021-10-04T03:21:47.773Z"
   },
   {
    "duration": 5,
    "start_time": "2021-10-04T03:21:48.234Z"
   },
   {
    "duration": 33,
    "start_time": "2021-10-04T03:21:48.243Z"
   },
   {
    "duration": 7,
    "start_time": "2021-10-04T03:21:48.279Z"
   },
   {
    "duration": 16,
    "start_time": "2021-10-04T03:21:48.289Z"
   },
   {
    "duration": 5,
    "start_time": "2021-10-04T03:21:48.307Z"
   },
   {
    "duration": 31,
    "start_time": "2021-10-04T03:21:48.315Z"
   },
   {
    "duration": 14,
    "start_time": "2021-10-04T03:21:48.369Z"
   },
   {
    "duration": 24,
    "start_time": "2021-10-04T03:21:48.386Z"
   },
   {
    "duration": 84,
    "start_time": "2021-10-04T03:21:48.413Z"
   },
   {
    "duration": 20,
    "start_time": "2021-10-04T03:21:48.499Z"
   },
   {
    "duration": 11,
    "start_time": "2021-10-04T03:21:48.521Z"
   },
   {
    "duration": 4437,
    "start_time": "2021-10-04T03:21:48.534Z"
   },
   {
    "duration": 4505,
    "start_time": "2021-10-04T03:21:52.975Z"
   },
   {
    "duration": 4851,
    "start_time": "2021-10-04T03:21:57.484Z"
   },
   {
    "duration": 12,
    "start_time": "2021-10-04T03:22:02.338Z"
   },
   {
    "duration": 5,
    "start_time": "2021-10-04T03:22:02.368Z"
   },
   {
    "duration": 1619,
    "start_time": "2021-10-04T03:22:02.378Z"
   },
   {
    "duration": 1580,
    "start_time": "2021-10-04T03:22:04.000Z"
   },
   {
    "duration": 1555,
    "start_time": "2021-10-04T03:22:05.583Z"
   },
   {
    "duration": 5,
    "start_time": "2021-10-04T03:22:07.141Z"
   },
   {
    "duration": 1796,
    "start_time": "2021-10-04T03:22:07.149Z"
   },
   {
    "duration": 1636,
    "start_time": "2021-10-04T03:22:08.948Z"
   },
   {
    "duration": 24,
    "start_time": "2021-10-04T03:22:10.586Z"
   },
   {
    "duration": 13,
    "start_time": "2021-10-04T03:22:10.613Z"
   },
   {
    "duration": 53,
    "start_time": "2021-10-04T03:22:10.628Z"
   },
   {
    "duration": 5,
    "start_time": "2021-10-04T03:22:10.684Z"
   },
   {
    "duration": 27,
    "start_time": "2021-10-04T03:22:10.691Z"
   },
   {
    "duration": 11,
    "start_time": "2021-10-04T03:22:10.720Z"
   },
   {
    "duration": 515,
    "start_time": "2021-10-04T03:22:10.734Z"
   },
   {
    "duration": 114558,
    "start_time": "2021-10-04T03:20:16.694Z"
   },
   {
    "duration": 114557,
    "start_time": "2021-10-04T03:20:16.697Z"
   },
   {
    "duration": 114557,
    "start_time": "2021-10-04T03:20:16.699Z"
   },
   {
    "duration": 316,
    "start_time": "2021-10-04T03:23:29.419Z"
   },
   {
    "duration": 19,
    "start_time": "2021-10-04T03:23:33.612Z"
   },
   {
    "duration": 4,
    "start_time": "2021-10-04T03:23:37.683Z"
   },
   {
    "duration": 431,
    "start_time": "2021-10-04T03:23:39.484Z"
   },
   {
    "duration": 23,
    "start_time": "2021-10-04T03:25:45.432Z"
   },
   {
    "duration": 20,
    "start_time": "2021-10-04T03:25:50.102Z"
   },
   {
    "duration": 4,
    "start_time": "2021-10-04T03:25:55.729Z"
   },
   {
    "duration": 1054,
    "start_time": "2021-10-04T03:25:56.917Z"
   },
   {
    "duration": 443,
    "start_time": "2021-10-04T03:26:01.696Z"
   },
   {
    "duration": 4612,
    "start_time": "2021-10-04T03:26:09.002Z"
   },
   {
    "duration": 270165,
    "start_time": "2021-10-04T03:26:16.284Z"
   },
   {
    "duration": 328,
    "start_time": "2021-10-04T05:09:29.415Z"
   },
   {
    "duration": 6,
    "start_time": "2021-10-04T05:11:21.990Z"
   },
   {
    "duration": 5,
    "start_time": "2021-10-04T05:12:09.839Z"
   },
   {
    "duration": 8,
    "start_time": "2021-10-04T05:12:20.689Z"
   },
   {
    "duration": 18,
    "start_time": "2021-10-04T05:12:55.906Z"
   },
   {
    "duration": 310,
    "start_time": "2021-10-04T05:14:55.491Z"
   },
   {
    "duration": 303,
    "start_time": "2021-10-04T05:15:24.890Z"
   },
   {
    "duration": 1104,
    "start_time": "2021-10-04T05:15:35.626Z"
   },
   {
    "duration": 17,
    "start_time": "2021-10-04T05:18:09.641Z"
   },
   {
    "duration": 9,
    "start_time": "2021-10-04T05:18:50.854Z"
   },
   {
    "duration": 19,
    "start_time": "2021-10-04T05:19:02.047Z"
   },
   {
    "duration": 21,
    "start_time": "2021-10-04T05:19:12.198Z"
   },
   {
    "duration": 7,
    "start_time": "2021-10-04T05:19:32.599Z"
   },
   {
    "duration": 9,
    "start_time": "2021-10-04T05:19:58.490Z"
   },
   {
    "duration": 22,
    "start_time": "2021-10-04T05:20:04.913Z"
   },
   {
    "duration": 21,
    "start_time": "2021-10-04T05:20:09.736Z"
   },
   {
    "duration": 311,
    "start_time": "2021-10-04T05:20:26.395Z"
   },
   {
    "duration": 300,
    "start_time": "2021-10-04T05:21:08.583Z"
   },
   {
    "duration": 7925,
    "start_time": "2021-10-04T05:21:25.875Z"
   },
   {
    "duration": 25,
    "start_time": "2021-10-04T05:23:16.169Z"
   },
   {
    "duration": 5,
    "start_time": "2021-10-04T05:23:43.447Z"
   },
   {
    "duration": 2256,
    "start_time": "2021-10-04T05:25:42.056Z"
   },
   {
    "duration": 2306,
    "start_time": "2021-10-04T05:26:27.043Z"
   },
   {
    "duration": 2281,
    "start_time": "2021-10-04T05:26:43.095Z"
   },
   {
    "duration": 2234,
    "start_time": "2021-10-04T05:33:19.208Z"
   },
   {
    "duration": 2286,
    "start_time": "2021-10-04T05:33:21.444Z"
   },
   {
    "duration": 2243,
    "start_time": "2021-10-04T05:33:23.733Z"
   },
   {
    "duration": 2757,
    "start_time": "2021-10-04T05:34:06.424Z"
   },
   {
    "duration": 2417,
    "start_time": "2021-10-04T05:34:09.184Z"
   },
   {
    "duration": 27,
    "start_time": "2021-10-04T05:35:00.648Z"
   },
   {
    "duration": 12,
    "start_time": "2021-10-04T05:35:02.054Z"
   },
   {
    "duration": 13,
    "start_time": "2021-10-04T05:35:18.076Z"
   },
   {
    "duration": 23,
    "start_time": "2021-10-04T05:35:37.789Z"
   },
   {
    "duration": 6,
    "start_time": "2021-10-04T05:35:38.826Z"
   },
   {
    "duration": 10,
    "start_time": "2021-10-04T06:53:08.792Z"
   },
   {
    "duration": 1587,
    "start_time": "2021-10-04T06:57:29.060Z"
   },
   {
    "duration": 917,
    "start_time": "2021-10-04T06:57:30.651Z"
   },
   {
    "duration": 5,
    "start_time": "2021-10-04T06:57:31.572Z"
   },
   {
    "duration": 460,
    "start_time": "2021-10-04T06:57:31.581Z"
   },
   {
    "duration": 286,
    "start_time": "2021-10-04T06:57:32.044Z"
   },
   {
    "duration": 455,
    "start_time": "2021-10-04T06:57:32.333Z"
   },
   {
    "duration": 5,
    "start_time": "2021-10-04T06:57:32.790Z"
   },
   {
    "duration": 17,
    "start_time": "2021-10-04T06:57:32.798Z"
   },
   {
    "duration": 8,
    "start_time": "2021-10-04T06:57:32.817Z"
   },
   {
    "duration": 42,
    "start_time": "2021-10-04T06:57:32.827Z"
   },
   {
    "duration": 6,
    "start_time": "2021-10-04T06:57:32.872Z"
   },
   {
    "duration": 24,
    "start_time": "2021-10-04T06:57:32.880Z"
   },
   {
    "duration": 14,
    "start_time": "2021-10-04T06:57:32.906Z"
   },
   {
    "duration": 63,
    "start_time": "2021-10-04T06:57:32.922Z"
   },
   {
    "duration": 3142,
    "start_time": "2021-10-04T06:57:32.988Z"
   },
   {
    "duration": 40,
    "start_time": "2021-10-04T06:57:36.132Z"
   },
   {
    "duration": 16,
    "start_time": "2021-10-04T06:57:36.175Z"
   },
   {
    "duration": 4652,
    "start_time": "2021-10-04T06:57:36.193Z"
   },
   {
    "duration": 4813,
    "start_time": "2021-10-04T06:57:40.848Z"
   },
   {
    "duration": 5628,
    "start_time": "2021-10-04T06:57:45.668Z"
   },
   {
    "duration": 14,
    "start_time": "2021-10-04T06:57:51.299Z"
   },
   {
    "duration": 6,
    "start_time": "2021-10-04T06:57:51.316Z"
   },
   {
    "duration": 3303,
    "start_time": "2021-10-04T06:57:51.331Z"
   },
   {
    "duration": 3062,
    "start_time": "2021-10-04T06:57:54.637Z"
   },
   {
    "duration": 2176,
    "start_time": "2021-10-04T06:57:57.703Z"
   },
   {
    "duration": 6,
    "start_time": "2021-10-04T06:57:59.882Z"
   },
   {
    "duration": 2539,
    "start_time": "2021-10-04T06:57:59.891Z"
   },
   {
    "duration": 2245,
    "start_time": "2021-10-04T06:58:02.433Z"
   },
   {
    "duration": 25,
    "start_time": "2021-10-04T06:58:04.681Z"
   },
   {
    "duration": 13,
    "start_time": "2021-10-04T06:58:04.709Z"
   },
   {
    "duration": 5258,
    "start_time": "2021-10-04T06:58:04.725Z"
   },
   {
    "duration": 2720,
    "start_time": "2021-10-04T06:58:09.985Z"
   },
   {
    "duration": 2761,
    "start_time": "2021-10-04T06:58:12.707Z"
   },
   {
    "duration": 3389,
    "start_time": "2021-10-04T06:58:15.470Z"
   },
   {
    "duration": 2931,
    "start_time": "2021-10-04T06:58:18.861Z"
   },
   {
    "duration": 30,
    "start_time": "2021-10-04T06:58:21.795Z"
   },
   {
    "duration": 16,
    "start_time": "2021-10-04T06:58:21.827Z"
   },
   {
    "duration": 23,
    "start_time": "2021-10-04T06:58:21.868Z"
   },
   {
    "duration": 5,
    "start_time": "2021-10-04T06:58:21.894Z"
   },
   {
    "duration": 27,
    "start_time": "2021-10-04T06:58:21.901Z"
   },
   {
    "duration": 37,
    "start_time": "2021-10-04T06:58:21.930Z"
   },
   {
    "duration": 1098,
    "start_time": "2021-10-04T06:58:21.970Z"
   },
   {
    "duration": 4684,
    "start_time": "2021-10-04T06:58:23.071Z"
   },
   {
    "duration": 270749,
    "start_time": "2021-10-04T06:58:27.757Z"
   },
   {
    "duration": 480,
    "start_time": "2021-10-04T07:02:58.509Z"
   },
   {
    "duration": 114584,
    "start_time": "2021-10-04T07:01:04.407Z"
   },
   {
    "duration": 114581,
    "start_time": "2021-10-04T07:01:04.411Z"
   },
   {
    "duration": 114484,
    "start_time": "2021-10-04T07:01:04.510Z"
   },
   {
    "duration": 114483,
    "start_time": "2021-10-04T07:01:04.512Z"
   },
   {
    "duration": 114482,
    "start_time": "2021-10-04T07:01:04.515Z"
   },
   {
    "duration": 114481,
    "start_time": "2021-10-04T07:01:04.517Z"
   },
   {
    "duration": 23,
    "start_time": "2021-10-04T07:03:41.047Z"
   },
   {
    "duration": 5,
    "start_time": "2021-10-04T07:03:42.532Z"
   },
   {
    "duration": 5,
    "start_time": "2021-10-04T07:04:48.877Z"
   },
   {
    "duration": 883,
    "start_time": "2021-10-04T07:06:00.656Z"
   },
   {
    "duration": 15,
    "start_time": "2021-10-04T07:06:07.247Z"
   },
   {
    "duration": 17,
    "start_time": "2021-10-04T07:06:23.684Z"
   },
   {
    "duration": 3247,
    "start_time": "2021-10-04T07:06:26.992Z"
   },
   {
    "duration": 15,
    "start_time": "2021-10-04T07:06:32.404Z"
   },
   {
    "duration": 3367,
    "start_time": "2021-10-04T07:06:52.039Z"
   },
   {
    "duration": 18,
    "start_time": "2021-10-04T07:06:58.745Z"
   },
   {
    "duration": 31,
    "start_time": "2021-10-04T07:07:12.734Z"
   },
   {
    "duration": 21,
    "start_time": "2021-10-04T07:07:22.199Z"
   },
   {
    "duration": 4781,
    "start_time": "2021-10-04T07:07:26.854Z"
   },
   {
    "duration": 4893,
    "start_time": "2021-10-04T07:07:31.638Z"
   },
   {
    "duration": 4948,
    "start_time": "2021-10-04T07:07:36.533Z"
   },
   {
    "duration": 11,
    "start_time": "2021-10-04T07:07:53.221Z"
   },
   {
    "duration": 4,
    "start_time": "2021-10-04T07:08:06.667Z"
   },
   {
    "duration": 2129,
    "start_time": "2021-10-04T07:08:07.382Z"
   },
   {
    "duration": 2113,
    "start_time": "2021-10-04T07:08:09.513Z"
   },
   {
    "duration": 2107,
    "start_time": "2021-10-04T07:08:11.628Z"
   },
   {
    "duration": 5,
    "start_time": "2021-10-04T07:08:32.913Z"
   },
   {
    "duration": 2438,
    "start_time": "2021-10-04T07:08:33.410Z"
   },
   {
    "duration": 2109,
    "start_time": "2021-10-04T07:08:35.851Z"
   },
   {
    "duration": 21,
    "start_time": "2021-10-04T07:08:37.966Z"
   },
   {
    "duration": 12,
    "start_time": "2021-10-04T07:08:37.990Z"
   },
   {
    "duration": 2698,
    "start_time": "2021-10-04T07:08:41.916Z"
   },
   {
    "duration": 2842,
    "start_time": "2021-10-04T07:08:44.617Z"
   },
   {
    "duration": 2757,
    "start_time": "2021-10-04T07:08:47.466Z"
   },
   {
    "duration": 3527,
    "start_time": "2021-10-04T07:08:50.225Z"
   },
   {
    "duration": 3039,
    "start_time": "2021-10-04T07:08:53.755Z"
   },
   {
    "duration": 28,
    "start_time": "2021-10-04T07:09:01.113Z"
   },
   {
    "duration": 14,
    "start_time": "2021-10-04T07:09:03.487Z"
   },
   {
    "duration": 21,
    "start_time": "2021-10-04T07:09:11.050Z"
   },
   {
    "duration": 4,
    "start_time": "2021-10-04T07:09:17.470Z"
   },
   {
    "duration": 1542,
    "start_time": "2021-10-04T07:09:19.131Z"
   },
   {
    "duration": 6259,
    "start_time": "2021-10-04T07:09:23.152Z"
   },
   {
    "duration": 22,
    "start_time": "2021-10-04T07:09:36.928Z"
   },
   {
    "duration": 5,
    "start_time": "2021-10-04T07:09:38.283Z"
   },
   {
    "duration": 6,
    "start_time": "2021-10-04T07:09:47.454Z"
   },
   {
    "duration": 1591,
    "start_time": "2021-10-04T07:12:07.760Z"
   },
   {
    "duration": 941,
    "start_time": "2021-10-04T07:12:09.354Z"
   },
   {
    "duration": 3,
    "start_time": "2021-10-04T07:12:10.298Z"
   },
   {
    "duration": 441,
    "start_time": "2021-10-04T07:12:10.304Z"
   },
   {
    "duration": 269,
    "start_time": "2021-10-04T07:12:10.747Z"
   },
   {
    "duration": 454,
    "start_time": "2021-10-04T07:12:11.018Z"
   },
   {
    "duration": 4,
    "start_time": "2021-10-04T07:12:11.474Z"
   },
   {
    "duration": 20,
    "start_time": "2021-10-04T07:12:11.481Z"
   },
   {
    "duration": 8,
    "start_time": "2021-10-04T07:12:11.504Z"
   },
   {
    "duration": 8,
    "start_time": "2021-10-04T07:12:11.514Z"
   },
   {
    "duration": 41,
    "start_time": "2021-10-04T07:12:11.526Z"
   },
   {
    "duration": 26,
    "start_time": "2021-10-04T07:12:11.570Z"
   },
   {
    "duration": 16,
    "start_time": "2021-10-04T07:12:11.599Z"
   },
   {
    "duration": 61,
    "start_time": "2021-10-04T07:12:11.619Z"
   },
   {
    "duration": 3134,
    "start_time": "2021-10-04T07:12:11.683Z"
   },
   {
    "duration": 25,
    "start_time": "2021-10-04T07:12:14.821Z"
   },
   {
    "duration": 24,
    "start_time": "2021-10-04T07:12:14.848Z"
   },
   {
    "duration": 4556,
    "start_time": "2021-10-04T07:12:14.874Z"
   },
   {
    "duration": 4806,
    "start_time": "2021-10-04T07:12:19.432Z"
   },
   {
    "duration": 5005,
    "start_time": "2021-10-04T07:12:24.240Z"
   },
   {
    "duration": 21,
    "start_time": "2021-10-04T07:12:29.248Z"
   },
   {
    "duration": 22,
    "start_time": "2021-10-04T07:12:29.272Z"
   },
   {
    "duration": 2017,
    "start_time": "2021-10-04T07:12:29.300Z"
   },
   {
    "duration": 2294,
    "start_time": "2021-10-04T07:12:31.321Z"
   },
   {
    "duration": 1985,
    "start_time": "2021-10-04T07:12:33.617Z"
   },
   {
    "duration": 5,
    "start_time": "2021-10-04T07:12:35.604Z"
   },
   {
    "duration": 2496,
    "start_time": "2021-10-04T07:12:35.611Z"
   },
   {
    "duration": 2115,
    "start_time": "2021-10-04T07:12:38.109Z"
   },
   {
    "duration": 25,
    "start_time": "2021-10-04T07:12:40.226Z"
   },
   {
    "duration": 12,
    "start_time": "2021-10-04T07:12:40.267Z"
   },
   {
    "duration": 2952,
    "start_time": "2021-10-04T07:12:40.281Z"
   },
   {
    "duration": 4,
    "start_time": "2021-10-04T07:12:43.235Z"
   },
   {
    "duration": 15,
    "start_time": "2021-10-04T07:12:43.241Z"
   },
   {
    "duration": 7,
    "start_time": "2021-10-04T07:12:43.267Z"
   },
   {
    "duration": 15,
    "start_time": "2021-10-04T07:12:43.277Z"
   },
   {
    "duration": 12,
    "start_time": "2021-10-04T07:12:43.295Z"
   },
   {
    "duration": 19,
    "start_time": "2021-10-04T07:12:43.310Z"
   },
   {
    "duration": 30,
    "start_time": "2021-10-04T07:12:43.332Z"
   },
   {
    "duration": 5,
    "start_time": "2021-10-04T07:12:43.364Z"
   },
   {
    "duration": 28,
    "start_time": "2021-10-04T07:12:43.371Z"
   },
   {
    "duration": 13,
    "start_time": "2021-10-04T07:12:43.401Z"
   },
   {
    "duration": 1854,
    "start_time": "2021-10-04T07:12:43.416Z"
   },
   {
    "duration": 6315,
    "start_time": "2021-10-04T07:12:45.272Z"
   },
   {
    "duration": 365409,
    "start_time": "2021-10-04T07:12:51.590Z"
   },
   {
    "duration": 466,
    "start_time": "2021-10-04T07:18:57.002Z"
   },
   {
    "duration": 114590,
    "start_time": "2021-10-04T07:17:02.880Z"
   },
   {
    "duration": 114590,
    "start_time": "2021-10-04T07:17:02.882Z"
   },
   {
    "duration": 114495,
    "start_time": "2021-10-04T07:17:02.978Z"
   },
   {
    "duration": 114494,
    "start_time": "2021-10-04T07:17:02.981Z"
   },
   {
    "duration": 23,
    "start_time": "2021-10-04T07:26:51.289Z"
   },
   {
    "duration": 5,
    "start_time": "2021-10-04T07:26:52.587Z"
   },
   {
    "duration": 29,
    "start_time": "2021-10-04T07:28:18.879Z"
   },
   {
    "duration": 37936,
    "start_time": "2021-10-04T07:28:38.505Z"
   },
   {
    "duration": 39,
    "start_time": "2021-10-04T07:32:42.822Z"
   },
   {
    "duration": 8,
    "start_time": "2021-10-04T07:33:07.294Z"
   },
   {
    "duration": 39,
    "start_time": "2021-10-04T07:33:27.776Z"
   },
   {
    "duration": 13,
    "start_time": "2021-10-04T07:34:19.234Z"
   },
   {
    "duration": 37,
    "start_time": "2021-10-04T07:35:01.212Z"
   },
   {
    "duration": 15,
    "start_time": "2021-10-04T07:35:16.748Z"
   },
   {
    "duration": 32,
    "start_time": "2021-10-04T07:35:36.214Z"
   },
   {
    "duration": 13,
    "start_time": "2021-10-04T07:35:42.795Z"
   },
   {
    "duration": 35367,
    "start_time": "2021-10-04T07:35:50.478Z"
   },
   {
    "duration": 31,
    "start_time": "2021-10-04T07:39:47.684Z"
   },
   {
    "duration": 13,
    "start_time": "2021-10-04T07:39:56.136Z"
   },
   {
    "duration": 138774,
    "start_time": "2021-10-04T07:40:01.063Z"
   },
   {
    "duration": 6,
    "start_time": "2021-10-04T07:46:25.790Z"
   },
   {
    "duration": 15,
    "start_time": "2021-10-04T07:46:33.692Z"
   },
   {
    "duration": 2210,
    "start_time": "2021-10-04T07:47:10.942Z"
   },
   {
    "duration": 915,
    "start_time": "2021-10-04T07:47:13.155Z"
   },
   {
    "duration": 5,
    "start_time": "2021-10-04T07:47:14.073Z"
   },
   {
    "duration": 438,
    "start_time": "2021-10-04T07:47:14.081Z"
   },
   {
    "duration": 275,
    "start_time": "2021-10-04T07:47:14.522Z"
   },
   {
    "duration": 459,
    "start_time": "2021-10-04T07:47:14.800Z"
   },
   {
    "duration": 6,
    "start_time": "2021-10-04T07:47:15.262Z"
   },
   {
    "duration": 16,
    "start_time": "2021-10-04T07:47:15.272Z"
   },
   {
    "duration": 7,
    "start_time": "2021-10-04T07:47:15.291Z"
   },
   {
    "duration": 12,
    "start_time": "2021-10-04T07:47:15.301Z"
   },
   {
    "duration": 17,
    "start_time": "2021-10-04T07:47:15.315Z"
   },
   {
    "duration": 50,
    "start_time": "2021-10-04T07:47:15.335Z"
   },
   {
    "duration": 13,
    "start_time": "2021-10-04T07:47:15.388Z"
   },
   {
    "duration": 63,
    "start_time": "2021-10-04T07:47:15.404Z"
   },
   {
    "duration": 3085,
    "start_time": "2021-10-04T07:47:15.469Z"
   },
   {
    "duration": 27,
    "start_time": "2021-10-04T07:47:18.556Z"
   },
   {
    "duration": 12,
    "start_time": "2021-10-04T07:47:18.586Z"
   },
   {
    "duration": 4598,
    "start_time": "2021-10-04T07:47:18.600Z"
   },
   {
    "duration": 4728,
    "start_time": "2021-10-04T07:47:23.202Z"
   },
   {
    "duration": 4734,
    "start_time": "2021-10-04T07:47:27.933Z"
   },
   {
    "duration": 10,
    "start_time": "2021-10-04T07:47:32.669Z"
   },
   {
    "duration": 5,
    "start_time": "2021-10-04T07:47:32.682Z"
   },
   {
    "duration": 2058,
    "start_time": "2021-10-04T07:47:32.692Z"
   },
   {
    "duration": 2037,
    "start_time": "2021-10-04T07:47:34.753Z"
   },
   {
    "duration": 2026,
    "start_time": "2021-10-04T07:47:36.793Z"
   },
   {
    "duration": 5,
    "start_time": "2021-10-04T07:47:38.821Z"
   },
   {
    "duration": 2470,
    "start_time": "2021-10-04T07:47:38.828Z"
   },
   {
    "duration": 2119,
    "start_time": "2021-10-04T07:47:41.301Z"
   },
   {
    "duration": 22,
    "start_time": "2021-10-04T07:47:43.423Z"
   },
   {
    "duration": 24,
    "start_time": "2021-10-04T07:47:43.448Z"
   },
   {
    "duration": 2733,
    "start_time": "2021-10-04T07:47:43.474Z"
   },
   {
    "duration": 3,
    "start_time": "2021-10-04T07:47:46.209Z"
   },
   {
    "duration": 8,
    "start_time": "2021-10-04T07:47:46.215Z"
   },
   {
    "duration": 7,
    "start_time": "2021-10-04T07:47:46.225Z"
   },
   {
    "duration": 8,
    "start_time": "2021-10-04T07:47:46.234Z"
   },
   {
    "duration": 8,
    "start_time": "2021-10-04T07:47:46.269Z"
   },
   {
    "duration": 8,
    "start_time": "2021-10-04T07:47:46.280Z"
   },
   {
    "duration": 24,
    "start_time": "2021-10-04T07:47:46.291Z"
   },
   {
    "duration": 6,
    "start_time": "2021-10-04T07:47:46.317Z"
   },
   {
    "duration": 79,
    "start_time": "2021-10-04T07:47:46.325Z"
   },
   {
    "duration": 4,
    "start_time": "2021-10-04T07:47:46.406Z"
   },
   {
    "duration": 369117,
    "start_time": "2021-10-04T07:47:54.127Z"
   },
   {
    "duration": 138078,
    "start_time": "2021-10-04T07:54:03.246Z"
   },
   {
    "duration": 15,
    "start_time": "2021-10-04T07:56:21.327Z"
   },
   {
    "duration": 1496,
    "start_time": "2021-10-04T08:04:37.652Z"
   },
   {
    "duration": 912,
    "start_time": "2021-10-04T08:04:39.151Z"
   },
   {
    "duration": 3,
    "start_time": "2021-10-04T08:04:40.068Z"
   },
   {
    "duration": 452,
    "start_time": "2021-10-04T08:04:40.074Z"
   },
   {
    "duration": 278,
    "start_time": "2021-10-04T08:04:40.528Z"
   },
   {
    "duration": 467,
    "start_time": "2021-10-04T08:04:40.808Z"
   },
   {
    "duration": 4,
    "start_time": "2021-10-04T08:04:41.277Z"
   },
   {
    "duration": 31,
    "start_time": "2021-10-04T08:04:41.285Z"
   },
   {
    "duration": 18,
    "start_time": "2021-10-04T08:04:41.319Z"
   },
   {
    "duration": 36,
    "start_time": "2021-10-04T08:04:41.339Z"
   },
   {
    "duration": 30,
    "start_time": "2021-10-04T08:04:41.377Z"
   },
   {
    "duration": 41,
    "start_time": "2021-10-04T08:04:41.409Z"
   },
   {
    "duration": 17,
    "start_time": "2021-10-04T08:04:41.452Z"
   },
   {
    "duration": 28,
    "start_time": "2021-10-04T08:04:41.472Z"
   },
   {
    "duration": 3150,
    "start_time": "2021-10-04T08:04:41.502Z"
   },
   {
    "duration": 27,
    "start_time": "2021-10-04T08:04:44.654Z"
   },
   {
    "duration": 8,
    "start_time": "2021-10-04T08:04:44.683Z"
   },
   {
    "duration": 4625,
    "start_time": "2021-10-04T08:04:44.694Z"
   },
   {
    "duration": 4875,
    "start_time": "2021-10-04T08:04:49.321Z"
   },
   {
    "duration": 4802,
    "start_time": "2021-10-04T08:04:54.199Z"
   },
   {
    "duration": 10,
    "start_time": "2021-10-04T08:04:59.004Z"
   },
   {
    "duration": 5,
    "start_time": "2021-10-04T08:04:59.017Z"
   },
   {
    "duration": 2017,
    "start_time": "2021-10-04T08:04:59.027Z"
   },
   {
    "duration": 1994,
    "start_time": "2021-10-04T08:05:01.048Z"
   },
   {
    "duration": 2082,
    "start_time": "2021-10-04T08:05:03.044Z"
   },
   {
    "duration": 5,
    "start_time": "2021-10-04T08:05:05.128Z"
   },
   {
    "duration": 2488,
    "start_time": "2021-10-04T08:05:05.136Z"
   },
   {
    "duration": 2193,
    "start_time": "2021-10-04T08:05:07.627Z"
   },
   {
    "duration": 26,
    "start_time": "2021-10-04T08:05:09.823Z"
   },
   {
    "duration": 13,
    "start_time": "2021-10-04T08:05:09.867Z"
   },
   {
    "duration": 2761,
    "start_time": "2021-10-04T08:05:09.882Z"
   },
   {
    "duration": 4,
    "start_time": "2021-10-04T08:05:12.645Z"
   },
   {
    "duration": 196,
    "start_time": "2021-10-04T08:05:12.651Z"
   },
   {
    "duration": 174,
    "start_time": "2021-10-04T08:05:12.849Z"
   },
   {
    "duration": 335,
    "start_time": "2021-10-04T08:05:13.026Z"
   },
   {
    "duration": 31,
    "start_time": "2021-10-04T08:05:13.363Z"
   },
   {
    "duration": 54,
    "start_time": "2021-10-04T08:05:13.397Z"
   },
   {
    "duration": 210,
    "start_time": "2021-10-04T08:05:13.454Z"
   },
   {
    "duration": 586,
    "start_time": "2021-10-04T08:05:13.666Z"
   },
   {
    "duration": 717,
    "start_time": "2021-10-04T08:05:14.254Z"
   },
   {
    "duration": 297,
    "start_time": "2021-10-04T08:05:14.973Z"
   },
   {
    "duration": 1896,
    "start_time": "2021-10-04T08:05:15.272Z"
   },
   {
    "duration": 6305,
    "start_time": "2021-10-04T08:05:17.170Z"
   },
   {
    "duration": 366253,
    "start_time": "2021-10-04T08:05:23.477Z"
   },
   {
    "duration": 139821,
    "start_time": "2021-10-04T08:11:29.732Z"
   },
   {
    "duration": 22,
    "start_time": "2021-10-04T08:13:49.555Z"
   },
   {
    "duration": 6,
    "start_time": "2021-10-04T10:20:09.111Z"
   },
   {
    "duration": 1830,
    "start_time": "2021-10-04T13:19:10.568Z"
   },
   {
    "duration": 938,
    "start_time": "2021-10-04T13:19:12.401Z"
   },
   {
    "duration": 4,
    "start_time": "2021-10-04T13:19:13.342Z"
   },
   {
    "duration": 445,
    "start_time": "2021-10-04T13:19:13.348Z"
   },
   {
    "duration": 424,
    "start_time": "2021-10-04T13:19:13.795Z"
   },
   {
    "duration": 650,
    "start_time": "2021-10-04T13:19:14.223Z"
   },
   {
    "duration": 6,
    "start_time": "2021-10-04T13:19:14.876Z"
   },
   {
    "duration": 17,
    "start_time": "2021-10-04T13:19:14.888Z"
   },
   {
    "duration": 7,
    "start_time": "2021-10-04T13:19:14.908Z"
   },
   {
    "duration": 10,
    "start_time": "2021-10-04T13:19:14.917Z"
   },
   {
    "duration": 6,
    "start_time": "2021-10-04T13:19:14.969Z"
   },
   {
    "duration": 28,
    "start_time": "2021-10-04T13:19:14.978Z"
   },
   {
    "duration": 13,
    "start_time": "2021-10-04T13:19:15.008Z"
   },
   {
    "duration": 63,
    "start_time": "2021-10-04T13:19:15.024Z"
   },
   {
    "duration": 5455,
    "start_time": "2021-10-04T13:19:15.089Z"
   },
   {
    "duration": 32,
    "start_time": "2021-10-04T13:19:20.546Z"
   },
   {
    "duration": 10,
    "start_time": "2021-10-04T13:19:20.581Z"
   },
   {
    "duration": 4587,
    "start_time": "2021-10-04T13:19:20.594Z"
   },
   {
    "duration": 4812,
    "start_time": "2021-10-04T13:19:25.184Z"
   },
   {
    "duration": 4792,
    "start_time": "2021-10-04T13:19:29.999Z"
   },
   {
    "duration": 11,
    "start_time": "2021-10-04T13:19:34.793Z"
   },
   {
    "duration": 5,
    "start_time": "2021-10-04T13:19:34.807Z"
   },
   {
    "duration": 2093,
    "start_time": "2021-10-04T13:19:34.817Z"
   },
   {
    "duration": 2216,
    "start_time": "2021-10-04T13:19:36.913Z"
   },
   {
    "duration": 1991,
    "start_time": "2021-10-04T13:19:39.131Z"
   },
   {
    "duration": 5,
    "start_time": "2021-10-04T13:19:41.125Z"
   },
   {
    "duration": 2483,
    "start_time": "2021-10-04T13:19:41.132Z"
   },
   {
    "duration": 2136,
    "start_time": "2021-10-04T13:19:43.617Z"
   },
   {
    "duration": 34,
    "start_time": "2021-10-04T13:19:45.756Z"
   },
   {
    "duration": 13,
    "start_time": "2021-10-04T13:19:45.793Z"
   },
   {
    "duration": 21,
    "start_time": "2021-10-04T13:19:45.809Z"
   },
   {
    "duration": 6,
    "start_time": "2021-10-04T13:19:45.868Z"
   },
   {
    "duration": 35,
    "start_time": "2021-10-04T13:19:45.877Z"
   },
   {
    "duration": 5,
    "start_time": "2021-10-04T13:19:45.916Z"
   },
   {
    "duration": 1859,
    "start_time": "2021-10-04T13:19:45.924Z"
   },
   {
    "duration": 6417,
    "start_time": "2021-10-04T13:19:47.785Z"
   },
   {
    "duration": 371159,
    "start_time": "2021-10-04T13:19:54.204Z"
   },
   {
    "duration": 139222,
    "start_time": "2021-10-04T13:26:05.368Z"
   },
   {
    "duration": 15,
    "start_time": "2021-10-04T13:28:24.593Z"
   }
  ],
  "kernelspec": {
   "display_name": "Python 3 (ipykernel)",
   "language": "python",
   "name": "python3"
  },
  "language_info": {
   "codemirror_mode": {
    "name": "ipython",
    "version": 3
   },
   "file_extension": ".py",
   "mimetype": "text/x-python",
   "name": "python",
   "nbconvert_exporter": "python",
   "pygments_lexer": "ipython3",
   "version": "3.9.7"
  },
  "toc": {
   "base_numbering": 1,
   "nav_menu": {},
   "number_sections": true,
   "sideBar": true,
   "skip_h1_title": true,
   "title_cell": "Содержание",
   "title_sidebar": "Contents",
   "toc_cell": true,
   "toc_position": {
    "height": "calc(100% - 180px)",
    "left": "10px",
    "top": "150px",
    "width": "165px"
   },
   "toc_section_display": true,
   "toc_window_display": true
  }
 },
 "nbformat": 4,
 "nbformat_minor": 2
}
