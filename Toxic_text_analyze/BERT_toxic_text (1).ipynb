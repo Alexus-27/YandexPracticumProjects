{
 "cells": [
  {
   "cell_type": "markdown",
   "id": "b4833634",
   "metadata": {},
   "source": [
    "<h1>Содержание<span class=\"tocSkip\"></span></h1>\n",
    "<div class=\"toc\">\n",
    "    <ul class=\"toc-item\">\n",
    "        <li>\n",
    "            <span>\n",
    "                <a href=\"#Подготовка\" data-toc-modified-id=\"Подготовка-1\">\n",
    "                    <span class=\"toc-item-num\">1&nbsp;&nbsp;</span>Подготовка</a></span></li>\n",
    "        <li>\n",
    "            <span>\n",
    "                <a href=\"#Обучение\" data-toc-modified-id=\"Обучение-2\">\n",
    "                    <span class=\"toc-item-num\">2&nbsp;&nbsp;</span>Обучение</a></span></li>\n",
    "        <li>\n",
    "            <span>\n",
    "                <a href=\"#Выводы\" data-toc-modified-id=\"Выводы-3\">\n",
    "                    <span class=\"toc-item-num\">3&nbsp;&nbsp;</span>Выводы</a></span></li>\n",
    "        <li>\n",
    "            <span>\n",
    "                <a href=\"#Чек-лист-проверки\" data-toc-modified-id=\"Чек-лист-проверки-4\">\n",
    "                    <span class=\"toc-item-num\">4&nbsp;&nbsp;</span>Чек-лист проверки</a></span></li>\n",
    "    </ul>\n",
    "</div>"
   ]
  },
  {
   "cell_type": "markdown",
   "id": "a22c2da5",
   "metadata": {},
   "source": [
    "# Проект для «Викишоп» с BERT"
   ]
  },
  {
   "cell_type": "markdown",
   "id": "57302af5",
   "metadata": {},
   "source": [
    "Интернет-магазин «Викишоп» запускает новый сервис. Теперь пользователи могут редактировать и дополнять описания товаров, как в вики-сообществах. То есть клиенты предлагают свои правки и комментируют изменения других. Магазину нужен инструмент, который будет искать токсичные комментарии и отправлять их на модерацию. \n",
    "\n",
    "Обучите модель классифицировать комментарии на позитивные и негативные. В вашем распоряжении набор данных с разметкой о токсичности правок.\n",
    "\n",
    "Постройте модель со значением метрики качества *F1* не меньше 0.75. \n",
    "\n",
    "**Инструкция по выполнению проекта**\n",
    "\n",
    "1. Загрузите и подготовьте данные.\n",
    "2. Обучите разные модели. \n",
    "3. Сделайте выводы.\n",
    "\n",
    "**Описание данных**\n",
    "\n",
    "Данные находятся в файле `toxic_comments.csv`. Столбец *text* в нём содержит текст комментария, а *toxic* — целевой признак."
   ]
  },
  {
   "cell_type": "markdown",
   "id": "73aa3475",
   "metadata": {},
   "source": [
    "## Импорт и проверка данных"
   ]
  },
  {
   "cell_type": "markdown",
   "id": "40339bb5",
   "metadata": {},
   "source": [
    "Для того, чтобы использовать библиотеки, которых нет в `jupyter notebook` нам нужно скачать их. Мы будем использовать для данной процедуры команду `pip install`, которая обращается напрямую к пакету `pip` из `python`, отвечающую за скачивание недостпуных библиотек "
   ]
  },
  {
   "cell_type": "code",
   "execution_count": 1,
   "id": "cf0df024",
   "metadata": {},
   "outputs": [],
   "source": [
    "# !pip install transformers\n",
    "# !pip install torch\n",
    "# !pip install lightgbm"
   ]
  },
  {
   "cell_type": "markdown",
   "id": "e6e2cdaf",
   "metadata": {},
   "source": [
    "Далее нам нужно просто импортировать их из `jupyter notebook` с помощью команды `from` и `import`. Для нашего проекта нам понадобятся:\n",
    "- pandas - работа с данными \n",
    "- numpy - работа с математическими функции \n",
    "- torch - преобразование в тензоры (тензоры - данные для нейронных сетей)\n",
    "- transformers - архитектура нейронных сетей, которые мы можем в дальнейшем использовать\n",
    "- AutoTokenizer и AutoModel - токенайзер для создания токенов и модель для создания признаков для обучения модели\n",
    "- f1_score - метрика f1 для получения и сравнивания результатов \n",
    "- plt и sns - создание графиков  \n",
    "- train_test_split - работа с подготовкой данных \n",
    "- GridSearchCV - проверка работы модели с определенными параметрами\n",
    "- LogisticRegression, SVC, LGBMClassifier - модель для предсказывания \n",
    "- StandardScaler - контролируем масштабность данных"
   ]
  },
  {
   "cell_type": "code",
   "execution_count": 2,
   "id": "d5c8054a",
   "metadata": {},
   "outputs": [],
   "source": [
    "import pandas as pd\n",
    "import numpy as np\n",
    "import torch\n",
    "import transformers\n",
    "from transformers import AutoTokenizer, AutoModel\n",
    "from sklearn.utils import shuffle\n",
    "from tqdm import notebook\n",
    "from sklearn.metrics import f1_score\n",
    "import matplotlib.pyplot as plt\n",
    "import seaborn as sns\n",
    "from sklearn.model_selection import train_test_split, RandomizedSearchCV, KFold\n",
    "from sklearn.linear_model import LogisticRegression\n",
    "from sklearn.preprocessing import StandardScaler\n",
    "from sklearn.svm import SVC\n",
    "from lightgbm import LGBMClassifier\n",
    "\n",
    "%matplotlib inline"
   ]
  },
  {
   "cell_type": "markdown",
   "id": "6a52eaca",
   "metadata": {},
   "source": [
    "После импорта нужных библиотек, мы можем сохранить данные в таблицу, с помощью pandas. Для проверки выведем пять строк нашей таблицы:"
   ]
  },
  {
   "cell_type": "code",
   "execution_count": 3,
   "id": "5414fd00",
   "metadata": {},
   "outputs": [
    {
     "data": {
      "text/html": [
       "<div>\n",
       "<style scoped>\n",
       "    .dataframe tbody tr th:only-of-type {\n",
       "        vertical-align: middle;\n",
       "    }\n",
       "\n",
       "    .dataframe tbody tr th {\n",
       "        vertical-align: top;\n",
       "    }\n",
       "\n",
       "    .dataframe thead th {\n",
       "        text-align: right;\n",
       "    }\n",
       "</style>\n",
       "<table border=\"1\" class=\"dataframe\">\n",
       "  <thead>\n",
       "    <tr style=\"text-align: right;\">\n",
       "      <th></th>\n",
       "      <th>text</th>\n",
       "      <th>toxic</th>\n",
       "    </tr>\n",
       "  </thead>\n",
       "  <tbody>\n",
       "    <tr>\n",
       "      <th>0</th>\n",
       "      <td>Explanation\\nWhy the edits made under my usern...</td>\n",
       "      <td>0</td>\n",
       "    </tr>\n",
       "    <tr>\n",
       "      <th>1</th>\n",
       "      <td>D'aww! He matches this background colour I'm s...</td>\n",
       "      <td>0</td>\n",
       "    </tr>\n",
       "    <tr>\n",
       "      <th>2</th>\n",
       "      <td>Hey man, I'm really not trying to edit war. It...</td>\n",
       "      <td>0</td>\n",
       "    </tr>\n",
       "    <tr>\n",
       "      <th>3</th>\n",
       "      <td>\"\\nMore\\nI can't make any real suggestions on ...</td>\n",
       "      <td>0</td>\n",
       "    </tr>\n",
       "    <tr>\n",
       "      <th>4</th>\n",
       "      <td>You, sir, are my hero. Any chance you remember...</td>\n",
       "      <td>0</td>\n",
       "    </tr>\n",
       "  </tbody>\n",
       "</table>\n",
       "</div>"
      ],
      "text/plain": [
       "                                                text  toxic\n",
       "0  Explanation\\nWhy the edits made under my usern...      0\n",
       "1  D'aww! He matches this background colour I'm s...      0\n",
       "2  Hey man, I'm really not trying to edit war. It...      0\n",
       "3  \"\\nMore\\nI can't make any real suggestions on ...      0\n",
       "4  You, sir, are my hero. Any chance you remember...      0"
      ]
     },
     "execution_count": 3,
     "metadata": {},
     "output_type": "execute_result"
    }
   ],
   "source": [
    "path = 'https://code.s3.yandex.net/datasets/toxic_comments.csv'\n",
    "data_tweets = pd.read_csv(path)\n",
    "data_tweets.head()"
   ]
  },
  {
   "cell_type": "markdown",
   "id": "9a78b7df",
   "metadata": {},
   "source": [
    "Как видно, в нашей таблице всего два признака: text - запись твита, то, на чем мы будем обучать модель; toxic - токсичность текста (0 нормальный текст, 1 плохой текст). Далее предлагается проверить признаки на наличие пропусков и соответствие типам данных - используем метод `info()`"
   ]
  },
  {
   "cell_type": "code",
   "execution_count": 4,
   "id": "6f216e79",
   "metadata": {},
   "outputs": [
    {
     "name": "stdout",
     "output_type": "stream",
     "text": [
      "<class 'pandas.core.frame.DataFrame'>\n",
      "RangeIndex: 159571 entries, 0 to 159570\n",
      "Data columns (total 2 columns):\n",
      " #   Column  Non-Null Count   Dtype \n",
      "---  ------  --------------   ----- \n",
      " 0   text    159571 non-null  object\n",
      " 1   toxic   159571 non-null  int64 \n",
      "dtypes: int64(1), object(1)\n",
      "memory usage: 2.4+ MB\n"
     ]
    }
   ],
   "source": [
    "data_tweets.info()"
   ]
  },
  {
   "cell_type": "markdown",
   "id": "0c7b2e44",
   "metadata": {},
   "source": [
    "Как видно из результата операции, все данные в пригодном для работы виде, однако давайте еще проверим таблицу методом `describe()` - увидим насколько верны максимальное, среднее и минимальное значения для таблицы"
   ]
  },
  {
   "cell_type": "code",
   "execution_count": 5,
   "id": "b9ea4b6d",
   "metadata": {},
   "outputs": [
    {
     "data": {
      "text/html": [
       "<div>\n",
       "<style scoped>\n",
       "    .dataframe tbody tr th:only-of-type {\n",
       "        vertical-align: middle;\n",
       "    }\n",
       "\n",
       "    .dataframe tbody tr th {\n",
       "        vertical-align: top;\n",
       "    }\n",
       "\n",
       "    .dataframe thead th {\n",
       "        text-align: right;\n",
       "    }\n",
       "</style>\n",
       "<table border=\"1\" class=\"dataframe\">\n",
       "  <thead>\n",
       "    <tr style=\"text-align: right;\">\n",
       "      <th></th>\n",
       "      <th>toxic</th>\n",
       "    </tr>\n",
       "  </thead>\n",
       "  <tbody>\n",
       "    <tr>\n",
       "      <th>count</th>\n",
       "      <td>159571.000000</td>\n",
       "    </tr>\n",
       "    <tr>\n",
       "      <th>mean</th>\n",
       "      <td>0.101679</td>\n",
       "    </tr>\n",
       "    <tr>\n",
       "      <th>std</th>\n",
       "      <td>0.302226</td>\n",
       "    </tr>\n",
       "    <tr>\n",
       "      <th>min</th>\n",
       "      <td>0.000000</td>\n",
       "    </tr>\n",
       "    <tr>\n",
       "      <th>25%</th>\n",
       "      <td>0.000000</td>\n",
       "    </tr>\n",
       "    <tr>\n",
       "      <th>50%</th>\n",
       "      <td>0.000000</td>\n",
       "    </tr>\n",
       "    <tr>\n",
       "      <th>75%</th>\n",
       "      <td>0.000000</td>\n",
       "    </tr>\n",
       "    <tr>\n",
       "      <th>max</th>\n",
       "      <td>1.000000</td>\n",
       "    </tr>\n",
       "  </tbody>\n",
       "</table>\n",
       "</div>"
      ],
      "text/plain": [
       "               toxic\n",
       "count  159571.000000\n",
       "mean        0.101679\n",
       "std         0.302226\n",
       "min         0.000000\n",
       "25%         0.000000\n",
       "50%         0.000000\n",
       "75%         0.000000\n",
       "max         1.000000"
      ]
     },
     "execution_count": 5,
     "metadata": {},
     "output_type": "execute_result"
    }
   ],
   "source": [
    "data_tweets.describe()"
   ]
  },
  {
   "cell_type": "markdown",
   "id": "97e97443",
   "metadata": {},
   "source": [
    "Максимальное, среднее и минимальное значения в порядке, значит можно начинать анализировать таблицу и готовить ее к обучению модели. Однако давайте проверим уникальные значения тональности текста, вдруг там есть что-то, помимо 1 и 0. Также необходимо проверить пропуски на наличие пустот и пробелом."
   ]
  },
  {
   "cell_type": "code",
   "execution_count": 6,
   "id": "277dd0cf",
   "metadata": {},
   "outputs": [
    {
     "data": {
      "text/plain": [
       "array([0, 1], dtype=int64)"
      ]
     },
     "execution_count": 6,
     "metadata": {},
     "output_type": "execute_result"
    }
   ],
   "source": [
    "data_tweets['toxic'].unique()"
   ]
  },
  {
   "cell_type": "code",
   "execution_count": 7,
   "id": "f126b76f",
   "metadata": {},
   "outputs": [
    {
     "data": {
      "text/html": [
       "<div>\n",
       "<style scoped>\n",
       "    .dataframe tbody tr th:only-of-type {\n",
       "        vertical-align: middle;\n",
       "    }\n",
       "\n",
       "    .dataframe tbody tr th {\n",
       "        vertical-align: top;\n",
       "    }\n",
       "\n",
       "    .dataframe thead th {\n",
       "        text-align: right;\n",
       "    }\n",
       "</style>\n",
       "<table border=\"1\" class=\"dataframe\">\n",
       "  <thead>\n",
       "    <tr style=\"text-align: right;\">\n",
       "      <th></th>\n",
       "      <th>text</th>\n",
       "      <th>toxic</th>\n",
       "    </tr>\n",
       "  </thead>\n",
       "  <tbody>\n",
       "  </tbody>\n",
       "</table>\n",
       "</div>"
      ],
      "text/plain": [
       "Empty DataFrame\n",
       "Columns: [text, toxic]\n",
       "Index: []"
      ]
     },
     "execution_count": 7,
     "metadata": {},
     "output_type": "execute_result"
    }
   ],
   "source": [
    "data_tweets.query('toxic == \"\" or toxic == \" \"')"
   ]
  },
  {
   "cell_type": "markdown",
   "id": "0c307f24",
   "metadata": {},
   "source": [
    "## Работа с размерностью датасета и подготовка выборок"
   ]
  },
  {
   "cell_type": "markdown",
   "id": "17d5a9e2",
   "metadata": {},
   "source": [
    "Далее мы проверим размерность классов и попробуем подобрать необходимые размеры для наших выборок. "
   ]
  },
  {
   "cell_type": "code",
   "execution_count": 8,
   "id": "2d84366f",
   "metadata": {},
   "outputs": [
    {
     "name": "stderr",
     "output_type": "stream",
     "text": [
      "C:\\Users\\limit\\anaconda3\\lib\\site-packages\\seaborn\\_decorators.py:36: FutureWarning: Pass the following variable as a keyword arg: x. From version 0.12, the only valid positional argument will be `data`, and passing other arguments without an explicit keyword will result in an error or misinterpretation.\n",
      "  warnings.warn(\n"
     ]
    },
    {
     "data": {
      "text/plain": [
       "[Text(0, 0, 'positive'), Text(1, 0, 'negative')]"
      ]
     },
     "execution_count": 8,
     "metadata": {},
     "output_type": "execute_result"
    },
    {
     "data": {
      "image/png": "[encoded data removed]",
      "text/plain": [
       "<Figure size 432x288 with 1 Axes>"
      ]
     },
     "metadata": {
      "needs_background": "light"
     },
     "output_type": "display_data"
    }
   ],
   "source": [
    "ax = sns.countplot(data_tweets.toxic)\n",
    "plt.xlabel('tweets classification review')\n",
    "ax.set_xticklabels(['positive', 'negative'])"
   ]
  },
  {
   "cell_type": "code",
   "execution_count": 9,
   "id": "38b6ee81",
   "metadata": {},
   "outputs": [
    {
     "name": "stdout",
     "output_type": "stream",
     "text": [
      "Баланс классов в датасете такой, что на 1 негативный твит, приходится 8.8349 твитов\n"
     ]
    }
   ],
   "source": [
    "balance_classes = np.round(np.bincount(data_tweets.toxic)[0]/np.bincount(data_tweets.toxic)[1],4)\n",
    "print(f\"Баланс классов в датасете такой, что на 1 негативный твит, приходится {balance_classes} твитов\")"
   ]
  },
  {
   "cell_type": "markdown",
   "id": "ab376019",
   "metadata": {},
   "source": [
    "Как видно, расслоение огромное, тут разница в 8.8 раз, что сильно сказалось бы на качестве модели, однако стоит отметить занимательный момент: каждый твит может выражать одну и ту же мысль совершенно разными словами. При удалении большого количества твитов есть возможность потерять близкие к уникальным сочетания слов, а это повлечет за собой менее уверенную в своих прогнозах модель. Поэтому мы ничего не будем делать с данным расслоением данных. \n",
    "\n",
    "Стоит отметить, что мы разобьем обучающую выборку на 2000 элементов, в целях ускорения работы программы. \n",
    "\n",
    "Для того, чтобы не потерять баланс классов мы применим функцию `stratify`, которая учтет разницу в классах наших данных. В качестве аргумента приведем признак, разница классов в котором мы хотим сохранить. "
   ]
  },
  {
   "cell_type": "code",
   "execution_count": 10,
   "id": "4d41d30e",
   "metadata": {},
   "outputs": [
    {
     "name": "stdout",
     "output_type": "stream",
     "text": [
      "(157975, 2) (1596, 2)\n"
     ]
    }
   ],
   "source": [
    "data_train, data_valid = train_test_split(data_tweets, \n",
    "                                          test_size=0.01, \n",
    "                                          stratify=data_tweets.toxic,\n",
    "                                          random_state=69)\n",
    "\n",
    "print(data_train.shape, data_valid.shape)"
   ]
  },
  {
   "cell_type": "markdown",
   "id": "37605747",
   "metadata": {},
   "source": [
    "Раздление на выборки равно 99 к 1, так как обучающую выборку мы все равно поделим при помощи функции `sample`, а вот валидационную оставим в текущем состоянии, так мы сможем сохранить реальный баланс классов в выборке.\n",
    "\n",
    "Для проверки лучше всего проверить количество элементов в выборках и их разброс в классах."
   ]
  },
  {
   "cell_type": "code",
   "execution_count": 11,
   "id": "b6fe76d3",
   "metadata": {},
   "outputs": [
    {
     "name": "stderr",
     "output_type": "stream",
     "text": [
      "C:\\Users\\limit\\anaconda3\\lib\\site-packages\\seaborn\\_decorators.py:36: FutureWarning: Pass the following variable as a keyword arg: x. From version 0.12, the only valid positional argument will be `data`, and passing other arguments without an explicit keyword will result in an error or misinterpretation.\n",
      "  warnings.warn(\n"
     ]
    },
    {
     "data": {
      "text/plain": [
       "[Text(0, 0, 'positive'), Text(1, 0, 'negative')]"
      ]
     },
     "execution_count": 11,
     "metadata": {},
     "output_type": "execute_result"
    },
    {
     "data": {
      "image/png": "[encoded data removed]",
      "text/plain": [
       "<Figure size 432x288 with 1 Axes>"
      ]
     },
     "metadata": {
      "needs_background": "light"
     },
     "output_type": "display_data"
    }
   ],
   "source": [
    "ax = sns.countplot(data_train.toxic)\n",
    "plt.xlabel('tweets classification review in train')\n",
    "ax.set_xticklabels(['positive', 'negative'])"
   ]
  },
  {
   "cell_type": "code",
   "execution_count": 12,
   "id": "c4ea913e",
   "metadata": {},
   "outputs": [
    {
     "name": "stderr",
     "output_type": "stream",
     "text": [
      "C:\\Users\\limit\\anaconda3\\lib\\site-packages\\seaborn\\_decorators.py:36: FutureWarning: Pass the following variable as a keyword arg: x. From version 0.12, the only valid positional argument will be `data`, and passing other arguments without an explicit keyword will result in an error or misinterpretation.\n",
      "  warnings.warn(\n"
     ]
    },
    {
     "data": {
      "text/plain": [
       "[Text(0, 0, 'positive'), Text(1, 0, 'negative')]"
      ]
     },
     "execution_count": 12,
     "metadata": {},
     "output_type": "execute_result"
    },
    {
     "data": {
      "image/png": "[encoded data removed]",
      "text/plain": [
       "<Figure size 432x288 with 1 Axes>"
      ]
     },
     "metadata": {
      "needs_background": "light"
     },
     "output_type": "display_data"
    }
   ],
   "source": [
    "ax_1 = sns.countplot(data_valid.toxic)\n",
    "plt.xlabel('tweets classification review in valid')\n",
    "ax_1.set_xticklabels(['positive', 'negative'])"
   ]
  },
  {
   "cell_type": "code",
   "execution_count": 13,
   "id": "52245482",
   "metadata": {},
   "outputs": [
    {
     "name": "stdout",
     "output_type": "stream",
     "text": [
      "Количество строк в toxic_train по классам: [141912  16063]\n",
      "Количество строк в toxic_valid по классам: [1434  162]\n",
      "На 1 негативный твит в обучающей выборке приходится 8.8347 твитов\n",
      "На 1 негативный твит в валидационной выборке приходится 8.8519 твитов\n"
     ]
    }
   ],
   "source": [
    "balance_classes_train = np.round(np.bincount(data_train.toxic)[0]/np.bincount(data_train.toxic)[1],4)\n",
    "balance_classes_valid = np.round(np.bincount(data_valid.toxic)[0]/np.bincount(data_valid.toxic)[1],4)\n",
    "\n",
    "print(f\"Количество строк в toxic_train по классам: {np.bincount(data_train.toxic)}\")\n",
    "print(f\"Количество строк в toxic_valid по классам: {np.bincount(data_valid.toxic)}\")\n",
    "print(f\"На 1 негативный твит в обучающей выборке приходится {balance_classes_train} твитов\")\n",
    "print(f\"На 1 негативный твит в валидационной выборке приходится {balance_classes_valid} твитов\")"
   ]
  },
  {
   "cell_type": "markdown",
   "id": "6df11dfd",
   "metadata": {},
   "source": [
    "Как видно, баланс классов такой же, как и у изначальной выборке, а это значит, что деление данных при помощи метода train_test_split с применением функции stratify удачно прошло. \n",
    "\n",
    "Пришло время делить обучающую выборку на сокращенную выборку, в которой будет 2000 объектов, твитов. Применяем функцию sample с аргументом random_state, ведь с данным аргументом подвыборка сохранит похожий на весь датасет баланс классов"
   ]
  },
  {
   "cell_type": "code",
   "execution_count": 14,
   "id": "8e69c231",
   "metadata": {},
   "outputs": [
    {
     "name": "stdout",
     "output_type": "stream",
     "text": [
      "На 1 негативный твит в обучающей разделенной выборке приходится 8.8519 твитов\n"
     ]
    }
   ],
   "source": [
    "data_sampled_train_poss = data_train.query('toxic == 0').sample(1434, random_state=69).reset_index(drop=True)\n",
    "data_sampled_train_neg = data_train.query('toxic == 1').sample(162, random_state=69).reset_index(drop=True)\n",
    "\n",
    "data_sampled_train = shuffle(pd.concat([data_sampled_train_poss,data_sampled_train_neg])).reset_index(drop=True)\n",
    "balance_classes_train_sampled = np.round(np.bincount(data_sampled_train.toxic)[0]/np.bincount(data_sampled_train.toxic)[1],4)\n",
    "print(f\"На 1 негативный твит в обучающей разделенной выборке приходится {balance_classes_train_sampled} твитов\")"
   ]
  },
  {
   "cell_type": "markdown",
   "id": "316433fc",
   "metadata": {},
   "source": [
    "Последний шаг - разбить данные на features - признаки, на которых мы будем обучаться и target - целевой признак, который будет учить наши модели, к какому результату стремиться"
   ]
  },
  {
   "cell_type": "code",
   "execution_count": 15,
   "id": "4a88ceaa",
   "metadata": {},
   "outputs": [],
   "source": [
    "target_train = data_sampled_train['toxic']\n",
    "target_valid = data_valid['toxic']\n",
    "\n",
    "text_train = data_sampled_train.drop('toxic', axis=1)\n",
    "text_valid = data_valid.drop('toxic', axis=1)\n"
   ]
  },
  {
   "cell_type": "markdown",
   "id": "da866c14",
   "metadata": {},
   "source": [
    "Данные поделены на выборки, соблюдены балансы классов и мы готовы к обучению модели. Стоит сразу отметить, что мы будем преобразовывать все данные, то есть и обучающую и валидационные выборки, а это значит, что тот код, который будет дублироваться мы будем оборачивать в функции. "
   ]
  },
  {
   "cell_type": "markdown",
   "id": "99257e98",
   "metadata": {},
   "source": [
    "## Обучение BERT"
   ]
  },
  {
   "cell_type": "markdown",
   "id": "953a3e9a",
   "metadata": {},
   "source": [
    "Вот мы и приступаем к обучению. Первым делом нам надо импортировать и сохранить нашу BERT модель и токенайзер. Для этого воспользуемся методами с библиотеки transformers: AutoTokenizer и BertModel. В качестве аргумента указываем откуда брать данные для модели и токенайзера. В качестве предобученной модели мы будем брать `distilbert`, которая гораздо легче и быстрее стандартной `BERT`, что нам и послужит хорошей монетой, ведь на данный момент нам нужна скорость. "
   ]
  },
  {
   "cell_type": "code",
   "execution_count": 16,
   "id": "28cbbf03",
   "metadata": {},
   "outputs": [
    {
     "name": "stderr",
     "output_type": "stream",
     "text": [
      "Some weights of the model checkpoint at distilbert-base-uncased were not used when initializing DistilBertModel: ['vocab_layer_norm.bias', 'vocab_transform.bias', 'vocab_projector.weight', 'vocab_projector.bias', 'vocab_layer_norm.weight', 'vocab_transform.weight']\n",
      "- This IS expected if you are initializing DistilBertModel from the checkpoint of a model trained on another task or with another architecture (e.g. initializing a BertForSequenceClassification model from a BertForPreTraining model).\n",
      "- This IS NOT expected if you are initializing DistilBertModel from the checkpoint of a model that you expect to be exactly identical (initializing a BertForSequenceClassification model from a BertForSequenceClassification model).\n"
     ]
    }
   ],
   "source": [
    "model_class, tokenizer, pretrained_weights = (\n",
    "    transformers.DistilBertModel,\n",
    "    transformers.DistilBertTokenizer,\n",
    "    \"distilbert-base-uncased\"\n",
    ")\n",
    "\n",
    "tokenizer = tokenizer.from_pretrained(pretrained_weights)\n",
    "\n",
    "model = model_class.from_pretrained(pretrained_weights)"
   ]
  },
  {
   "cell_type": "markdown",
   "id": "6649c448",
   "metadata": {},
   "source": [
    "Модели импортированы, теперь займемся тектом, ведь модель не понимает его так, как человек, для нее надо перевести текст в числовой формат, который она может обрабатывать и делать на их основании предсказания. Для этого первым делом поймем, насколько длинные у нас есть твиты: твиты закидываем в токенайзер, каждый символ считаем как токен и получаем максимальную длину токена. Все длины твитов сохраняем в списке, который в дальнейшем проицируем в графике"
   ]
  },
  {
   "cell_type": "code",
   "execution_count": 17,
   "id": "e524b719",
   "metadata": {},
   "outputs": [],
   "source": [
    "def tokens_length(data):\n",
    "    token_lens = []\n",
    "    for txt in data.values:\n",
    "        tokens = tokenizer.encode(str(txt), max_length=1024, truncation=True)\n",
    "        token_lens.append(len(tokens))\n",
    "    return token_lens"
   ]
  },
  {
   "cell_type": "code",
   "execution_count": 18,
   "id": "21f76ae1",
   "metadata": {},
   "outputs": [],
   "source": [
    "token_lens_train = tokens_length(text_train)\n",
    "token_lens_valid = tokens_length(text_valid)"
   ]
  },
  {
   "cell_type": "code",
   "execution_count": 19,
   "id": "8f46ee5e",
   "metadata": {},
   "outputs": [
    {
     "name": "stderr",
     "output_type": "stream",
     "text": [
      "C:\\Users\\limit\\anaconda3\\lib\\site-packages\\seaborn\\distributions.py:2619: FutureWarning: `distplot` is a deprecated function and will be removed in a future version. Please adapt your code to use either `displot` (a figure-level function with similar flexibility) or `histplot` (an axes-level function for histograms).\n",
      "  warnings.warn(msg, FutureWarning)\n"
     ]
    },
    {
     "data": {
      "image/png": "[encoded data removed]",
      "text/plain": [
       "<Figure size 432x288 with 1 Axes>"
      ]
     },
     "metadata": {
      "needs_background": "light"
     },
     "output_type": "display_data"
    }
   ],
   "source": [
    "sns.distplot(token_lens_train)\n",
    "plt.xlim([0, 540]);\n",
    "plt.xlabel('Token count');"
   ]
  },
  {
   "cell_type": "code",
   "execution_count": 20,
   "id": "0cb734f4",
   "metadata": {},
   "outputs": [
    {
     "name": "stderr",
     "output_type": "stream",
     "text": [
      "C:\\Users\\limit\\anaconda3\\lib\\site-packages\\seaborn\\distributions.py:2619: FutureWarning: `distplot` is a deprecated function and will be removed in a future version. Please adapt your code to use either `displot` (a figure-level function with similar flexibility) or `histplot` (an axes-level function for histograms).\n",
      "  warnings.warn(msg, FutureWarning)\n"
     ]
    },
    {
     "data": {
      "image/png": "[encoded data removed]",
      "text/plain": [
       "<Figure size 432x288 with 1 Axes>"
      ]
     },
     "metadata": {
      "needs_background": "light"
     },
     "output_type": "display_data"
    }
   ],
   "source": [
    "sns.distplot(token_lens_valid)\n",
    "plt.xlim([0, 540]);\n",
    "plt.xlabel('Token count');"
   ]
  },
  {
   "cell_type": "markdown",
   "id": "f058f62b",
   "metadata": {},
   "source": [
    "Как видно, в основном длина колеблется на уровне 90-100 токенов, но максимальное значение равняется 500 (дальше почти ничего нет). Значение 500 запоминаем и идем дальше - создаем токенизированный список данных, где все токены будут иметь длину 500, с добавлением спецаильный токенов: символы пунктуации, начало и конец. Без такого процесса наша модель просто не сможет запуститься, ведь длина токенов на одинакова. Также создадим предупреждающую маску, которая будет хранить в себе данные 1 и 0, по длине токенов, где 1 - естественная длина, 0 - длина, заполненная для достижения максимальной длины "
   ]
  },
  {
   "cell_type": "code",
   "execution_count": 21,
   "id": "724f80b1",
   "metadata": {},
   "outputs": [],
   "source": [
    "def tokenize_text(data):\n",
    "    tokenized = [tokenizer.encode(str(x), add_special_tokens=True, max_length = 512, truncation=True) for x in data.values]\n",
    "    return tokenized\n",
    "\n",
    "def do_padded_attention_mask(tokenized_text):\n",
    "    max_len = 0\n",
    "    for i in tokenized_text:\n",
    "        if len(i) > max_len:\n",
    "            max_len = len(i)\n",
    "\n",
    "    padded = np.array([i + [0]*(max_len - len(i)) for i in tokenized_text])\n",
    "    attention_mask = np.where(padded != 0, 1, 0)\n",
    "    \n",
    "    return padded, attention_mask"
   ]
  },
  {
   "cell_type": "code",
   "execution_count": 22,
   "id": "5ad42507",
   "metadata": {},
   "outputs": [
    {
     "name": "stdout",
     "output_type": "stream",
     "text": [
      "(1596, 512) (1596, 512)\n"
     ]
    }
   ],
   "source": [
    "tokenized_train = tokenize_text(text_train)\n",
    "padded_train, attention_mask_train = do_padded_attention_mask(tokenized_train)\n",
    "\n",
    "tokenized_valid = tokenize_text(text_valid)\n",
    "padded_valid, attention_mask_valid = do_padded_attention_mask(tokenized_valid)\n",
    "\n",
    "print(padded_train.shape, padded_valid.shape)"
   ]
  },
  {
   "cell_type": "markdown",
   "id": "b29f8852",
   "metadata": {},
   "source": [
    "токенизированный текст готов, как и предупреждающая маска, а значит мы можем приступить к созданию функции BERT_work, которая будет находить вложения по преобразованному тексту и предупреждающей маске. Все это мы будем делать с помощью деления нашей таблицы на части по n количество токенов в каждой связке (все зависит от того, сколько элементов у нас поступает на обучение в padded и attention_mask) и чтобы все данные были учтены, мы делим нашу выборку на батчи равных частей, на которое можно поделить количество элементов в выборке, которые мы потом преобразуем в тензоры (тензоры - специальные данные, которые записываются в виде матрицы, удобной для чтения модели понимания текста). Далее мы обучаем эти данные в модели и сохраняем результат, который в дальнейшем отправим на обучение нашим алгоритмам."
   ]
  },
  {
   "cell_type": "code",
   "execution_count": 23,
   "id": "18d8faff",
   "metadata": {},
   "outputs": [],
   "source": [
    "def BERT_work(padded, attention_mask, batch_size):\n",
    "    embeddings = []\n",
    "    model.cpu()\n",
    "\n",
    "    for i in notebook.tqdm(range(padded.shape[0] // batch_size)):\n",
    "            batch = torch.LongTensor(padded[batch_size*i:batch_size*(i+1)]).cpu() \n",
    "            attention_mask_batch = torch.LongTensor(attention_mask[batch_size*i:batch_size*(i+1)]).cpu()\n",
    "\n",
    "            with torch.no_grad():\n",
    "                batch_embeddings = model(batch, attention_mask=attention_mask_batch)\n",
    "\n",
    "            embeddings.append(batch_embeddings[0][:,0,:].numpy())\n",
    "            \n",
    "    return embeddings"
   ]
  },
  {
   "cell_type": "code",
   "execution_count": 24,
   "id": "743637e3",
   "metadata": {},
   "outputs": [
    {
     "data": {
      "application/vnd.jupyter.widget-view+json": {
       "model_id": "10e42ce95a1447d68f6866085ca2f084",
       "version_major": 2,
       "version_minor": 0
      },
      "text/plain": [
       "  0%|          | 0/133 [00:00<?, ?it/s]"
      ]
     },
     "metadata": {},
     "output_type": "display_data"
    },
    {
     "data": {
      "application/vnd.jupyter.widget-view+json": {
       "model_id": "652c3655ac5f4952ab732dde4261d43b",
       "version_major": 2,
       "version_minor": 0
      },
      "text/plain": [
       "  0%|          | 0/133 [00:00<?, ?it/s]"
      ]
     },
     "metadata": {},
     "output_type": "display_data"
    }
   ],
   "source": [
    "embeddings_train = BERT_work(padded_train, attention_mask_train, 12)\n",
    "embeddings_valid = BERT_work(padded_valid, attention_mask_valid, 12)"
   ]
  },
  {
   "cell_type": "markdown",
   "id": "704bae92",
   "metadata": {},
   "source": [
    "## Создание выборок для алгоритмов ML и обучение алгоритмов"
   ]
  },
  {
   "cell_type": "markdown",
   "id": "52532b62",
   "metadata": {},
   "source": [
    "После долгого выполнения преобразования текста в удобный для алгоритма машинного обучения вид, мы можем создать переменные для признаков, которые в дальнейшем будут обучать наши алгоритмы (целевые признаки возьмем из пункта 1)"
   ]
  },
  {
   "cell_type": "code",
   "execution_count": 25,
   "id": "c6fde2c4",
   "metadata": {},
   "outputs": [
    {
     "name": "stdout",
     "output_type": "stream",
     "text": [
      "(1596, 768) (1596, 768)\n"
     ]
    }
   ],
   "source": [
    "features_train = np.concatenate(embeddings_train)\n",
    "features_valid = np.concatenate(embeddings_valid)\n",
    "print(features_train.shape, features_valid.shape)"
   ]
  },
  {
   "cell_type": "markdown",
   "id": "05b8b771",
   "metadata": {},
   "source": [
    "Поняв, что размер признаков верен, мы запускаем наши ранее импортированные алгоритмы и проверяем результаты метрикой f1_score. Логика проверки состоит в том, чтобы понять, как часто наша модель ошибается при прогнозе позитивности и негативности твитов, ведь в формуле используются следующие значения: точность предсказания и доля предсказаний.\n",
    "\n",
    "Также, во многих моделях классификации реализован механизм учета дисбаланса классов, что нам и понадобится, ведь разница между количеством положительных и отрицательных твитов равняется 8.6 к 1. Для того, чтобы учесть данный дисбаланс, мы создадим словарь внутри нашего random_search, который будет переберать в себе веса для элемента токсичности текста."
   ]
  },
  {
   "cell_type": "markdown",
   "id": "1a590cc4",
   "metadata": {},
   "source": [
    "\n",
    "Для проверки наиболее подходящих гиперпараметров попробуем запустить метод `RandomizedSearchCV`, который пройдется по ним - `param_grid`. `cv` - сколько тестов сделать по модели, с разбиением всей выборки на определенное количество частей, каждая из которых станет валидационной для проверки. Также стоит отметить, что мы будем проверять качество в `RandomizedSearchCV` по метрике `f1_score`. После прогона гиперпараметров, мы запомним модель, с лучшими гиперпараметрами и будем получать предсказания уже с этой модели. Лучший результат и лучшую модель мы вернем "
   ]
  },
  {
   "cell_type": "code",
   "execution_count": 26,
   "id": "4fef82ed",
   "metadata": {},
   "outputs": [],
   "source": [
    "def select_best_model_res(params, model, x_train, x_test, y_train, y_test):\n",
    "    cv = KFold(n_splits=5, shuffle=True, random_state=42)\n",
    "    grid = RandomizedSearchCV(model, params, \n",
    "                              n_iter=1, scoring='f1_macro', cv=cv, random_state=69)\n",
    "    grid.fit(x_train, y_train)\n",
    "    best_grid = grid.best_estimator_\n",
    "    \n",
    "    predictions_best_grid = best_grid.predict(x_test)\n",
    "    \n",
    "    return f1_score(y_test, predictions_best_grid, average='macro'), best_grid"
   ]
  },
  {
   "cell_type": "code",
   "execution_count": 27,
   "id": "262ea44f",
   "metadata": {},
   "outputs": [
    {
     "name": "stdout",
     "output_type": "stream",
     "text": [
      "0.7904592179348107 LogisticRegression(C=10, class_weight={0: 1, 1: 3}, max_iter=941,\n",
      "                   random_state=49)\n"
     ]
    }
   ],
   "source": [
    "random_grid_lr = {\n",
    "    'penalty': ['l1', 'l2'],\n",
    "    'C': [0.001, 0.01, 0.1, 1, 10],\n",
    "    'solver': ['lbfgs', 'liblinear'],\n",
    "    'max_iter': [i for i in range(100, 1000)],\n",
    "    'class_weight': [{0: 1, 1: 2}, {0: 1, 1: 3}, {0: 1, 1: 3.5}, {0: 1, 1: 4}]\n",
    "    }\n",
    "\n",
    "model_log_reg = LogisticRegression(random_state=49)\n",
    "log_reg_score, log_reg_best_grid = select_best_model_res(random_grid_lr, model_log_reg, features_train, features_valid, target_train, target_valid)\n",
    "\n",
    "print(log_reg_score, log_reg_best_grid)"
   ]
  },
  {
   "cell_type": "markdown",
   "id": "fae0b451",
   "metadata": {},
   "source": [
    "Как выяснилось, наилучшим вариантов являются: `C` = 10, веса = 1 и 3 соответственно, максимальное количество итераций = 941. Результат равен 79 процентам, что лучше того, сколько нам дали для порога - 75, но давайте проверим другие модели: SVC и градиентный бустинг"
   ]
  },
  {
   "cell_type": "code",
   "execution_count": 28,
   "id": "1f8f598d",
   "metadata": {},
   "outputs": [
    {
     "name": "stdout",
     "output_type": "stream",
     "text": [
      "0.8085329330192255 SVC(C=10, class_weight={0: 1, 1: 3}, kernel='sigmoid', max_iter=766,\n",
      "    random_state=69)\n"
     ]
    },
    {
     "name": "stderr",
     "output_type": "stream",
     "text": [
      "C:\\Users\\limit\\anaconda3\\lib\\site-packages\\sklearn\\svm\\_base.py:255: ConvergenceWarning: Solver terminated early (max_iter=766).  Consider pre-processing your data with StandardScaler or MinMaxScaler.\n",
      "  warnings.warn('Solver terminated early (max_iter=%i).'\n"
     ]
    }
   ],
   "source": [
    "model_svc = SVC(random_state=69)\n",
    "\n",
    "random_grid_svc = {\n",
    "    'kernel': ['linear', 'poly', 'rbf', 'sigmoid'],\n",
    "    'C': [0.001, 0.01, 0.1, 1, 10],\n",
    "    'max_iter': [i for i in range(100, 1000)],\n",
    "    'class_weight': [{0: 1, 1: 2}, {0: 1, 1: 3}, {0: 1, 1: 3.5}, {0: 1, 1: 4}]\n",
    "    }\n",
    "\n",
    "svc_score, svc_best_grid = select_best_model_res(random_grid_svc, model_svc, features_train, features_valid, target_train, target_valid)\n",
    "\n",
    "print(svc_score, svc_best_grid)"
   ]
  },
  {
   "cell_type": "markdown",
   "id": "f3341b92",
   "metadata": {},
   "source": [
    "\n",
    "Самая результативная модель получилась с такими гиперпараметрами: С = 10, веса = 1 и 3, ядро = сигмоида и максимальное количество итераций = 756. Результат на данной модели выше 81, что довольно лучше логистической регрессии. Последняя модель - градиентный бустинг:"
   ]
  },
  {
   "cell_type": "code",
   "execution_count": 29,
   "id": "0fd226d1",
   "metadata": {},
   "outputs": [
    {
     "name": "stdout",
     "output_type": "stream",
     "text": [
      "0.7738902298247455 LGBMClassifier(class_weight={0: 1, 1: 3}, learning_rate=1.0, max_depth=13,\n",
      "               n_estimators=75, random_state=69)\n"
     ]
    }
   ],
   "source": [
    "model_lgbm = LGBMClassifier(random_state=69)\n",
    "\n",
    "random_grid_lgbm = {\n",
    "    'n_estimators': [i for i in range(30, 150, 5)],\n",
    "    'max_depth': [i for i in range(5, 15)],\n",
    "    'learning_rate': [0.0001, 0.001, 0.01, 0.1, 1.0, 10],\n",
    "    'class_weight': [{0: 1, 1: 1}, {0: 1, 1: 2}, {0: 1, 1: 3}, {0: 1, 1: 3.5}, {0: 1, 1: 4}]\n",
    "    }\n",
    "\n",
    "lgbm_score, lgbm_best_grid = select_best_model_res(random_grid_lgbm, model_lgbm, features_train, features_valid, target_train, target_valid)\n",
    "\n",
    "print(lgbm_score, lgbm_best_grid)"
   ]
  },
  {
   "cell_type": "markdown",
   "id": "5a678251",
   "metadata": {},
   "source": [
    "\n",
    "К сожалению результат не самый лучший: веса = 1 и 3, скорость обучения = 1, максимальная глубина = 13, а количество деревьев = 75. Результат равен 77.4, что хуже логистической на 1.6 процента"
   ]
  },
  {
   "cell_type": "markdown",
   "id": "0be3b794",
   "metadata": {},
   "source": [
    "## Выводы"
   ]
  },
  {
   "cell_type": "markdown",
   "id": "1a49897a",
   "metadata": {},
   "source": [
    "В заключении работы хочу сказать, что преобразование текста с помощью `BERT` гораздо точнее, также требуется гораздо меньше данных, ведь нейросеть уже предварительно обучена, поэтому нам требуется не весь датасет, а лишь некоторая его часть. Разделение на токены и предупреждающую маску происходят благодаря токенайзера нашей модели - `BERT_tokenizer`. Получение тензоров для дальнейшего обучения получаются благодаря нашей модели `BERT_model`, который в качестве данных берет части выборки - batch, размер которых мы регулируем. Дальнейшее обучение происходит благодаря трем алгоритмам: логистическая регессия, svc и градиентный бустинг. Улучшение данных моделей показало, что лучшей моделью является модель SVC, которая дет  результат = 81% качества, что лучше логистической регрессии, с результатом 79% и алгоритма градиентного бустинга, который дает результат равный 77.4%. В итоге для бизнеса лучше всего выбрать модель SVC.\n",
    "\n",
    "Короткий экскурс по тому, что было сделано в нашем проекте:\n",
    "- данные получены и сохранены в переменной data_tweets\n",
    "- таблица проверена на наличие ошибок и неточностей\n",
    "- проверена размерность положительных и отрицательных твитов\n",
    "- подготовлена размеренная выборка для обучения нейросети\n",
    "- тексты поделены на токены и на их основе создана маска предупреждения \n",
    "- получены тензоры для дальнейшего обучения нашей логистической регрессии\n",
    "- обучены модели\n",
    "- выбрана модель SVC, так как дает самый лучший результат"
   ]
  },
  {
   "cell_type": "code",
   "execution_count": null,
   "id": "039ca8ec",
   "metadata": {},
   "outputs": [],
   "source": []
  }
 ],
 "metadata": {
  "ExecuteTimeLog": [
   {
    "duration": 598,
    "start_time": "2021-12-06T15:41:46.972Z"
   },
   {
    "duration": 3,
    "start_time": "2021-12-06T15:41:58.645Z"
   },
   {
    "duration": 4338,
    "start_time": "2021-12-06T15:42:00.007Z"
   },
   {
    "duration": 2266,
    "start_time": "2021-12-06T15:42:12.200Z"
   },
   {
    "duration": 1661,
    "start_time": "2021-12-06T15:42:17.770Z"
   },
   {
    "duration": 31,
    "start_time": "2021-12-06T15:42:38.006Z"
   },
   {
    "duration": 16,
    "start_time": "2021-12-06T15:42:39.146Z"
   },
   {
    "duration": 5,
    "start_time": "2021-12-06T15:42:43.611Z"
   },
   {
    "duration": 131,
    "start_time": "2021-12-06T15:42:54.056Z"
   },
   {
    "duration": 151,
    "start_time": "2021-12-06T15:42:57.437Z"
   },
   {
    "duration": 3,
    "start_time": "2021-12-06T16:16:49.298Z"
   },
   {
    "duration": 4497,
    "start_time": "2021-12-06T16:16:49.304Z"
   },
   {
    "duration": 2511,
    "start_time": "2021-12-06T16:16:53.803Z"
   },
   {
    "duration": 2030,
    "start_time": "2021-12-06T16:16:56.316Z"
   },
   {
    "duration": 33,
    "start_time": "2021-12-06T16:16:58.347Z"
   },
   {
    "duration": 20,
    "start_time": "2021-12-06T16:16:58.382Z"
   },
   {
    "duration": 6,
    "start_time": "2021-12-06T16:16:58.404Z"
   },
   {
    "duration": 55,
    "start_time": "2021-12-06T16:16:58.412Z"
   },
   {
    "duration": 192,
    "start_time": "2021-12-06T16:16:58.471Z"
   },
   {
    "duration": 5,
    "start_time": "2021-12-06T16:16:58.665Z"
   },
   {
    "duration": 95,
    "start_time": "2021-12-06T16:16:58.671Z"
   },
   {
    "duration": 174,
    "start_time": "2021-12-06T16:16:58.767Z"
   },
   {
    "duration": 162,
    "start_time": "2021-12-06T16:16:58.943Z"
   },
   {
    "duration": 8,
    "start_time": "2021-12-06T16:16:59.107Z"
   },
   {
    "duration": 55,
    "start_time": "2021-12-06T16:16:59.116Z"
   },
   {
    "duration": 6,
    "start_time": "2021-12-06T16:16:59.172Z"
   },
   {
    "duration": 18787,
    "start_time": "2021-12-06T16:16:59.180Z"
   },
   {
    "duration": 4,
    "start_time": "2021-12-06T16:17:17.969Z"
   },
   {
    "duration": 4455,
    "start_time": "2021-12-06T16:17:17.975Z"
   },
   {
    "duration": 277,
    "start_time": "2021-12-06T16:17:22.432Z"
   },
   {
    "duration": 278,
    "start_time": "2021-12-06T16:17:22.712Z"
   },
   {
    "duration": 5,
    "start_time": "2021-12-06T16:17:22.992Z"
   },
   {
    "duration": 4632,
    "start_time": "2021-12-06T16:17:22.999Z"
   },
   {
    "duration": 4,
    "start_time": "2021-12-06T16:17:27.635Z"
   },
   {
    "duration": 5,
    "start_time": "2021-12-06T17:02:59.216Z"
   },
   {
    "duration": 3,
    "start_time": "2021-12-06T17:06:03.847Z"
   },
   {
    "duration": 4552,
    "start_time": "2021-12-06T17:06:03.858Z"
   },
   {
    "duration": 1607,
    "start_time": "2021-12-06T17:06:08.412Z"
   },
   {
    "duration": 1704,
    "start_time": "2021-12-06T17:06:10.021Z"
   },
   {
    "duration": 41,
    "start_time": "2021-12-06T17:06:11.727Z"
   },
   {
    "duration": 21,
    "start_time": "2021-12-06T17:06:11.770Z"
   },
   {
    "duration": 7,
    "start_time": "2021-12-06T17:06:11.793Z"
   },
   {
    "duration": 26,
    "start_time": "2021-12-06T17:06:11.802Z"
   },
   {
    "duration": 201,
    "start_time": "2021-12-06T17:06:11.831Z"
   },
   {
    "duration": 4,
    "start_time": "2021-12-06T17:06:12.034Z"
   },
   {
    "duration": 83,
    "start_time": "2021-12-06T17:06:12.040Z"
   },
   {
    "duration": 172,
    "start_time": "2021-12-06T17:06:12.125Z"
   },
   {
    "duration": 166,
    "start_time": "2021-12-06T17:06:12.299Z"
   },
   {
    "duration": 7,
    "start_time": "2021-12-06T17:06:12.466Z"
   },
   {
    "duration": 38,
    "start_time": "2021-12-06T17:06:12.475Z"
   },
   {
    "duration": 5,
    "start_time": "2021-12-06T17:06:12.515Z"
   },
   {
    "duration": 6543,
    "start_time": "2021-12-06T17:06:12.522Z"
   },
   {
    "duration": 4,
    "start_time": "2021-12-06T17:06:19.067Z"
   },
   {
    "duration": 4210,
    "start_time": "2021-12-06T17:06:19.073Z"
   },
   {
    "duration": 270,
    "start_time": "2021-12-06T17:06:23.284Z"
   },
   {
    "duration": 272,
    "start_time": "2021-12-06T17:06:23.556Z"
   },
   {
    "duration": 6,
    "start_time": "2021-12-06T17:06:23.830Z"
   },
   {
    "duration": 4653,
    "start_time": "2021-12-06T17:06:23.838Z"
   },
   {
    "duration": 4,
    "start_time": "2021-12-06T17:06:28.494Z"
   },
   {
    "duration": 107,
    "start_time": "2021-12-06T17:45:58.727Z"
   }
  ],
  "kernelspec": {
   "display_name": "Python 3 (ipykernel)",
   "language": "python",
   "name": "python3"
  },
  "language_info": {
   "codemirror_mode": {
    "name": "ipython",
    "version": 3
   },
   "file_extension": ".py",
   "mimetype": "text/x-python",
   "name": "python",
   "nbconvert_exporter": "python",
   "pygments_lexer": "ipython3",
   "version": "3.9.7"
  },
  "toc": {
   "base_numbering": 1,
   "nav_menu": {},
   "number_sections": true,
   "sideBar": true,
   "skip_h1_title": true,
   "title_cell": "Table of Contents",
   "title_sidebar": "Contents",
   "toc_cell": false,
   "toc_position": {},
   "toc_section_display": true,
   "toc_window_display": true
  }
 },
 "nbformat": 4,
 "nbformat_minor": 5
}
